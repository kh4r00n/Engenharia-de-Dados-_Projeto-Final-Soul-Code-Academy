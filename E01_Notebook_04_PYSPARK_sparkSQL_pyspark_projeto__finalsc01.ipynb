{
  "nbformat": 4,
  "nbformat_minor": 0,
  "metadata": {
    "colab": {
      "name": "pyspark_projeto _finalsc01.ipynb",
      "provenance": []
    },
    "kernelspec": {
      "name": "python3",
      "display_name": "Python 3"
    },
    "language_info": {
      "name": "python"
    }
  },
  "cells": [
    {
      "cell_type": "markdown",
      "metadata": {
        "id": "Vq4sMWY1poaW"
      },
      "source": [
        "#ETL - Dados Hospitalizados/Óbitos"
      ]
    },
    {
      "cell_type": "markdown",
      "metadata": {
        "id": "_ZES_COZqQck"
      },
      "source": [
        "## Extract"
      ]
    },
    {
      "cell_type": "markdown",
      "metadata": {
        "id": "oIzlIdnSRTh7"
      },
      "source": [
        "Importando Bibliotecas"
      ]
    },
    {
      "cell_type": "code",
      "metadata": {
        "id": "x4RWcL03RC7O"
      },
      "source": [
        "import os\n",
        "from google.cloud import storage\n",
        "import io\n",
        "from io import BytesIO"
      ],
      "execution_count": null,
      "outputs": []
    },
    {
      "cell_type": "markdown",
      "metadata": {
        "id": "vpjJuY0uRZKZ"
      },
      "source": [
        "Utilizando chave de Serviço do GCP"
      ]
    },
    {
      "cell_type": "code",
      "metadata": {
        "id": "mM6BXAsjRZ76"
      },
      "source": [
        "# Criando o client object\n",
        "\n",
        "storage_client = storage.Client.from_service_account_json('/content/projeto-finalsc01-b94741ddd471.json')"
      ],
      "execution_count": null,
      "outputs": []
    },
    {
      "cell_type": "markdown",
      "metadata": {
        "id": "kDLTP9pgR0Dq"
      },
      "source": [
        "Acessando Bucket do Projeto"
      ]
    },
    {
      "cell_type": "code",
      "metadata": {
        "id": "7BEvq7avRxWq"
      },
      "source": [
        "BUCKET_NAME = 'projeto-finalsc01'\n",
        "bucket = storage_client.get_bucket(BUCKET_NAME)"
      ],
      "execution_count": null,
      "outputs": []
    },
    {
      "cell_type": "markdown",
      "metadata": {
        "id": "-ns_I-JJR8Wh"
      },
      "source": [
        "Listando Arquivos do Bucket"
      ]
    },
    {
      "cell_type": "code",
      "metadata": {
        "colab": {
          "base_uri": "https://localhost:8080/"
        },
        "id": "HH2wDovJR9da",
        "outputId": "531f4dab-2777-4d50-aa14-aa78be9dcef7"
      },
      "source": [
        "filename = list(bucket.list_blobs(prefix=''))\n",
        "for name in filename:\n",
        "  print(name.name)"
      ],
      "execution_count": null,
      "outputs": [
        {
          "output_type": "stream",
          "name": "stdout",
          "text": [
            "chave/\n",
            "chave/projeto-finalsc01-b94741ddd471.json\n",
            "dados-brutos/\n",
            "dados-brutos/COVID-19_Vaccinations_in_the_United_States_County.csv\n",
            "dados-brutos/COVID_US_HOSPITALIZATION.json\n",
            "dados-tratados/\n",
            "dados-tratados/Casos_Hospitalizacoes_Obitos_Cidade.csv\n",
            "dados-tratados/Fairfield_County_Hospitalizacoes.csv\n",
            "dados-tratados/Fairfield_County_vacinacao.csv\n",
            "dados-tratados/Hartford_County_Hospitalizacoes.csv\n",
            "dados-tratados/Hartford_County_vacinacao.csv\n",
            "dados-tratados/Litchfield_County_Hospitalizacoes.csv\n",
            "dados-tratados/Middlesex_County_Hospitalizacoes.csv\n",
            "dados-tratados/New_Haven_County_Hospitalizacoes.csv\n",
            "dados-tratados/New_Haven_County_vacinacao.csv\n",
            "dados-tratados/New_London_County_Hospitalizacoes.csv\n",
            "dados-tratados/New_London_County_vacinacao.csv\n",
            "dados-tratados/Tolland_County_Hospitalizacoes.csv\n",
            "dados-tratados/Vacinacoes_nos_EUA.csv\n",
            "dados-tratados/Windham_County_Hospitalizacoes.csv\n",
            "dados-tratados/vacina_8_condados_us.csv\n",
            "dados_tratados_condados/\n",
            "dados_tratados_condados/Condados_Hospitalizados.csv\n",
            "dados_tratados_condados/Condados_Vacinacao.csv\n",
            "dados_tratados_condados/Fairfield_County_Hospitalizados.csv\n",
            "dados_tratados_condados/Fairfield_County_Vacinacao.csv\n",
            "dados_tratados_condados/Hartford_County_Hospitalizados.csv\n",
            "dados_tratados_condados/Hartford_County_Vacinacao.csv\n",
            "dados_tratados_condados/New_Haven_County_Hospitalizados.csv\n",
            "dados_tratados_condados/New_Haven_County_Vacinacao.csv\n"
          ]
        }
      ]
    },
    {
      "cell_type": "markdown",
      "metadata": {
        "id": "D2sKy-KbS8K5"
      },
      "source": [
        "Carregando Datasets"
      ]
    },
    {
      "cell_type": "code",
      "metadata": {
        "id": "AxlvqnJUS7q5"
      },
      "source": [
        "# Carregando Datasets CSV New_Haven_County\n",
        "\n",
        "blop = bucket.blob('dados-tratados/New_Haven_County_Hospitalizacoes.csv')\n",
        "data = blop.download_as_string()"
      ],
      "execution_count": null,
      "outputs": []
    },
    {
      "cell_type": "code",
      "metadata": {
        "id": "LQax8thIW8xs"
      },
      "source": [
        "# Carregando Datasets CSV Fairfield_County\n",
        "\n",
        "blop = bucket.blob('dados-tratados/Fairfield_County_Hospitalizacoes.csv')\n",
        "data2 = blop.download_as_string()"
      ],
      "execution_count": null,
      "outputs": []
    },
    {
      "cell_type": "code",
      "metadata": {
        "id": "QUzmCLPkdh6W"
      },
      "source": [
        "# Carregando Datasets CSV Hartford_County\n",
        "\n",
        "blop = bucket.blob('dados-tratados/Hartford_County_Hospitalizacoes.csv')\n",
        "data3 = blop.download_as_string()"
      ],
      "execution_count": null,
      "outputs": []
    },
    {
      "cell_type": "markdown",
      "metadata": {
        "id": "Awt-p1W0prxN"
      },
      "source": [
        "## Transform and Load com Pandas"
      ]
    },
    {
      "cell_type": "code",
      "metadata": {
        "id": "8gHqi7l4dwPP"
      },
      "source": [
        "import pandas as pd"
      ],
      "execution_count": null,
      "outputs": []
    },
    {
      "cell_type": "markdown",
      "metadata": {
        "id": "h0TELxo7mUSC"
      },
      "source": [
        "Criando DataFrame"
      ]
    },
    {
      "cell_type": "code",
      "metadata": {
        "colab": {
          "base_uri": "https://localhost:8080/",
          "height": 791
        },
        "id": "ZpzK9bMNeDij",
        "outputId": "a91d376f-f0a7-4394-ed0d-831d253dfb24"
      },
      "source": [
        "df1 = pd.read_csv(io.BytesIO(data), encoding='utf-8', sep=',', parse_dates = ['Data_Atualizacao'], dayfirst = True)\n",
        "\n",
        "df1"
      ],
      "execution_count": null,
      "outputs": [
        {
          "output_type": "execute_result",
          "data": {
            "text/html": [
              "<div>\n",
              "<style scoped>\n",
              "    .dataframe tbody tr th:only-of-type {\n",
              "        vertical-align: middle;\n",
              "    }\n",
              "\n",
              "    .dataframe tbody tr th {\n",
              "        vertical-align: top;\n",
              "    }\n",
              "\n",
              "    .dataframe thead th {\n",
              "        text-align: right;\n",
              "    }\n",
              "</style>\n",
              "<table border=\"1\" class=\"dataframe\">\n",
              "  <thead>\n",
              "    <tr style=\"text-align: right;\">\n",
              "      <th></th>\n",
              "      <th>Data_Atualizacao</th>\n",
              "      <th>Condado_Codigo</th>\n",
              "      <th>Condado</th>\n",
              "      <th>Casos_Total</th>\n",
              "      <th>Casos_Confirmados</th>\n",
              "      <th>Casos_Provaveis</th>\n",
              "      <th>Casos_Total_Taxa</th>\n",
              "      <th>Casos_Hospitalizados</th>\n",
              "      <th>Obitos_Total</th>\n",
              "      <th>Obitos_Confirmados</th>\n",
              "      <th>Obitos_Provaveis</th>\n",
              "    </tr>\n",
              "  </thead>\n",
              "  <tbody>\n",
              "    <tr>\n",
              "      <th>0</th>\n",
              "      <td>2020-06-02</td>\n",
              "      <td>5</td>\n",
              "      <td>New Haven County</td>\n",
              "      <td>11548</td>\n",
              "      <td>11161</td>\n",
              "      <td>387</td>\n",
              "      <td>1347.0</td>\n",
              "      <td>150</td>\n",
              "      <td>990</td>\n",
              "      <td>843</td>\n",
              "      <td>147</td>\n",
              "    </tr>\n",
              "    <tr>\n",
              "      <th>1</th>\n",
              "      <td>2020-06-03</td>\n",
              "      <td>5</td>\n",
              "      <td>New Haven County</td>\n",
              "      <td>11582</td>\n",
              "      <td>11191</td>\n",
              "      <td>391</td>\n",
              "      <td>1350.0</td>\n",
              "      <td>128</td>\n",
              "      <td>992</td>\n",
              "      <td>845</td>\n",
              "      <td>147</td>\n",
              "    </tr>\n",
              "    <tr>\n",
              "      <th>2</th>\n",
              "      <td>2020-06-04</td>\n",
              "      <td>5</td>\n",
              "      <td>New Haven County</td>\n",
              "      <td>11673</td>\n",
              "      <td>11282</td>\n",
              "      <td>391</td>\n",
              "      <td>1361.0</td>\n",
              "      <td>127</td>\n",
              "      <td>999</td>\n",
              "      <td>855</td>\n",
              "      <td>144</td>\n",
              "    </tr>\n",
              "    <tr>\n",
              "      <th>3</th>\n",
              "      <td>2020-06-05</td>\n",
              "      <td>5</td>\n",
              "      <td>New Haven County</td>\n",
              "      <td>11817</td>\n",
              "      <td>11429</td>\n",
              "      <td>388</td>\n",
              "      <td>1378.0</td>\n",
              "      <td>121</td>\n",
              "      <td>1007</td>\n",
              "      <td>865</td>\n",
              "      <td>142</td>\n",
              "    </tr>\n",
              "    <tr>\n",
              "      <th>4</th>\n",
              "      <td>2020-06-06</td>\n",
              "      <td>5</td>\n",
              "      <td>New Haven County</td>\n",
              "      <td>11828</td>\n",
              "      <td>11441</td>\n",
              "      <td>387</td>\n",
              "      <td>1379.0</td>\n",
              "      <td>110</td>\n",
              "      <td>1010</td>\n",
              "      <td>867</td>\n",
              "      <td>143</td>\n",
              "    </tr>\n",
              "    <tr>\n",
              "      <th>...</th>\n",
              "      <td>...</td>\n",
              "      <td>...</td>\n",
              "      <td>...</td>\n",
              "      <td>...</td>\n",
              "      <td>...</td>\n",
              "      <td>...</td>\n",
              "      <td>...</td>\n",
              "      <td>...</td>\n",
              "      <td>...</td>\n",
              "      <td>...</td>\n",
              "      <td>...</td>\n",
              "    </tr>\n",
              "    <tr>\n",
              "      <th>447</th>\n",
              "      <td>2021-11-11</td>\n",
              "      <td>5</td>\n",
              "      <td>New Haven County</td>\n",
              "      <td>106641</td>\n",
              "      <td>95256</td>\n",
              "      <td>11385</td>\n",
              "      <td>12476.0</td>\n",
              "      <td>80</td>\n",
              "      <td>2250</td>\n",
              "      <td>1940</td>\n",
              "      <td>310</td>\n",
              "    </tr>\n",
              "    <tr>\n",
              "      <th>448</th>\n",
              "      <td>2021-11-12</td>\n",
              "      <td>5</td>\n",
              "      <td>New Haven County</td>\n",
              "      <td>106748</td>\n",
              "      <td>95362</td>\n",
              "      <td>11386</td>\n",
              "      <td>12489.0</td>\n",
              "      <td>69</td>\n",
              "      <td>2250</td>\n",
              "      <td>1940</td>\n",
              "      <td>310</td>\n",
              "    </tr>\n",
              "    <tr>\n",
              "      <th>449</th>\n",
              "      <td>2021-11-15</td>\n",
              "      <td>5</td>\n",
              "      <td>New Haven County</td>\n",
              "      <td>107237</td>\n",
              "      <td>95846</td>\n",
              "      <td>11391</td>\n",
              "      <td>12546.0</td>\n",
              "      <td>70</td>\n",
              "      <td>2256</td>\n",
              "      <td>1946</td>\n",
              "      <td>310</td>\n",
              "    </tr>\n",
              "    <tr>\n",
              "      <th>450</th>\n",
              "      <td>2021-11-16</td>\n",
              "      <td>5</td>\n",
              "      <td>New Haven County</td>\n",
              "      <td>107382</td>\n",
              "      <td>95961</td>\n",
              "      <td>11421</td>\n",
              "      <td>12563.0</td>\n",
              "      <td>71</td>\n",
              "      <td>2256</td>\n",
              "      <td>1946</td>\n",
              "      <td>310</td>\n",
              "    </tr>\n",
              "    <tr>\n",
              "      <th>451</th>\n",
              "      <td>2021-11-17</td>\n",
              "      <td>5</td>\n",
              "      <td>New Haven County</td>\n",
              "      <td>107605</td>\n",
              "      <td>96177</td>\n",
              "      <td>11428</td>\n",
              "      <td>12589.0</td>\n",
              "      <td>74</td>\n",
              "      <td>2258</td>\n",
              "      <td>1947</td>\n",
              "      <td>311</td>\n",
              "    </tr>\n",
              "  </tbody>\n",
              "</table>\n",
              "<p>452 rows × 11 columns</p>\n",
              "</div>"
            ],
            "text/plain": [
              "    Data_Atualizacao  Condado_Codigo  ... Obitos_Confirmados  Obitos_Provaveis\n",
              "0         2020-06-02               5  ...                843               147\n",
              "1         2020-06-03               5  ...                845               147\n",
              "2         2020-06-04               5  ...                855               144\n",
              "3         2020-06-05               5  ...                865               142\n",
              "4         2020-06-06               5  ...                867               143\n",
              "..               ...             ...  ...                ...               ...\n",
              "447       2021-11-11               5  ...               1940               310\n",
              "448       2021-11-12               5  ...               1940               310\n",
              "449       2021-11-15               5  ...               1946               310\n",
              "450       2021-11-16               5  ...               1946               310\n",
              "451       2021-11-17               5  ...               1947               311\n",
              "\n",
              "[452 rows x 11 columns]"
            ]
          },
          "metadata": {},
          "execution_count": 10
        }
      ]
    },
    {
      "cell_type": "markdown",
      "metadata": {
        "id": "-Saz9OZ4mWR4"
      },
      "source": [
        "Droppando colunas"
      ]
    },
    {
      "cell_type": "code",
      "metadata": {
        "id": "jRfF_ciBel3-"
      },
      "source": [
        "df1.drop(['Casos_Provaveis', 'Casos_Total', 'Casos_Provaveis', 'Casos_Total_Taxa', 'Obitos_Total', 'Obitos_Provaveis', 'Condado_Codigo'],axis=1, inplace=True)"
      ],
      "execution_count": null,
      "outputs": []
    },
    {
      "cell_type": "code",
      "metadata": {
        "colab": {
          "base_uri": "https://localhost:8080/",
          "height": 423
        },
        "id": "BmjVnRE7fTj9",
        "outputId": "ed64c8a0-539e-4344-d964-1e26b64c5da6"
      },
      "source": [
        "df1"
      ],
      "execution_count": null,
      "outputs": [
        {
          "output_type": "execute_result",
          "data": {
            "text/html": [
              "<div>\n",
              "<style scoped>\n",
              "    .dataframe tbody tr th:only-of-type {\n",
              "        vertical-align: middle;\n",
              "    }\n",
              "\n",
              "    .dataframe tbody tr th {\n",
              "        vertical-align: top;\n",
              "    }\n",
              "\n",
              "    .dataframe thead th {\n",
              "        text-align: right;\n",
              "    }\n",
              "</style>\n",
              "<table border=\"1\" class=\"dataframe\">\n",
              "  <thead>\n",
              "    <tr style=\"text-align: right;\">\n",
              "      <th></th>\n",
              "      <th>Data_Atualizacao</th>\n",
              "      <th>Condado</th>\n",
              "      <th>Casos_Confirmados</th>\n",
              "      <th>Casos_Hospitalizados</th>\n",
              "      <th>Obitos_Confirmados</th>\n",
              "    </tr>\n",
              "  </thead>\n",
              "  <tbody>\n",
              "    <tr>\n",
              "      <th>0</th>\n",
              "      <td>2020-06-02</td>\n",
              "      <td>New Haven County</td>\n",
              "      <td>11161</td>\n",
              "      <td>150</td>\n",
              "      <td>843</td>\n",
              "    </tr>\n",
              "    <tr>\n",
              "      <th>1</th>\n",
              "      <td>2020-06-03</td>\n",
              "      <td>New Haven County</td>\n",
              "      <td>11191</td>\n",
              "      <td>128</td>\n",
              "      <td>845</td>\n",
              "    </tr>\n",
              "    <tr>\n",
              "      <th>2</th>\n",
              "      <td>2020-06-04</td>\n",
              "      <td>New Haven County</td>\n",
              "      <td>11282</td>\n",
              "      <td>127</td>\n",
              "      <td>855</td>\n",
              "    </tr>\n",
              "    <tr>\n",
              "      <th>3</th>\n",
              "      <td>2020-06-05</td>\n",
              "      <td>New Haven County</td>\n",
              "      <td>11429</td>\n",
              "      <td>121</td>\n",
              "      <td>865</td>\n",
              "    </tr>\n",
              "    <tr>\n",
              "      <th>4</th>\n",
              "      <td>2020-06-06</td>\n",
              "      <td>New Haven County</td>\n",
              "      <td>11441</td>\n",
              "      <td>110</td>\n",
              "      <td>867</td>\n",
              "    </tr>\n",
              "    <tr>\n",
              "      <th>...</th>\n",
              "      <td>...</td>\n",
              "      <td>...</td>\n",
              "      <td>...</td>\n",
              "      <td>...</td>\n",
              "      <td>...</td>\n",
              "    </tr>\n",
              "    <tr>\n",
              "      <th>447</th>\n",
              "      <td>2021-11-11</td>\n",
              "      <td>New Haven County</td>\n",
              "      <td>95256</td>\n",
              "      <td>80</td>\n",
              "      <td>1940</td>\n",
              "    </tr>\n",
              "    <tr>\n",
              "      <th>448</th>\n",
              "      <td>2021-11-12</td>\n",
              "      <td>New Haven County</td>\n",
              "      <td>95362</td>\n",
              "      <td>69</td>\n",
              "      <td>1940</td>\n",
              "    </tr>\n",
              "    <tr>\n",
              "      <th>449</th>\n",
              "      <td>2021-11-15</td>\n",
              "      <td>New Haven County</td>\n",
              "      <td>95846</td>\n",
              "      <td>70</td>\n",
              "      <td>1946</td>\n",
              "    </tr>\n",
              "    <tr>\n",
              "      <th>450</th>\n",
              "      <td>2021-11-16</td>\n",
              "      <td>New Haven County</td>\n",
              "      <td>95961</td>\n",
              "      <td>71</td>\n",
              "      <td>1946</td>\n",
              "    </tr>\n",
              "    <tr>\n",
              "      <th>451</th>\n",
              "      <td>2021-11-17</td>\n",
              "      <td>New Haven County</td>\n",
              "      <td>96177</td>\n",
              "      <td>74</td>\n",
              "      <td>1947</td>\n",
              "    </tr>\n",
              "  </tbody>\n",
              "</table>\n",
              "<p>452 rows × 5 columns</p>\n",
              "</div>"
            ],
            "text/plain": [
              "    Data_Atualizacao  ... Obitos_Confirmados\n",
              "0         2020-06-02  ...                843\n",
              "1         2020-06-03  ...                845\n",
              "2         2020-06-04  ...                855\n",
              "3         2020-06-05  ...                865\n",
              "4         2020-06-06  ...                867\n",
              "..               ...  ...                ...\n",
              "447       2021-11-11  ...               1940\n",
              "448       2021-11-12  ...               1940\n",
              "449       2021-11-15  ...               1946\n",
              "450       2021-11-16  ...               1946\n",
              "451       2021-11-17  ...               1947\n",
              "\n",
              "[452 rows x 5 columns]"
            ]
          },
          "metadata": {},
          "execution_count": 12
        }
      ]
    },
    {
      "cell_type": "markdown",
      "metadata": {
        "id": "xQowmRoYmZYX"
      },
      "source": [
        "Criando colunas com casos diários"
      ]
    },
    {
      "cell_type": "code",
      "metadata": {
        "colab": {
          "base_uri": "https://localhost:8080/"
        },
        "id": "-jZ_fri0fUD3",
        "outputId": "8a6fe1db-4863-4233-992b-c41463f2e0f1"
      },
      "source": [
        "df1['Casos_Novos'] = df1['Casos_Confirmados'].sub(df1['Casos_Confirmados'].shift())\n",
        "df1['Casos_Novos'].iloc[0] = df1['Casos_Confirmados'].iloc[0]"
      ],
      "execution_count": null,
      "outputs": [
        {
          "output_type": "stream",
          "name": "stderr",
          "text": [
            "/usr/local/lib/python3.7/dist-packages/pandas/core/indexing.py:670: SettingWithCopyWarning: \n",
            "A value is trying to be set on a copy of a slice from a DataFrame\n",
            "\n",
            "See the caveats in the documentation: https://pandas.pydata.org/pandas-docs/stable/user_guide/indexing.html#returning-a-view-versus-a-copy\n",
            "  iloc._setitem_with_indexer(indexer, value)\n"
          ]
        }
      ]
    },
    {
      "cell_type": "code",
      "metadata": {
        "colab": {
          "base_uri": "https://localhost:8080/"
        },
        "id": "ycLlX0q5hvnL",
        "outputId": "c4383cdd-b0d3-4b5b-8637-10d3bbcf2d1f"
      },
      "source": [
        "df1['Novos_Obitos_Confirmados'] = df1['Obitos_Confirmados'].sub(df1['Obitos_Confirmados'].shift())\n",
        "df1['Novos_Obitos_Confirmados'].iloc[0] = df1['Obitos_Confirmados'].iloc[0]"
      ],
      "execution_count": null,
      "outputs": [
        {
          "output_type": "stream",
          "name": "stderr",
          "text": [
            "/usr/local/lib/python3.7/dist-packages/pandas/core/indexing.py:670: SettingWithCopyWarning: \n",
            "A value is trying to be set on a copy of a slice from a DataFrame\n",
            "\n",
            "See the caveats in the documentation: https://pandas.pydata.org/pandas-docs/stable/user_guide/indexing.html#returning-a-view-versus-a-copy\n",
            "  iloc._setitem_with_indexer(indexer, value)\n"
          ]
        }
      ]
    },
    {
      "cell_type": "code",
      "metadata": {
        "id": "ln1PPGGFk4Hw"
      },
      "source": [
        "df1.rename(columns={'Casos_Confirmados': 'Total_Casos_Confirmados', 'Obitos_Confirmados': 'Total_Obitos_Confirmados', 'Casos_Hospitalizados': 'Total_Casos_Hospitalizados'}, inplace=True)"
      ],
      "execution_count": null,
      "outputs": []
    },
    {
      "cell_type": "code",
      "metadata": {
        "colab": {
          "base_uri": "https://localhost:8080/",
          "height": 423
        },
        "id": "d2fFFJMOgUtG",
        "outputId": "cee677d9-0c4d-4776-b1b7-dfb743d6a6a0"
      },
      "source": [
        "df1"
      ],
      "execution_count": null,
      "outputs": [
        {
          "output_type": "execute_result",
          "data": {
            "text/html": [
              "<div>\n",
              "<style scoped>\n",
              "    .dataframe tbody tr th:only-of-type {\n",
              "        vertical-align: middle;\n",
              "    }\n",
              "\n",
              "    .dataframe tbody tr th {\n",
              "        vertical-align: top;\n",
              "    }\n",
              "\n",
              "    .dataframe thead th {\n",
              "        text-align: right;\n",
              "    }\n",
              "</style>\n",
              "<table border=\"1\" class=\"dataframe\">\n",
              "  <thead>\n",
              "    <tr style=\"text-align: right;\">\n",
              "      <th></th>\n",
              "      <th>Data_Atualizacao</th>\n",
              "      <th>Condado</th>\n",
              "      <th>Total_Casos_Confirmados</th>\n",
              "      <th>Total_Casos_Hospitalizados</th>\n",
              "      <th>Total_Obitos_Confirmados</th>\n",
              "      <th>Casos_Novos</th>\n",
              "      <th>Novos_Obitos_Confirmados</th>\n",
              "    </tr>\n",
              "  </thead>\n",
              "  <tbody>\n",
              "    <tr>\n",
              "      <th>0</th>\n",
              "      <td>2020-06-02</td>\n",
              "      <td>New Haven County</td>\n",
              "      <td>11161</td>\n",
              "      <td>150</td>\n",
              "      <td>843</td>\n",
              "      <td>11161.0</td>\n",
              "      <td>843.0</td>\n",
              "    </tr>\n",
              "    <tr>\n",
              "      <th>1</th>\n",
              "      <td>2020-06-03</td>\n",
              "      <td>New Haven County</td>\n",
              "      <td>11191</td>\n",
              "      <td>128</td>\n",
              "      <td>845</td>\n",
              "      <td>30.0</td>\n",
              "      <td>2.0</td>\n",
              "    </tr>\n",
              "    <tr>\n",
              "      <th>2</th>\n",
              "      <td>2020-06-04</td>\n",
              "      <td>New Haven County</td>\n",
              "      <td>11282</td>\n",
              "      <td>127</td>\n",
              "      <td>855</td>\n",
              "      <td>91.0</td>\n",
              "      <td>10.0</td>\n",
              "    </tr>\n",
              "    <tr>\n",
              "      <th>3</th>\n",
              "      <td>2020-06-05</td>\n",
              "      <td>New Haven County</td>\n",
              "      <td>11429</td>\n",
              "      <td>121</td>\n",
              "      <td>865</td>\n",
              "      <td>147.0</td>\n",
              "      <td>10.0</td>\n",
              "    </tr>\n",
              "    <tr>\n",
              "      <th>4</th>\n",
              "      <td>2020-06-06</td>\n",
              "      <td>New Haven County</td>\n",
              "      <td>11441</td>\n",
              "      <td>110</td>\n",
              "      <td>867</td>\n",
              "      <td>12.0</td>\n",
              "      <td>2.0</td>\n",
              "    </tr>\n",
              "    <tr>\n",
              "      <th>...</th>\n",
              "      <td>...</td>\n",
              "      <td>...</td>\n",
              "      <td>...</td>\n",
              "      <td>...</td>\n",
              "      <td>...</td>\n",
              "      <td>...</td>\n",
              "      <td>...</td>\n",
              "    </tr>\n",
              "    <tr>\n",
              "      <th>447</th>\n",
              "      <td>2021-11-11</td>\n",
              "      <td>New Haven County</td>\n",
              "      <td>95256</td>\n",
              "      <td>80</td>\n",
              "      <td>1940</td>\n",
              "      <td>107.0</td>\n",
              "      <td>0.0</td>\n",
              "    </tr>\n",
              "    <tr>\n",
              "      <th>448</th>\n",
              "      <td>2021-11-12</td>\n",
              "      <td>New Haven County</td>\n",
              "      <td>95362</td>\n",
              "      <td>69</td>\n",
              "      <td>1940</td>\n",
              "      <td>106.0</td>\n",
              "      <td>0.0</td>\n",
              "    </tr>\n",
              "    <tr>\n",
              "      <th>449</th>\n",
              "      <td>2021-11-15</td>\n",
              "      <td>New Haven County</td>\n",
              "      <td>95846</td>\n",
              "      <td>70</td>\n",
              "      <td>1946</td>\n",
              "      <td>484.0</td>\n",
              "      <td>6.0</td>\n",
              "    </tr>\n",
              "    <tr>\n",
              "      <th>450</th>\n",
              "      <td>2021-11-16</td>\n",
              "      <td>New Haven County</td>\n",
              "      <td>95961</td>\n",
              "      <td>71</td>\n",
              "      <td>1946</td>\n",
              "      <td>115.0</td>\n",
              "      <td>0.0</td>\n",
              "    </tr>\n",
              "    <tr>\n",
              "      <th>451</th>\n",
              "      <td>2021-11-17</td>\n",
              "      <td>New Haven County</td>\n",
              "      <td>96177</td>\n",
              "      <td>74</td>\n",
              "      <td>1947</td>\n",
              "      <td>216.0</td>\n",
              "      <td>1.0</td>\n",
              "    </tr>\n",
              "  </tbody>\n",
              "</table>\n",
              "<p>452 rows × 7 columns</p>\n",
              "</div>"
            ],
            "text/plain": [
              "    Data_Atualizacao           Condado  ...  Casos_Novos  Novos_Obitos_Confirmados\n",
              "0         2020-06-02  New Haven County  ...      11161.0                     843.0\n",
              "1         2020-06-03  New Haven County  ...         30.0                       2.0\n",
              "2         2020-06-04  New Haven County  ...         91.0                      10.0\n",
              "3         2020-06-05  New Haven County  ...        147.0                      10.0\n",
              "4         2020-06-06  New Haven County  ...         12.0                       2.0\n",
              "..               ...               ...  ...          ...                       ...\n",
              "447       2021-11-11  New Haven County  ...        107.0                       0.0\n",
              "448       2021-11-12  New Haven County  ...        106.0                       0.0\n",
              "449       2021-11-15  New Haven County  ...        484.0                       6.0\n",
              "450       2021-11-16  New Haven County  ...        115.0                       0.0\n",
              "451       2021-11-17  New Haven County  ...        216.0                       1.0\n",
              "\n",
              "[452 rows x 7 columns]"
            ]
          },
          "metadata": {},
          "execution_count": 16
        }
      ]
    },
    {
      "cell_type": "markdown",
      "metadata": {
        "id": "QHyZja9NmsOf"
      },
      "source": [
        "Salvando arquivos e fazendo upload em nuvem"
      ]
    },
    {
      "cell_type": "code",
      "metadata": {
        "id": "FRXWYFuEgWKA"
      },
      "source": [
        "bucket = storage_client.get_bucket('projeto-finalsc01')\n",
        "bucket.blob('dados_tratados_condados/New_Haven_County_Hospitalizados.csv').upload_from_string(df1.to_csv(index=False),'New_Haven_County_Hospiatlizados.csv')"
      ],
      "execution_count": null,
      "outputs": []
    },
    {
      "cell_type": "code",
      "metadata": {
        "id": "fBQkV6GsmQT3"
      },
      "source": [
        "df1.to_csv('New_Haven_County_Hospitalizados.csv', index=False)"
      ],
      "execution_count": null,
      "outputs": []
    },
    {
      "cell_type": "markdown",
      "metadata": {
        "id": "Xf-CXtXEnPP8"
      },
      "source": [
        "Tratamento DataFrame 2"
      ]
    },
    {
      "cell_type": "markdown",
      "metadata": {
        "id": "fq6ZcbA7m4vQ"
      },
      "source": [
        "Criando DataFrame"
      ]
    },
    {
      "cell_type": "code",
      "metadata": {
        "colab": {
          "base_uri": "https://localhost:8080/",
          "height": 617
        },
        "id": "yqTDZrTnnAU0",
        "outputId": "c5e0aaad-b1cd-4047-caaa-043949c04b7f"
      },
      "source": [
        "df2 = pd.read_csv(io.BytesIO(data2), encoding='utf-8', sep=',', parse_dates = ['Data_Atualizacao'], dayfirst = True)\n",
        "\n",
        "df2"
      ],
      "execution_count": null,
      "outputs": [
        {
          "output_type": "execute_result",
          "data": {
            "text/html": [
              "<div>\n",
              "<style scoped>\n",
              "    .dataframe tbody tr th:only-of-type {\n",
              "        vertical-align: middle;\n",
              "    }\n",
              "\n",
              "    .dataframe tbody tr th {\n",
              "        vertical-align: top;\n",
              "    }\n",
              "\n",
              "    .dataframe thead th {\n",
              "        text-align: right;\n",
              "    }\n",
              "</style>\n",
              "<table border=\"1\" class=\"dataframe\">\n",
              "  <thead>\n",
              "    <tr style=\"text-align: right;\">\n",
              "      <th></th>\n",
              "      <th>Data_Atualizacao</th>\n",
              "      <th>Condado_Codigo</th>\n",
              "      <th>Condado</th>\n",
              "      <th>Casos_Total</th>\n",
              "      <th>Casos_Confirmados</th>\n",
              "      <th>Casos_Provaveis</th>\n",
              "      <th>Casos_Total_Taxa</th>\n",
              "      <th>Casos_Hospitalizados</th>\n",
              "      <th>Obitos_Total</th>\n",
              "      <th>Obitos_Confirmados</th>\n",
              "      <th>Obitos_Provaveis</th>\n",
              "    </tr>\n",
              "  </thead>\n",
              "  <tbody>\n",
              "    <tr>\n",
              "      <th>0</th>\n",
              "      <td>2020-06-02</td>\n",
              "      <td>1</td>\n",
              "      <td>Fairfield County</td>\n",
              "      <td>15789</td>\n",
              "      <td>15087</td>\n",
              "      <td>702</td>\n",
              "      <td>1673.0</td>\n",
              "      <td>134</td>\n",
              "      <td>1289</td>\n",
              "      <td>998</td>\n",
              "      <td>291</td>\n",
              "    </tr>\n",
              "    <tr>\n",
              "      <th>1</th>\n",
              "      <td>2020-06-03</td>\n",
              "      <td>1</td>\n",
              "      <td>Fairfield County</td>\n",
              "      <td>15843</td>\n",
              "      <td>15133</td>\n",
              "      <td>710</td>\n",
              "      <td>1679.0</td>\n",
              "      <td>126</td>\n",
              "      <td>1293</td>\n",
              "      <td>1002</td>\n",
              "      <td>291</td>\n",
              "    </tr>\n",
              "    <tr>\n",
              "      <th>2</th>\n",
              "      <td>2020-06-04</td>\n",
              "      <td>1</td>\n",
              "      <td>Fairfield County</td>\n",
              "      <td>15914</td>\n",
              "      <td>15204</td>\n",
              "      <td>710</td>\n",
              "      <td>1686.0</td>\n",
              "      <td>111</td>\n",
              "      <td>1304</td>\n",
              "      <td>1011</td>\n",
              "      <td>293</td>\n",
              "    </tr>\n",
              "    <tr>\n",
              "      <th>3</th>\n",
              "      <td>2020-06-05</td>\n",
              "      <td>1</td>\n",
              "      <td>Fairfield County</td>\n",
              "      <td>16020</td>\n",
              "      <td>15307</td>\n",
              "      <td>713</td>\n",
              "      <td>1697.0</td>\n",
              "      <td>108</td>\n",
              "      <td>1309</td>\n",
              "      <td>1017</td>\n",
              "      <td>292</td>\n",
              "    </tr>\n",
              "    <tr>\n",
              "      <th>4</th>\n",
              "      <td>2020-06-06</td>\n",
              "      <td>1</td>\n",
              "      <td>Fairfield County</td>\n",
              "      <td>16056</td>\n",
              "      <td>15342</td>\n",
              "      <td>714</td>\n",
              "      <td>1701.0</td>\n",
              "      <td>111</td>\n",
              "      <td>1312</td>\n",
              "      <td>1019</td>\n",
              "      <td>293</td>\n",
              "    </tr>\n",
              "    <tr>\n",
              "      <th>...</th>\n",
              "      <td>...</td>\n",
              "      <td>...</td>\n",
              "      <td>...</td>\n",
              "      <td>...</td>\n",
              "      <td>...</td>\n",
              "      <td>...</td>\n",
              "      <td>...</td>\n",
              "      <td>...</td>\n",
              "      <td>...</td>\n",
              "      <td>...</td>\n",
              "      <td>...</td>\n",
              "    </tr>\n",
              "    <tr>\n",
              "      <th>447</th>\n",
              "      <td>2021-11-11</td>\n",
              "      <td>1</td>\n",
              "      <td>Fairfield County</td>\n",
              "      <td>113337</td>\n",
              "      <td>101770</td>\n",
              "      <td>11567</td>\n",
              "      <td>12015.0</td>\n",
              "      <td>45</td>\n",
              "      <td>2311</td>\n",
              "      <td>1857</td>\n",
              "      <td>454</td>\n",
              "    </tr>\n",
              "    <tr>\n",
              "      <th>448</th>\n",
              "      <td>2021-11-12</td>\n",
              "      <td>1</td>\n",
              "      <td>Fairfield County</td>\n",
              "      <td>113415</td>\n",
              "      <td>101830</td>\n",
              "      <td>11585</td>\n",
              "      <td>12023.0</td>\n",
              "      <td>44</td>\n",
              "      <td>2311</td>\n",
              "      <td>1857</td>\n",
              "      <td>454</td>\n",
              "    </tr>\n",
              "    <tr>\n",
              "      <th>449</th>\n",
              "      <td>2021-11-15</td>\n",
              "      <td>1</td>\n",
              "      <td>Fairfield County</td>\n",
              "      <td>113869</td>\n",
              "      <td>102256</td>\n",
              "      <td>11613</td>\n",
              "      <td>12071.0</td>\n",
              "      <td>52</td>\n",
              "      <td>2315</td>\n",
              "      <td>1860</td>\n",
              "      <td>455</td>\n",
              "    </tr>\n",
              "    <tr>\n",
              "      <th>450</th>\n",
              "      <td>2021-11-16</td>\n",
              "      <td>1</td>\n",
              "      <td>Fairfield County</td>\n",
              "      <td>113993</td>\n",
              "      <td>102374</td>\n",
              "      <td>11619</td>\n",
              "      <td>12084.0</td>\n",
              "      <td>48</td>\n",
              "      <td>2315</td>\n",
              "      <td>1860</td>\n",
              "      <td>455</td>\n",
              "    </tr>\n",
              "    <tr>\n",
              "      <th>451</th>\n",
              "      <td>2021-11-17</td>\n",
              "      <td>1</td>\n",
              "      <td>Fairfield County</td>\n",
              "      <td>114149</td>\n",
              "      <td>102527</td>\n",
              "      <td>11622</td>\n",
              "      <td>12101.0</td>\n",
              "      <td>43</td>\n",
              "      <td>2316</td>\n",
              "      <td>1861</td>\n",
              "      <td>455</td>\n",
              "    </tr>\n",
              "  </tbody>\n",
              "</table>\n",
              "<p>452 rows × 11 columns</p>\n",
              "</div>"
            ],
            "text/plain": [
              "    Data_Atualizacao  Condado_Codigo  ... Obitos_Confirmados  Obitos_Provaveis\n",
              "0         2020-06-02               1  ...                998               291\n",
              "1         2020-06-03               1  ...               1002               291\n",
              "2         2020-06-04               1  ...               1011               293\n",
              "3         2020-06-05               1  ...               1017               292\n",
              "4         2020-06-06               1  ...               1019               293\n",
              "..               ...             ...  ...                ...               ...\n",
              "447       2021-11-11               1  ...               1857               454\n",
              "448       2021-11-12               1  ...               1857               454\n",
              "449       2021-11-15               1  ...               1860               455\n",
              "450       2021-11-16               1  ...               1860               455\n",
              "451       2021-11-17               1  ...               1861               455\n",
              "\n",
              "[452 rows x 11 columns]"
            ]
          },
          "metadata": {},
          "execution_count": 19
        }
      ]
    },
    {
      "cell_type": "markdown",
      "metadata": {
        "id": "JirxXEs8m_v3"
      },
      "source": [
        "Droppando colunas"
      ]
    },
    {
      "cell_type": "code",
      "metadata": {
        "id": "pO5h_Wk3nYis"
      },
      "source": [
        "df2.drop(['Casos_Provaveis', 'Casos_Total', 'Casos_Provaveis', 'Casos_Total_Taxa', 'Obitos_Total', 'Obitos_Provaveis', 'Condado_Codigo'],axis=1, inplace=True)"
      ],
      "execution_count": null,
      "outputs": []
    },
    {
      "cell_type": "markdown",
      "metadata": {
        "id": "jWcpLosgnF7Q"
      },
      "source": [
        "Criando colunas com casos diários"
      ]
    },
    {
      "cell_type": "code",
      "metadata": {
        "colab": {
          "base_uri": "https://localhost:8080/"
        },
        "id": "eNHZU16mnago",
        "outputId": "7260ffff-e467-4c33-f5ca-8a4a400084e9"
      },
      "source": [
        "df2['Casos_Novos'] = df2['Casos_Confirmados'].sub(df2['Casos_Confirmados'].shift())\n",
        "df2['Casos_Novos'].iloc[0] = df2['Casos_Confirmados'].iloc[0]\n",
        "\n",
        "df2['Novos_Obitos_Confirmados'] = df2['Obitos_Confirmados'].sub(df2['Obitos_Confirmados'].shift())\n",
        "df2['Novos_Obitos_Confirmados'].iloc[0] = df2['Obitos_Confirmados'].iloc[0]"
      ],
      "execution_count": null,
      "outputs": [
        {
          "output_type": "stream",
          "name": "stderr",
          "text": [
            "/usr/local/lib/python3.7/dist-packages/pandas/core/indexing.py:670: SettingWithCopyWarning: \n",
            "A value is trying to be set on a copy of a slice from a DataFrame\n",
            "\n",
            "See the caveats in the documentation: https://pandas.pydata.org/pandas-docs/stable/user_guide/indexing.html#returning-a-view-versus-a-copy\n",
            "  iloc._setitem_with_indexer(indexer, value)\n"
          ]
        }
      ]
    },
    {
      "cell_type": "markdown",
      "metadata": {
        "id": "_wTjrYiUnM0w"
      },
      "source": [
        "Renomeando colunas"
      ]
    },
    {
      "cell_type": "code",
      "metadata": {
        "id": "5h1faNQzpmoh"
      },
      "source": [
        "df2.rename(columns={'Casos_Confirmados': 'Total_Casos_Confirmados', 'Obitos_Confirmados': 'Total_Obitos_Confirmados', 'Casos_Hospitalizados': 'Total_Casos_Hospitalizados'}, inplace=True)"
      ],
      "execution_count": null,
      "outputs": []
    },
    {
      "cell_type": "code",
      "metadata": {
        "colab": {
          "base_uri": "https://localhost:8080/",
          "height": 423
        },
        "id": "7e_gBde5peyS",
        "outputId": "cc4dba32-734f-4e01-8232-29f8aa116232"
      },
      "source": [
        "df2"
      ],
      "execution_count": null,
      "outputs": [
        {
          "output_type": "execute_result",
          "data": {
            "text/html": [
              "<div>\n",
              "<style scoped>\n",
              "    .dataframe tbody tr th:only-of-type {\n",
              "        vertical-align: middle;\n",
              "    }\n",
              "\n",
              "    .dataframe tbody tr th {\n",
              "        vertical-align: top;\n",
              "    }\n",
              "\n",
              "    .dataframe thead th {\n",
              "        text-align: right;\n",
              "    }\n",
              "</style>\n",
              "<table border=\"1\" class=\"dataframe\">\n",
              "  <thead>\n",
              "    <tr style=\"text-align: right;\">\n",
              "      <th></th>\n",
              "      <th>Data_Atualizacao</th>\n",
              "      <th>Condado</th>\n",
              "      <th>Total_Casos_Confirmados</th>\n",
              "      <th>Total_Casos_Hospitalizados</th>\n",
              "      <th>Total_Obitos_Confirmados</th>\n",
              "      <th>Casos_Novos</th>\n",
              "      <th>Novos_Obitos_Confirmados</th>\n",
              "    </tr>\n",
              "  </thead>\n",
              "  <tbody>\n",
              "    <tr>\n",
              "      <th>0</th>\n",
              "      <td>2020-06-02</td>\n",
              "      <td>Fairfield County</td>\n",
              "      <td>15087</td>\n",
              "      <td>134</td>\n",
              "      <td>998</td>\n",
              "      <td>15087.0</td>\n",
              "      <td>998.0</td>\n",
              "    </tr>\n",
              "    <tr>\n",
              "      <th>1</th>\n",
              "      <td>2020-06-03</td>\n",
              "      <td>Fairfield County</td>\n",
              "      <td>15133</td>\n",
              "      <td>126</td>\n",
              "      <td>1002</td>\n",
              "      <td>46.0</td>\n",
              "      <td>4.0</td>\n",
              "    </tr>\n",
              "    <tr>\n",
              "      <th>2</th>\n",
              "      <td>2020-06-04</td>\n",
              "      <td>Fairfield County</td>\n",
              "      <td>15204</td>\n",
              "      <td>111</td>\n",
              "      <td>1011</td>\n",
              "      <td>71.0</td>\n",
              "      <td>9.0</td>\n",
              "    </tr>\n",
              "    <tr>\n",
              "      <th>3</th>\n",
              "      <td>2020-06-05</td>\n",
              "      <td>Fairfield County</td>\n",
              "      <td>15307</td>\n",
              "      <td>108</td>\n",
              "      <td>1017</td>\n",
              "      <td>103.0</td>\n",
              "      <td>6.0</td>\n",
              "    </tr>\n",
              "    <tr>\n",
              "      <th>4</th>\n",
              "      <td>2020-06-06</td>\n",
              "      <td>Fairfield County</td>\n",
              "      <td>15342</td>\n",
              "      <td>111</td>\n",
              "      <td>1019</td>\n",
              "      <td>35.0</td>\n",
              "      <td>2.0</td>\n",
              "    </tr>\n",
              "    <tr>\n",
              "      <th>...</th>\n",
              "      <td>...</td>\n",
              "      <td>...</td>\n",
              "      <td>...</td>\n",
              "      <td>...</td>\n",
              "      <td>...</td>\n",
              "      <td>...</td>\n",
              "      <td>...</td>\n",
              "    </tr>\n",
              "    <tr>\n",
              "      <th>447</th>\n",
              "      <td>2021-11-11</td>\n",
              "      <td>Fairfield County</td>\n",
              "      <td>101770</td>\n",
              "      <td>45</td>\n",
              "      <td>1857</td>\n",
              "      <td>84.0</td>\n",
              "      <td>0.0</td>\n",
              "    </tr>\n",
              "    <tr>\n",
              "      <th>448</th>\n",
              "      <td>2021-11-12</td>\n",
              "      <td>Fairfield County</td>\n",
              "      <td>101830</td>\n",
              "      <td>44</td>\n",
              "      <td>1857</td>\n",
              "      <td>60.0</td>\n",
              "      <td>0.0</td>\n",
              "    </tr>\n",
              "    <tr>\n",
              "      <th>449</th>\n",
              "      <td>2021-11-15</td>\n",
              "      <td>Fairfield County</td>\n",
              "      <td>102256</td>\n",
              "      <td>52</td>\n",
              "      <td>1860</td>\n",
              "      <td>426.0</td>\n",
              "      <td>3.0</td>\n",
              "    </tr>\n",
              "    <tr>\n",
              "      <th>450</th>\n",
              "      <td>2021-11-16</td>\n",
              "      <td>Fairfield County</td>\n",
              "      <td>102374</td>\n",
              "      <td>48</td>\n",
              "      <td>1860</td>\n",
              "      <td>118.0</td>\n",
              "      <td>0.0</td>\n",
              "    </tr>\n",
              "    <tr>\n",
              "      <th>451</th>\n",
              "      <td>2021-11-17</td>\n",
              "      <td>Fairfield County</td>\n",
              "      <td>102527</td>\n",
              "      <td>43</td>\n",
              "      <td>1861</td>\n",
              "      <td>153.0</td>\n",
              "      <td>1.0</td>\n",
              "    </tr>\n",
              "  </tbody>\n",
              "</table>\n",
              "<p>452 rows × 7 columns</p>\n",
              "</div>"
            ],
            "text/plain": [
              "    Data_Atualizacao           Condado  ...  Casos_Novos  Novos_Obitos_Confirmados\n",
              "0         2020-06-02  Fairfield County  ...      15087.0                     998.0\n",
              "1         2020-06-03  Fairfield County  ...         46.0                       4.0\n",
              "2         2020-06-04  Fairfield County  ...         71.0                       9.0\n",
              "3         2020-06-05  Fairfield County  ...        103.0                       6.0\n",
              "4         2020-06-06  Fairfield County  ...         35.0                       2.0\n",
              "..               ...               ...  ...          ...                       ...\n",
              "447       2021-11-11  Fairfield County  ...         84.0                       0.0\n",
              "448       2021-11-12  Fairfield County  ...         60.0                       0.0\n",
              "449       2021-11-15  Fairfield County  ...        426.0                       3.0\n",
              "450       2021-11-16  Fairfield County  ...        118.0                       0.0\n",
              "451       2021-11-17  Fairfield County  ...        153.0                       1.0\n",
              "\n",
              "[452 rows x 7 columns]"
            ]
          },
          "metadata": {},
          "execution_count": 23
        }
      ]
    },
    {
      "cell_type": "markdown",
      "metadata": {
        "id": "jgd94Q-NoLYO"
      },
      "source": [
        "Salvando arquivos e fazendo upload em nuvem"
      ]
    },
    {
      "cell_type": "code",
      "metadata": {
        "id": "OPYnXeSOp9wp"
      },
      "source": [
        "bucket = storage_client.get_bucket('projeto-finalsc01')\n",
        "bucket.blob('dados_tratados_condados/Fairfield_County_Hospitalizados.csv').upload_from_string(df2.to_csv(index=False),'Fairfield_County_Hospitalizados.csv')"
      ],
      "execution_count": null,
      "outputs": []
    },
    {
      "cell_type": "code",
      "metadata": {
        "id": "_HnoQs8mqNtp"
      },
      "source": [
        "df2.to_csv('Fairfield_County_Hospitalizados.csv', index=False)"
      ],
      "execution_count": null,
      "outputs": []
    },
    {
      "cell_type": "markdown",
      "metadata": {
        "id": "xKtFDV56pwbx"
      },
      "source": [
        "Tratamento DataFrame 3"
      ]
    },
    {
      "cell_type": "markdown",
      "metadata": {
        "id": "0Das0EF0nid3"
      },
      "source": [
        "Criando DataFrame"
      ]
    },
    {
      "cell_type": "code",
      "metadata": {
        "colab": {
          "base_uri": "https://localhost:8080/",
          "height": 617
        },
        "id": "u4P2_SxxpfLm",
        "outputId": "62cf2d74-b975-4b79-c901-a7f76d7e7dae"
      },
      "source": [
        "df3 = pd.read_csv(io.BytesIO(data3), encoding='utf-8', sep=',', parse_dates = ['Data_Atualizacao'], dayfirst = True)\n",
        "\n",
        "df3"
      ],
      "execution_count": null,
      "outputs": [
        {
          "output_type": "execute_result",
          "data": {
            "text/html": [
              "<div>\n",
              "<style scoped>\n",
              "    .dataframe tbody tr th:only-of-type {\n",
              "        vertical-align: middle;\n",
              "    }\n",
              "\n",
              "    .dataframe tbody tr th {\n",
              "        vertical-align: top;\n",
              "    }\n",
              "\n",
              "    .dataframe thead th {\n",
              "        text-align: right;\n",
              "    }\n",
              "</style>\n",
              "<table border=\"1\" class=\"dataframe\">\n",
              "  <thead>\n",
              "    <tr style=\"text-align: right;\">\n",
              "      <th></th>\n",
              "      <th>Data_Atualizacao</th>\n",
              "      <th>Condado_Codigo</th>\n",
              "      <th>Condado</th>\n",
              "      <th>Casos_Total</th>\n",
              "      <th>Casos_Confirmados</th>\n",
              "      <th>Casos_Provaveis</th>\n",
              "      <th>Casos_Total_Taxa</th>\n",
              "      <th>Casos_Hospitalizados</th>\n",
              "      <th>Obitos_Total</th>\n",
              "      <th>Obitos_Confirmados</th>\n",
              "      <th>Obitos_Provaveis</th>\n",
              "    </tr>\n",
              "  </thead>\n",
              "  <tbody>\n",
              "    <tr>\n",
              "      <th>0</th>\n",
              "      <td>2020-06-02</td>\n",
              "      <td>2</td>\n",
              "      <td>Hartford County</td>\n",
              "      <td>10593</td>\n",
              "      <td>9914</td>\n",
              "      <td>679</td>\n",
              "      <td>1187.0</td>\n",
              "      <td>92</td>\n",
              "      <td>1259</td>\n",
              "      <td>958</td>\n",
              "      <td>301</td>\n",
              "    </tr>\n",
              "    <tr>\n",
              "      <th>1</th>\n",
              "      <td>2020-06-03</td>\n",
              "      <td>2</td>\n",
              "      <td>Hartford County</td>\n",
              "      <td>10636</td>\n",
              "      <td>9947</td>\n",
              "      <td>689</td>\n",
              "      <td>1191.0</td>\n",
              "      <td>90</td>\n",
              "      <td>1266</td>\n",
              "      <td>964</td>\n",
              "      <td>302</td>\n",
              "    </tr>\n",
              "    <tr>\n",
              "      <th>2</th>\n",
              "      <td>2020-06-04</td>\n",
              "      <td>2</td>\n",
              "      <td>Hartford County</td>\n",
              "      <td>10677</td>\n",
              "      <td>9982</td>\n",
              "      <td>695</td>\n",
              "      <td>1196.0</td>\n",
              "      <td>83</td>\n",
              "      <td>1277</td>\n",
              "      <td>968</td>\n",
              "      <td>309</td>\n",
              "    </tr>\n",
              "    <tr>\n",
              "      <th>3</th>\n",
              "      <td>2020-06-05</td>\n",
              "      <td>2</td>\n",
              "      <td>Hartford County</td>\n",
              "      <td>10747</td>\n",
              "      <td>10046</td>\n",
              "      <td>701</td>\n",
              "      <td>1204.0</td>\n",
              "      <td>78</td>\n",
              "      <td>1279</td>\n",
              "      <td>971</td>\n",
              "      <td>308</td>\n",
              "    </tr>\n",
              "    <tr>\n",
              "      <th>4</th>\n",
              "      <td>2020-06-06</td>\n",
              "      <td>2</td>\n",
              "      <td>Hartford County</td>\n",
              "      <td>10809</td>\n",
              "      <td>10112</td>\n",
              "      <td>697</td>\n",
              "      <td>1211.0</td>\n",
              "      <td>87</td>\n",
              "      <td>1287</td>\n",
              "      <td>977</td>\n",
              "      <td>310</td>\n",
              "    </tr>\n",
              "    <tr>\n",
              "      <th>...</th>\n",
              "      <td>...</td>\n",
              "      <td>...</td>\n",
              "      <td>...</td>\n",
              "      <td>...</td>\n",
              "      <td>...</td>\n",
              "      <td>...</td>\n",
              "      <td>...</td>\n",
              "      <td>...</td>\n",
              "      <td>...</td>\n",
              "      <td>...</td>\n",
              "      <td>...</td>\n",
              "    </tr>\n",
              "    <tr>\n",
              "      <th>447</th>\n",
              "      <td>2021-11-11</td>\n",
              "      <td>2</td>\n",
              "      <td>Hartford County</td>\n",
              "      <td>99967</td>\n",
              "      <td>92440</td>\n",
              "      <td>7527</td>\n",
              "      <td>11211.0</td>\n",
              "      <td>64</td>\n",
              "      <td>2600</td>\n",
              "      <td>2126</td>\n",
              "      <td>474</td>\n",
              "    </tr>\n",
              "    <tr>\n",
              "      <th>448</th>\n",
              "      <td>2021-11-12</td>\n",
              "      <td>2</td>\n",
              "      <td>Hartford County</td>\n",
              "      <td>100069</td>\n",
              "      <td>92539</td>\n",
              "      <td>7530</td>\n",
              "      <td>11222.0</td>\n",
              "      <td>66</td>\n",
              "      <td>2600</td>\n",
              "      <td>2126</td>\n",
              "      <td>474</td>\n",
              "    </tr>\n",
              "    <tr>\n",
              "      <th>449</th>\n",
              "      <td>2021-11-15</td>\n",
              "      <td>2</td>\n",
              "      <td>Hartford County</td>\n",
              "      <td>100503</td>\n",
              "      <td>92963</td>\n",
              "      <td>7540</td>\n",
              "      <td>11271.0</td>\n",
              "      <td>61</td>\n",
              "      <td>2603</td>\n",
              "      <td>2129</td>\n",
              "      <td>474</td>\n",
              "    </tr>\n",
              "    <tr>\n",
              "      <th>450</th>\n",
              "      <td>2021-11-16</td>\n",
              "      <td>2</td>\n",
              "      <td>Hartford County</td>\n",
              "      <td>100630</td>\n",
              "      <td>93082</td>\n",
              "      <td>7548</td>\n",
              "      <td>11285.0</td>\n",
              "      <td>72</td>\n",
              "      <td>2603</td>\n",
              "      <td>2129</td>\n",
              "      <td>474</td>\n",
              "    </tr>\n",
              "    <tr>\n",
              "      <th>451</th>\n",
              "      <td>2021-11-17</td>\n",
              "      <td>2</td>\n",
              "      <td>Hartford County</td>\n",
              "      <td>100832</td>\n",
              "      <td>93277</td>\n",
              "      <td>7555</td>\n",
              "      <td>11308.0</td>\n",
              "      <td>73</td>\n",
              "      <td>2606</td>\n",
              "      <td>2130</td>\n",
              "      <td>476</td>\n",
              "    </tr>\n",
              "  </tbody>\n",
              "</table>\n",
              "<p>452 rows × 11 columns</p>\n",
              "</div>"
            ],
            "text/plain": [
              "    Data_Atualizacao  Condado_Codigo  ... Obitos_Confirmados  Obitos_Provaveis\n",
              "0         2020-06-02               2  ...                958               301\n",
              "1         2020-06-03               2  ...                964               302\n",
              "2         2020-06-04               2  ...                968               309\n",
              "3         2020-06-05               2  ...                971               308\n",
              "4         2020-06-06               2  ...                977               310\n",
              "..               ...             ...  ...                ...               ...\n",
              "447       2021-11-11               2  ...               2126               474\n",
              "448       2021-11-12               2  ...               2126               474\n",
              "449       2021-11-15               2  ...               2129               474\n",
              "450       2021-11-16               2  ...               2129               474\n",
              "451       2021-11-17               2  ...               2130               476\n",
              "\n",
              "[452 rows x 11 columns]"
            ]
          },
          "metadata": {},
          "execution_count": 26
        }
      ]
    },
    {
      "cell_type": "markdown",
      "metadata": {
        "id": "CM7vbpIEnkTm"
      },
      "source": [
        "Droppando colunas"
      ]
    },
    {
      "cell_type": "code",
      "metadata": {
        "id": "171X8WCEqX2Q"
      },
      "source": [
        "df3.drop(['Casos_Provaveis', 'Casos_Total', 'Casos_Provaveis', 'Casos_Total_Taxa', 'Obitos_Total', 'Obitos_Provaveis', 'Condado_Codigo'],axis=1, inplace=True)"
      ],
      "execution_count": null,
      "outputs": []
    },
    {
      "cell_type": "markdown",
      "metadata": {
        "id": "BlNoIiJNnq6W"
      },
      "source": [
        "Criando coluna com casos diários"
      ]
    },
    {
      "cell_type": "code",
      "metadata": {
        "colab": {
          "base_uri": "https://localhost:8080/"
        },
        "id": "z9pR__tnqdFy",
        "outputId": "85f7215b-9e0d-4384-e70b-8672f63da482"
      },
      "source": [
        "df3['Casos_Novos'] = df3['Casos_Confirmados'].sub(df3['Casos_Confirmados'].shift())\n",
        "df3['Casos_Novos'].iloc[0] = df3['Casos_Confirmados'].iloc[0]\n",
        "\n",
        "df3['Novos_Obitos_Confirmados'] = df3['Obitos_Confirmados'].sub(df3['Obitos_Confirmados'].shift())\n",
        "df3['Novos_Obitos_Confirmados'].iloc[0] = df3['Obitos_Confirmados'].iloc[0]"
      ],
      "execution_count": null,
      "outputs": [
        {
          "output_type": "stream",
          "name": "stderr",
          "text": [
            "/usr/local/lib/python3.7/dist-packages/pandas/core/indexing.py:670: SettingWithCopyWarning: \n",
            "A value is trying to be set on a copy of a slice from a DataFrame\n",
            "\n",
            "See the caveats in the documentation: https://pandas.pydata.org/pandas-docs/stable/user_guide/indexing.html#returning-a-view-versus-a-copy\n",
            "  iloc._setitem_with_indexer(indexer, value)\n"
          ]
        }
      ]
    },
    {
      "cell_type": "markdown",
      "metadata": {
        "id": "nekRbiSbnxHG"
      },
      "source": [
        "Renomeando colunas"
      ]
    },
    {
      "cell_type": "code",
      "metadata": {
        "id": "K3B9nuL8q3rY"
      },
      "source": [
        "df3.rename(columns={'Casos_Confirmados': 'Total_Casos_Confirmados', 'Obitos_Confirmados': 'Total_Obitos_Confirmados', 'Casos_Hospitalizados': 'Total_Casos_Hospitalizados'}, inplace=True)"
      ],
      "execution_count": null,
      "outputs": []
    },
    {
      "cell_type": "code",
      "metadata": {
        "colab": {
          "base_uri": "https://localhost:8080/",
          "height": 423
        },
        "id": "qUhKTqYCq5C4",
        "outputId": "994b9f25-ae80-43ae-9744-f30500c1ef71"
      },
      "source": [
        "df3"
      ],
      "execution_count": null,
      "outputs": [
        {
          "output_type": "execute_result",
          "data": {
            "text/html": [
              "<div>\n",
              "<style scoped>\n",
              "    .dataframe tbody tr th:only-of-type {\n",
              "        vertical-align: middle;\n",
              "    }\n",
              "\n",
              "    .dataframe tbody tr th {\n",
              "        vertical-align: top;\n",
              "    }\n",
              "\n",
              "    .dataframe thead th {\n",
              "        text-align: right;\n",
              "    }\n",
              "</style>\n",
              "<table border=\"1\" class=\"dataframe\">\n",
              "  <thead>\n",
              "    <tr style=\"text-align: right;\">\n",
              "      <th></th>\n",
              "      <th>Data_Atualizacao</th>\n",
              "      <th>Condado</th>\n",
              "      <th>Total_Casos_Confirmados</th>\n",
              "      <th>Total_Casos_Hospitalizados</th>\n",
              "      <th>Total_Obitos_Confirmados</th>\n",
              "      <th>Casos_Novos</th>\n",
              "      <th>Novos_Obitos_Confirmados</th>\n",
              "    </tr>\n",
              "  </thead>\n",
              "  <tbody>\n",
              "    <tr>\n",
              "      <th>0</th>\n",
              "      <td>2020-06-02</td>\n",
              "      <td>Hartford County</td>\n",
              "      <td>9914</td>\n",
              "      <td>92</td>\n",
              "      <td>958</td>\n",
              "      <td>9914.0</td>\n",
              "      <td>958.0</td>\n",
              "    </tr>\n",
              "    <tr>\n",
              "      <th>1</th>\n",
              "      <td>2020-06-03</td>\n",
              "      <td>Hartford County</td>\n",
              "      <td>9947</td>\n",
              "      <td>90</td>\n",
              "      <td>964</td>\n",
              "      <td>33.0</td>\n",
              "      <td>6.0</td>\n",
              "    </tr>\n",
              "    <tr>\n",
              "      <th>2</th>\n",
              "      <td>2020-06-04</td>\n",
              "      <td>Hartford County</td>\n",
              "      <td>9982</td>\n",
              "      <td>83</td>\n",
              "      <td>968</td>\n",
              "      <td>35.0</td>\n",
              "      <td>4.0</td>\n",
              "    </tr>\n",
              "    <tr>\n",
              "      <th>3</th>\n",
              "      <td>2020-06-05</td>\n",
              "      <td>Hartford County</td>\n",
              "      <td>10046</td>\n",
              "      <td>78</td>\n",
              "      <td>971</td>\n",
              "      <td>64.0</td>\n",
              "      <td>3.0</td>\n",
              "    </tr>\n",
              "    <tr>\n",
              "      <th>4</th>\n",
              "      <td>2020-06-06</td>\n",
              "      <td>Hartford County</td>\n",
              "      <td>10112</td>\n",
              "      <td>87</td>\n",
              "      <td>977</td>\n",
              "      <td>66.0</td>\n",
              "      <td>6.0</td>\n",
              "    </tr>\n",
              "    <tr>\n",
              "      <th>...</th>\n",
              "      <td>...</td>\n",
              "      <td>...</td>\n",
              "      <td>...</td>\n",
              "      <td>...</td>\n",
              "      <td>...</td>\n",
              "      <td>...</td>\n",
              "      <td>...</td>\n",
              "    </tr>\n",
              "    <tr>\n",
              "      <th>447</th>\n",
              "      <td>2021-11-11</td>\n",
              "      <td>Hartford County</td>\n",
              "      <td>92440</td>\n",
              "      <td>64</td>\n",
              "      <td>2126</td>\n",
              "      <td>118.0</td>\n",
              "      <td>0.0</td>\n",
              "    </tr>\n",
              "    <tr>\n",
              "      <th>448</th>\n",
              "      <td>2021-11-12</td>\n",
              "      <td>Hartford County</td>\n",
              "      <td>92539</td>\n",
              "      <td>66</td>\n",
              "      <td>2126</td>\n",
              "      <td>99.0</td>\n",
              "      <td>0.0</td>\n",
              "    </tr>\n",
              "    <tr>\n",
              "      <th>449</th>\n",
              "      <td>2021-11-15</td>\n",
              "      <td>Hartford County</td>\n",
              "      <td>92963</td>\n",
              "      <td>61</td>\n",
              "      <td>2129</td>\n",
              "      <td>424.0</td>\n",
              "      <td>3.0</td>\n",
              "    </tr>\n",
              "    <tr>\n",
              "      <th>450</th>\n",
              "      <td>2021-11-16</td>\n",
              "      <td>Hartford County</td>\n",
              "      <td>93082</td>\n",
              "      <td>72</td>\n",
              "      <td>2129</td>\n",
              "      <td>119.0</td>\n",
              "      <td>0.0</td>\n",
              "    </tr>\n",
              "    <tr>\n",
              "      <th>451</th>\n",
              "      <td>2021-11-17</td>\n",
              "      <td>Hartford County</td>\n",
              "      <td>93277</td>\n",
              "      <td>73</td>\n",
              "      <td>2130</td>\n",
              "      <td>195.0</td>\n",
              "      <td>1.0</td>\n",
              "    </tr>\n",
              "  </tbody>\n",
              "</table>\n",
              "<p>452 rows × 7 columns</p>\n",
              "</div>"
            ],
            "text/plain": [
              "    Data_Atualizacao          Condado  ...  Casos_Novos  Novos_Obitos_Confirmados\n",
              "0         2020-06-02  Hartford County  ...       9914.0                     958.0\n",
              "1         2020-06-03  Hartford County  ...         33.0                       6.0\n",
              "2         2020-06-04  Hartford County  ...         35.0                       4.0\n",
              "3         2020-06-05  Hartford County  ...         64.0                       3.0\n",
              "4         2020-06-06  Hartford County  ...         66.0                       6.0\n",
              "..               ...              ...  ...          ...                       ...\n",
              "447       2021-11-11  Hartford County  ...        118.0                       0.0\n",
              "448       2021-11-12  Hartford County  ...         99.0                       0.0\n",
              "449       2021-11-15  Hartford County  ...        424.0                       3.0\n",
              "450       2021-11-16  Hartford County  ...        119.0                       0.0\n",
              "451       2021-11-17  Hartford County  ...        195.0                       1.0\n",
              "\n",
              "[452 rows x 7 columns]"
            ]
          },
          "metadata": {},
          "execution_count": 30
        }
      ]
    },
    {
      "cell_type": "markdown",
      "metadata": {
        "id": "ur0MhT1doIVG"
      },
      "source": [
        "Salvando arquivos e fazendo upload em nuvem"
      ]
    },
    {
      "cell_type": "code",
      "metadata": {
        "id": "MfJrpb_hrsxI"
      },
      "source": [
        "bucket = storage_client.get_bucket('projeto-finalsc01')\n",
        "bucket.blob('dados_tratados_condados/Hartford_County_Hospitalizados.csv').upload_from_string(df3.to_csv(index=False),'Hartford_County_Hospitalizados.csv')"
      ],
      "execution_count": null,
      "outputs": []
    },
    {
      "cell_type": "code",
      "metadata": {
        "id": "gEMxml6nrtLH"
      },
      "source": [
        "df3.to_csv('Hartford_County_Hospitalizados.csv', index=False)"
      ],
      "execution_count": null,
      "outputs": []
    },
    {
      "cell_type": "markdown",
      "metadata": {
        "id": "UHAg7czNhy1k"
      },
      "source": [
        "# Unindo DataFrames Hospitalizados/Óbitos com Append"
      ]
    },
    {
      "cell_type": "code",
      "metadata": {
        "id": "BNJpiQFSow1O"
      },
      "source": [
        "dfa = df1.append([df2, df3], ignore_index=True)"
      ],
      "execution_count": null,
      "outputs": []
    },
    {
      "cell_type": "code",
      "metadata": {
        "colab": {
          "base_uri": "https://localhost:8080/",
          "height": 423
        },
        "id": "OVprCxRNo951",
        "outputId": "f96e3c30-5119-4a7e-823e-b015f53ca53d"
      },
      "source": [
        "dfa"
      ],
      "execution_count": null,
      "outputs": [
        {
          "output_type": "execute_result",
          "data": {
            "text/html": [
              "<div>\n",
              "<style scoped>\n",
              "    .dataframe tbody tr th:only-of-type {\n",
              "        vertical-align: middle;\n",
              "    }\n",
              "\n",
              "    .dataframe tbody tr th {\n",
              "        vertical-align: top;\n",
              "    }\n",
              "\n",
              "    .dataframe thead th {\n",
              "        text-align: right;\n",
              "    }\n",
              "</style>\n",
              "<table border=\"1\" class=\"dataframe\">\n",
              "  <thead>\n",
              "    <tr style=\"text-align: right;\">\n",
              "      <th></th>\n",
              "      <th>Data_Atualizacao</th>\n",
              "      <th>Condado</th>\n",
              "      <th>Total_Casos_Confirmados</th>\n",
              "      <th>Total_Casos_Hospitalizados</th>\n",
              "      <th>Total_Obitos_Confirmados</th>\n",
              "      <th>Casos_Novos</th>\n",
              "      <th>Novos_Obitos_Confirmados</th>\n",
              "    </tr>\n",
              "  </thead>\n",
              "  <tbody>\n",
              "    <tr>\n",
              "      <th>0</th>\n",
              "      <td>2020-06-02</td>\n",
              "      <td>New Haven County</td>\n",
              "      <td>11161</td>\n",
              "      <td>150</td>\n",
              "      <td>843</td>\n",
              "      <td>11161.0</td>\n",
              "      <td>843.0</td>\n",
              "    </tr>\n",
              "    <tr>\n",
              "      <th>1</th>\n",
              "      <td>2020-06-03</td>\n",
              "      <td>New Haven County</td>\n",
              "      <td>11191</td>\n",
              "      <td>128</td>\n",
              "      <td>845</td>\n",
              "      <td>30.0</td>\n",
              "      <td>2.0</td>\n",
              "    </tr>\n",
              "    <tr>\n",
              "      <th>2</th>\n",
              "      <td>2020-06-04</td>\n",
              "      <td>New Haven County</td>\n",
              "      <td>11282</td>\n",
              "      <td>127</td>\n",
              "      <td>855</td>\n",
              "      <td>91.0</td>\n",
              "      <td>10.0</td>\n",
              "    </tr>\n",
              "    <tr>\n",
              "      <th>3</th>\n",
              "      <td>2020-06-05</td>\n",
              "      <td>New Haven County</td>\n",
              "      <td>11429</td>\n",
              "      <td>121</td>\n",
              "      <td>865</td>\n",
              "      <td>147.0</td>\n",
              "      <td>10.0</td>\n",
              "    </tr>\n",
              "    <tr>\n",
              "      <th>4</th>\n",
              "      <td>2020-06-06</td>\n",
              "      <td>New Haven County</td>\n",
              "      <td>11441</td>\n",
              "      <td>110</td>\n",
              "      <td>867</td>\n",
              "      <td>12.0</td>\n",
              "      <td>2.0</td>\n",
              "    </tr>\n",
              "    <tr>\n",
              "      <th>...</th>\n",
              "      <td>...</td>\n",
              "      <td>...</td>\n",
              "      <td>...</td>\n",
              "      <td>...</td>\n",
              "      <td>...</td>\n",
              "      <td>...</td>\n",
              "      <td>...</td>\n",
              "    </tr>\n",
              "    <tr>\n",
              "      <th>1351</th>\n",
              "      <td>2021-11-11</td>\n",
              "      <td>Hartford County</td>\n",
              "      <td>92440</td>\n",
              "      <td>64</td>\n",
              "      <td>2126</td>\n",
              "      <td>118.0</td>\n",
              "      <td>0.0</td>\n",
              "    </tr>\n",
              "    <tr>\n",
              "      <th>1352</th>\n",
              "      <td>2021-11-12</td>\n",
              "      <td>Hartford County</td>\n",
              "      <td>92539</td>\n",
              "      <td>66</td>\n",
              "      <td>2126</td>\n",
              "      <td>99.0</td>\n",
              "      <td>0.0</td>\n",
              "    </tr>\n",
              "    <tr>\n",
              "      <th>1353</th>\n",
              "      <td>2021-11-15</td>\n",
              "      <td>Hartford County</td>\n",
              "      <td>92963</td>\n",
              "      <td>61</td>\n",
              "      <td>2129</td>\n",
              "      <td>424.0</td>\n",
              "      <td>3.0</td>\n",
              "    </tr>\n",
              "    <tr>\n",
              "      <th>1354</th>\n",
              "      <td>2021-11-16</td>\n",
              "      <td>Hartford County</td>\n",
              "      <td>93082</td>\n",
              "      <td>72</td>\n",
              "      <td>2129</td>\n",
              "      <td>119.0</td>\n",
              "      <td>0.0</td>\n",
              "    </tr>\n",
              "    <tr>\n",
              "      <th>1355</th>\n",
              "      <td>2021-11-17</td>\n",
              "      <td>Hartford County</td>\n",
              "      <td>93277</td>\n",
              "      <td>73</td>\n",
              "      <td>2130</td>\n",
              "      <td>195.0</td>\n",
              "      <td>1.0</td>\n",
              "    </tr>\n",
              "  </tbody>\n",
              "</table>\n",
              "<p>1356 rows × 7 columns</p>\n",
              "</div>"
            ],
            "text/plain": [
              "     Data_Atualizacao           Condado  ...  Casos_Novos  Novos_Obitos_Confirmados\n",
              "0          2020-06-02  New Haven County  ...      11161.0                     843.0\n",
              "1          2020-06-03  New Haven County  ...         30.0                       2.0\n",
              "2          2020-06-04  New Haven County  ...         91.0                      10.0\n",
              "3          2020-06-05  New Haven County  ...        147.0                      10.0\n",
              "4          2020-06-06  New Haven County  ...         12.0                       2.0\n",
              "...               ...               ...  ...          ...                       ...\n",
              "1351       2021-11-11   Hartford County  ...        118.0                       0.0\n",
              "1352       2021-11-12   Hartford County  ...         99.0                       0.0\n",
              "1353       2021-11-15   Hartford County  ...        424.0                       3.0\n",
              "1354       2021-11-16   Hartford County  ...        119.0                       0.0\n",
              "1355       2021-11-17   Hartford County  ...        195.0                       1.0\n",
              "\n",
              "[1356 rows x 7 columns]"
            ]
          },
          "metadata": {},
          "execution_count": 34
        }
      ]
    },
    {
      "cell_type": "markdown",
      "metadata": {
        "id": "S78WOiq6oG1-"
      },
      "source": [
        "Salvando arquivos e fazendo upload em nuvem"
      ]
    },
    {
      "cell_type": "code",
      "metadata": {
        "id": "XFDfwSwapE9U"
      },
      "source": [
        "#bucket = storage_client.get_bucket('projeto-finalsc01')\n",
        "#bucket.blob('dados_tratados_condados/Condados_Hospitalizados.csv').upload_from_string(dfa.to_csv(index=False),'Condados_Hospitalizados.csv')"
      ],
      "execution_count": null,
      "outputs": []
    },
    {
      "cell_type": "code",
      "metadata": {
        "id": "Abn4edwzpRR2"
      },
      "source": [
        "dfa.to_csv('Condados_Hospitalizados.csv', index=False)"
      ],
      "execution_count": null,
      "outputs": []
    },
    {
      "cell_type": "code",
      "metadata": {
        "id": "B6BDkTl4qvhL"
      },
      "source": [
        ""
      ],
      "execution_count": null,
      "outputs": []
    },
    {
      "cell_type": "markdown",
      "metadata": {
        "id": "mRuZiXwcqxdb"
      },
      "source": [
        "#ETL Dados Vacinacão"
      ]
    },
    {
      "cell_type": "markdown",
      "metadata": {
        "id": "1d-29_6LxV9D"
      },
      "source": [
        "## Extract"
      ]
    },
    {
      "cell_type": "markdown",
      "metadata": {
        "id": "2PG3EXoVyMn7"
      },
      "source": [
        "Listando Arquivos do Bucket"
      ]
    },
    {
      "cell_type": "code",
      "metadata": {
        "colab": {
          "base_uri": "https://localhost:8080/"
        },
        "id": "gBkkYncmyB0k",
        "outputId": "cb886b02-e9a8-4d91-9920-cdc40c5a2072"
      },
      "source": [
        "filename = list(bucket.list_blobs(prefix=''))\n",
        "for name in filename:\n",
        "  print(name.name)"
      ],
      "execution_count": null,
      "outputs": [
        {
          "output_type": "stream",
          "name": "stdout",
          "text": [
            "chave/\n",
            "chave/projeto-finalsc01-b94741ddd471.json\n",
            "dados-brutos/\n",
            "dados-brutos/COVID-19_Vaccinations_in_the_United_States_County.csv\n",
            "dados-brutos/COVID_US_HOSPITALIZATION.json\n",
            "dados-tratados/\n",
            "dados-tratados/Casos_Hospitalizacoes_Obitos_Cidade.csv\n",
            "dados-tratados/Fairfield_County_Hospitalizacoes.csv\n",
            "dados-tratados/Fairfield_County_vacinacao.csv\n",
            "dados-tratados/Hartford_County_Hospitalizacoes.csv\n",
            "dados-tratados/Hartford_County_vacinacao.csv\n",
            "dados-tratados/Litchfield_County_Hospitalizacoes.csv\n",
            "dados-tratados/Middlesex_County_Hospitalizacoes.csv\n",
            "dados-tratados/New_Haven_County_Hospitalizacoes.csv\n",
            "dados-tratados/New_Haven_County_vacinacao.csv\n",
            "dados-tratados/New_London_County_Hospitalizacoes.csv\n",
            "dados-tratados/New_London_County_vacinacao.csv\n",
            "dados-tratados/Tolland_County_Hospitalizacoes.csv\n",
            "dados-tratados/Vacinacoes_nos_EUA.csv\n",
            "dados-tratados/Windham_County_Hospitalizacoes.csv\n",
            "dados-tratados/vacina_8_condados_us.csv\n",
            "dados_tratados_condados/\n",
            "dados_tratados_condados/Condados_Hospitalizados.csv\n",
            "dados_tratados_condados/Condados_Vacinacao.csv\n",
            "dados_tratados_condados/Fairfield_County_Hospitalizados.csv\n",
            "dados_tratados_condados/Fairfield_County_Vacinacao.csv\n",
            "dados_tratados_condados/Hartford_County_Hospitalizados.csv\n",
            "dados_tratados_condados/Hartford_County_Vacinacao.csv\n",
            "dados_tratados_condados/New_Haven_County_Hospitalizados.csv\n",
            "dados_tratados_condados/New_Haven_County_Vacinacao.csv\n"
          ]
        }
      ]
    },
    {
      "cell_type": "markdown",
      "metadata": {
        "id": "F89o570Ty4Ti"
      },
      "source": [
        "Carregando Datasets Vacinação"
      ]
    },
    {
      "cell_type": "code",
      "metadata": {
        "id": "RaK72q2eyy7b"
      },
      "source": [
        "# Carregando Datasets CSV New_Haven_County Vacinação\n",
        "\n",
        "blop = bucket.blob('dados-tratados/New_Haven_County_vacinacao.csv')\n",
        "data4 = blop.download_as_string()"
      ],
      "execution_count": null,
      "outputs": []
    },
    {
      "cell_type": "code",
      "metadata": {
        "id": "e0EnnnYZjQN1"
      },
      "source": [
        "# Carregando Datasets CSV Fairfield_County Vacinação\n",
        "\n",
        "blop = bucket.blob('dados-tratados/Fairfield_County_vacinacao.csv')\n",
        "data5 = blop.download_as_string()"
      ],
      "execution_count": null,
      "outputs": []
    },
    {
      "cell_type": "code",
      "metadata": {
        "id": "3OSjXQ24juAc"
      },
      "source": [
        "# Carregando Datasets CSV Hartford_County Vacinação\n",
        "\n",
        "blop = bucket.blob('dados-tratados/Hartford_County_vacinacao.csv')\n",
        "data6 = blop.download_as_string()"
      ],
      "execution_count": null,
      "outputs": []
    },
    {
      "cell_type": "markdown",
      "metadata": {
        "id": "GSpMmzBskIeV"
      },
      "source": [
        "## Transform and Load com Pandas"
      ]
    },
    {
      "cell_type": "markdown",
      "metadata": {
        "id": "FtSD3UP5mcUq"
      },
      "source": [
        "Tratamento DataFrame 4"
      ]
    },
    {
      "cell_type": "markdown",
      "metadata": {
        "id": "slegsK3WpEKF"
      },
      "source": [
        "Criando DataFrame"
      ]
    },
    {
      "cell_type": "code",
      "metadata": {
        "colab": {
          "base_uri": "https://localhost:8080/",
          "height": 206
        },
        "id": "C3NAemjbkBUc",
        "outputId": "dbd1e0ed-81b9-45f8-cddf-4ad8d490d46c"
      },
      "source": [
        "df4 = pd.read_csv(io.BytesIO(data4), encoding='utf-8', sep=',')\n",
        "\n",
        "df4.head()"
      ],
      "execution_count": null,
      "outputs": [
        {
          "output_type": "execute_result",
          "data": {
            "text/html": [
              "<div>\n",
              "<style scoped>\n",
              "    .dataframe tbody tr th:only-of-type {\n",
              "        vertical-align: middle;\n",
              "    }\n",
              "\n",
              "    .dataframe tbody tr th {\n",
              "        vertical-align: top;\n",
              "    }\n",
              "\n",
              "    .dataframe thead th {\n",
              "        text-align: right;\n",
              "    }\n",
              "</style>\n",
              "<table border=\"1\" class=\"dataframe\">\n",
              "  <thead>\n",
              "    <tr style=\"text-align: right;\">\n",
              "      <th></th>\n",
              "      <th>indice</th>\n",
              "      <th>Data</th>\n",
              "      <th>Condado</th>\n",
              "      <th>Estado</th>\n",
              "      <th>Numero_total_vacinados</th>\n",
              "      <th>Numero_total_65+</th>\n",
              "      <th>Porcentagem_total_65+</th>\n",
              "    </tr>\n",
              "  </thead>\n",
              "  <tbody>\n",
              "    <tr>\n",
              "      <th>0</th>\n",
              "      <td>332</td>\n",
              "      <td>2021-08-10</td>\n",
              "      <td>New Haven County</td>\n",
              "      <td>CT</td>\n",
              "      <td>581344</td>\n",
              "      <td>137567</td>\n",
              "      <td>90.1</td>\n",
              "    </tr>\n",
              "    <tr>\n",
              "      <th>1</th>\n",
              "      <td>324</td>\n",
              "      <td>2021-09-10</td>\n",
              "      <td>New Haven County</td>\n",
              "      <td>CT</td>\n",
              "      <td>581984</td>\n",
              "      <td>137635</td>\n",
              "      <td>90.2</td>\n",
              "    </tr>\n",
              "    <tr>\n",
              "      <th>2</th>\n",
              "      <td>313</td>\n",
              "      <td>2021-10-10</td>\n",
              "      <td>New Haven County</td>\n",
              "      <td>CT</td>\n",
              "      <td>582504</td>\n",
              "      <td>137680</td>\n",
              "      <td>90.2</td>\n",
              "    </tr>\n",
              "    <tr>\n",
              "      <th>3</th>\n",
              "      <td>309</td>\n",
              "      <td>2021-11-10</td>\n",
              "      <td>New Haven County</td>\n",
              "      <td>CT</td>\n",
              "      <td>583285</td>\n",
              "      <td>137737</td>\n",
              "      <td>90.2</td>\n",
              "    </tr>\n",
              "    <tr>\n",
              "      <th>4</th>\n",
              "      <td>301</td>\n",
              "      <td>2021-12-10</td>\n",
              "      <td>New Haven County</td>\n",
              "      <td>CT</td>\n",
              "      <td>583557</td>\n",
              "      <td>137754</td>\n",
              "      <td>90.3</td>\n",
              "    </tr>\n",
              "  </tbody>\n",
              "</table>\n",
              "</div>"
            ],
            "text/plain": [
              "   indice        Data  ... Numero_total_65+ Porcentagem_total_65+\n",
              "0     332  2021-08-10  ...           137567                  90.1\n",
              "1     324  2021-09-10  ...           137635                  90.2\n",
              "2     313  2021-10-10  ...           137680                  90.2\n",
              "3     309  2021-11-10  ...           137737                  90.2\n",
              "4     301  2021-12-10  ...           137754                  90.3\n",
              "\n",
              "[5 rows x 7 columns]"
            ]
          },
          "metadata": {},
          "execution_count": 41
        }
      ]
    },
    {
      "cell_type": "markdown",
      "metadata": {
        "id": "vicNwhlwpJL1"
      },
      "source": [
        "Criando colunas com dados diários"
      ]
    },
    {
      "cell_type": "code",
      "metadata": {
        "colab": {
          "base_uri": "https://localhost:8080/"
        },
        "id": "jnnjIn-zkd_z",
        "outputId": "dff0f80b-98cd-4a2d-a6a8-1b59c77fb0a3"
      },
      "source": [
        "df4['Vacinas_Dia'] = df4['Numero_total_vacinados'].sub(df4['Numero_total_vacinados'].shift())\n",
        "df4['Vacinas_Dia'].iloc[0] = df4['Numero_total_vacinados'].iloc[0]\n",
        "\n",
        "df4['Vacinas_Dia_65+'] = df4['Numero_total_65+'].sub(df4['Numero_total_65+'].shift())\n",
        "df4['Vacinas_Dia_65+'].iloc[0] = df4['Numero_total_65+'].iloc[0]"
      ],
      "execution_count": null,
      "outputs": [
        {
          "output_type": "stream",
          "name": "stderr",
          "text": [
            "/usr/local/lib/python3.7/dist-packages/pandas/core/indexing.py:670: SettingWithCopyWarning: \n",
            "A value is trying to be set on a copy of a slice from a DataFrame\n",
            "\n",
            "See the caveats in the documentation: https://pandas.pydata.org/pandas-docs/stable/user_guide/indexing.html#returning-a-view-versus-a-copy\n",
            "  iloc._setitem_with_indexer(indexer, value)\n"
          ]
        }
      ]
    },
    {
      "cell_type": "code",
      "metadata": {
        "colab": {
          "base_uri": "https://localhost:8080/",
          "height": 206
        },
        "id": "BYEljLDQlbSL",
        "outputId": "5eaf3b99-552c-4679-e807-5e860d9595ff"
      },
      "source": [
        "df4.head()"
      ],
      "execution_count": null,
      "outputs": [
        {
          "output_type": "execute_result",
          "data": {
            "text/html": [
              "<div>\n",
              "<style scoped>\n",
              "    .dataframe tbody tr th:only-of-type {\n",
              "        vertical-align: middle;\n",
              "    }\n",
              "\n",
              "    .dataframe tbody tr th {\n",
              "        vertical-align: top;\n",
              "    }\n",
              "\n",
              "    .dataframe thead th {\n",
              "        text-align: right;\n",
              "    }\n",
              "</style>\n",
              "<table border=\"1\" class=\"dataframe\">\n",
              "  <thead>\n",
              "    <tr style=\"text-align: right;\">\n",
              "      <th></th>\n",
              "      <th>indice</th>\n",
              "      <th>Data</th>\n",
              "      <th>Condado</th>\n",
              "      <th>Estado</th>\n",
              "      <th>Numero_total_vacinados</th>\n",
              "      <th>Numero_total_65+</th>\n",
              "      <th>Porcentagem_total_65+</th>\n",
              "      <th>Vacinas_Dia</th>\n",
              "      <th>Vacinas_Dia_65+</th>\n",
              "    </tr>\n",
              "  </thead>\n",
              "  <tbody>\n",
              "    <tr>\n",
              "      <th>0</th>\n",
              "      <td>332</td>\n",
              "      <td>2021-08-10</td>\n",
              "      <td>New Haven County</td>\n",
              "      <td>CT</td>\n",
              "      <td>581344</td>\n",
              "      <td>137567</td>\n",
              "      <td>90.1</td>\n",
              "      <td>581344.0</td>\n",
              "      <td>137567.0</td>\n",
              "    </tr>\n",
              "    <tr>\n",
              "      <th>1</th>\n",
              "      <td>324</td>\n",
              "      <td>2021-09-10</td>\n",
              "      <td>New Haven County</td>\n",
              "      <td>CT</td>\n",
              "      <td>581984</td>\n",
              "      <td>137635</td>\n",
              "      <td>90.2</td>\n",
              "      <td>640.0</td>\n",
              "      <td>68.0</td>\n",
              "    </tr>\n",
              "    <tr>\n",
              "      <th>2</th>\n",
              "      <td>313</td>\n",
              "      <td>2021-10-10</td>\n",
              "      <td>New Haven County</td>\n",
              "      <td>CT</td>\n",
              "      <td>582504</td>\n",
              "      <td>137680</td>\n",
              "      <td>90.2</td>\n",
              "      <td>520.0</td>\n",
              "      <td>45.0</td>\n",
              "    </tr>\n",
              "    <tr>\n",
              "      <th>3</th>\n",
              "      <td>309</td>\n",
              "      <td>2021-11-10</td>\n",
              "      <td>New Haven County</td>\n",
              "      <td>CT</td>\n",
              "      <td>583285</td>\n",
              "      <td>137737</td>\n",
              "      <td>90.2</td>\n",
              "      <td>781.0</td>\n",
              "      <td>57.0</td>\n",
              "    </tr>\n",
              "    <tr>\n",
              "      <th>4</th>\n",
              "      <td>301</td>\n",
              "      <td>2021-12-10</td>\n",
              "      <td>New Haven County</td>\n",
              "      <td>CT</td>\n",
              "      <td>583557</td>\n",
              "      <td>137754</td>\n",
              "      <td>90.3</td>\n",
              "      <td>272.0</td>\n",
              "      <td>17.0</td>\n",
              "    </tr>\n",
              "  </tbody>\n",
              "</table>\n",
              "</div>"
            ],
            "text/plain": [
              "   indice        Data  ... Vacinas_Dia Vacinas_Dia_65+\n",
              "0     332  2021-08-10  ...    581344.0        137567.0\n",
              "1     324  2021-09-10  ...       640.0            68.0\n",
              "2     313  2021-10-10  ...       520.0            45.0\n",
              "3     309  2021-11-10  ...       781.0            57.0\n",
              "4     301  2021-12-10  ...       272.0            17.0\n",
              "\n",
              "[5 rows x 9 columns]"
            ]
          },
          "metadata": {},
          "execution_count": 43
        }
      ]
    },
    {
      "cell_type": "markdown",
      "metadata": {
        "id": "bOYigHmopPzF"
      },
      "source": [
        "Salvando arquivos e fazendo upload em nuvem"
      ]
    },
    {
      "cell_type": "code",
      "metadata": {
        "id": "b_lYqeauliia"
      },
      "source": [
        "bucket = storage_client.get_bucket('projeto-finalsc01')\n",
        "bucket.blob('dados_tratados_condados/New_Haven_County_Vacinacao.csv').upload_from_string(df4.to_csv(index=False),'New_Haven_County_Vacinacao.csv')"
      ],
      "execution_count": null,
      "outputs": []
    },
    {
      "cell_type": "code",
      "metadata": {
        "id": "qNG7iD3kl0Y8"
      },
      "source": [
        "df4.to_csv('New_Haven_County_Vacinacao.csv', index=False)"
      ],
      "execution_count": null,
      "outputs": []
    },
    {
      "cell_type": "markdown",
      "metadata": {
        "id": "kE8OnmeEmZ7x"
      },
      "source": [
        "Tratamento DataFrame 5"
      ]
    },
    {
      "cell_type": "markdown",
      "metadata": {
        "id": "il2toyjhpbQl"
      },
      "source": [
        "Criando DataFrame"
      ]
    },
    {
      "cell_type": "code",
      "metadata": {
        "colab": {
          "base_uri": "https://localhost:8080/",
          "height": 206
        },
        "id": "iiBrURs5mOSS",
        "outputId": "8a99889d-359b-4359-ac83-40bb09d15ac4"
      },
      "source": [
        "df5 = pd.read_csv(io.BytesIO(data5), encoding='utf-8', sep=',')\n",
        "\n",
        "df5.head()"
      ],
      "execution_count": null,
      "outputs": [
        {
          "output_type": "execute_result",
          "data": {
            "text/html": [
              "<div>\n",
              "<style scoped>\n",
              "    .dataframe tbody tr th:only-of-type {\n",
              "        vertical-align: middle;\n",
              "    }\n",
              "\n",
              "    .dataframe tbody tr th {\n",
              "        vertical-align: top;\n",
              "    }\n",
              "\n",
              "    .dataframe thead th {\n",
              "        text-align: right;\n",
              "    }\n",
              "</style>\n",
              "<table border=\"1\" class=\"dataframe\">\n",
              "  <thead>\n",
              "    <tr style=\"text-align: right;\">\n",
              "      <th></th>\n",
              "      <th>indice</th>\n",
              "      <th>Data</th>\n",
              "      <th>Condado</th>\n",
              "      <th>Estado</th>\n",
              "      <th>Numero_total_vacinados</th>\n",
              "      <th>Numero_total_65+</th>\n",
              "      <th>Porcentagem_total_65+</th>\n",
              "    </tr>\n",
              "  </thead>\n",
              "  <tbody>\n",
              "    <tr>\n",
              "      <th>0</th>\n",
              "      <td>333</td>\n",
              "      <td>2021-08-10</td>\n",
              "      <td>Fairfield County</td>\n",
              "      <td>CT</td>\n",
              "      <td>669951</td>\n",
              "      <td>139370</td>\n",
              "      <td>90.5</td>\n",
              "    </tr>\n",
              "    <tr>\n",
              "      <th>1</th>\n",
              "      <td>325</td>\n",
              "      <td>2021-09-10</td>\n",
              "      <td>Fairfield County</td>\n",
              "      <td>CT</td>\n",
              "      <td>670549</td>\n",
              "      <td>139440</td>\n",
              "      <td>90.6</td>\n",
              "    </tr>\n",
              "    <tr>\n",
              "      <th>2</th>\n",
              "      <td>312</td>\n",
              "      <td>2021-10-10</td>\n",
              "      <td>Fairfield County</td>\n",
              "      <td>CT</td>\n",
              "      <td>671094</td>\n",
              "      <td>139495</td>\n",
              "      <td>90.6</td>\n",
              "    </tr>\n",
              "    <tr>\n",
              "      <th>3</th>\n",
              "      <td>311</td>\n",
              "      <td>2021-11-10</td>\n",
              "      <td>Fairfield County</td>\n",
              "      <td>CT</td>\n",
              "      <td>671797</td>\n",
              "      <td>139548</td>\n",
              "      <td>90.6</td>\n",
              "    </tr>\n",
              "    <tr>\n",
              "      <th>4</th>\n",
              "      <td>302</td>\n",
              "      <td>2021-12-10</td>\n",
              "      <td>Fairfield County</td>\n",
              "      <td>CT</td>\n",
              "      <td>672101</td>\n",
              "      <td>139576</td>\n",
              "      <td>90.7</td>\n",
              "    </tr>\n",
              "  </tbody>\n",
              "</table>\n",
              "</div>"
            ],
            "text/plain": [
              "   indice        Data  ... Numero_total_65+ Porcentagem_total_65+\n",
              "0     333  2021-08-10  ...           139370                  90.5\n",
              "1     325  2021-09-10  ...           139440                  90.6\n",
              "2     312  2021-10-10  ...           139495                  90.6\n",
              "3     311  2021-11-10  ...           139548                  90.6\n",
              "4     302  2021-12-10  ...           139576                  90.7\n",
              "\n",
              "[5 rows x 7 columns]"
            ]
          },
          "metadata": {},
          "execution_count": 46
        }
      ]
    },
    {
      "cell_type": "markdown",
      "metadata": {
        "id": "rMdsbenVpkKt"
      },
      "source": [
        "Criando colunas com dados diários"
      ]
    },
    {
      "cell_type": "code",
      "metadata": {
        "colab": {
          "base_uri": "https://localhost:8080/"
        },
        "id": "t-lxlN0Hmn7B",
        "outputId": "25f0f4f8-33fd-4952-95a5-eee984106d8a"
      },
      "source": [
        "df5['Vacinas_Dia'] = df5['Numero_total_vacinados'].sub(df5['Numero_total_vacinados'].shift())\n",
        "df5['Vacinas_Dia'].iloc[0] = df5['Numero_total_vacinados'].iloc[0]\n",
        "\n",
        "df5['Vacinas_Dia_65+'] = df5['Numero_total_65+'].sub(df5['Numero_total_65+'].shift())\n",
        "df5['Vacinas_Dia_65+'].iloc[0] = df5['Numero_total_65+'].iloc[0]"
      ],
      "execution_count": null,
      "outputs": [
        {
          "output_type": "stream",
          "name": "stderr",
          "text": [
            "/usr/local/lib/python3.7/dist-packages/pandas/core/indexing.py:670: SettingWithCopyWarning: \n",
            "A value is trying to be set on a copy of a slice from a DataFrame\n",
            "\n",
            "See the caveats in the documentation: https://pandas.pydata.org/pandas-docs/stable/user_guide/indexing.html#returning-a-view-versus-a-copy\n",
            "  iloc._setitem_with_indexer(indexer, value)\n"
          ]
        }
      ]
    },
    {
      "cell_type": "code",
      "metadata": {
        "colab": {
          "base_uri": "https://localhost:8080/",
          "height": 206
        },
        "id": "6JaihRi4n-oK",
        "outputId": "5dd9019b-8a53-4bb9-a1b3-0d8efb5aac5b"
      },
      "source": [
        "df5.head()"
      ],
      "execution_count": null,
      "outputs": [
        {
          "output_type": "execute_result",
          "data": {
            "text/html": [
              "<div>\n",
              "<style scoped>\n",
              "    .dataframe tbody tr th:only-of-type {\n",
              "        vertical-align: middle;\n",
              "    }\n",
              "\n",
              "    .dataframe tbody tr th {\n",
              "        vertical-align: top;\n",
              "    }\n",
              "\n",
              "    .dataframe thead th {\n",
              "        text-align: right;\n",
              "    }\n",
              "</style>\n",
              "<table border=\"1\" class=\"dataframe\">\n",
              "  <thead>\n",
              "    <tr style=\"text-align: right;\">\n",
              "      <th></th>\n",
              "      <th>indice</th>\n",
              "      <th>Data</th>\n",
              "      <th>Condado</th>\n",
              "      <th>Estado</th>\n",
              "      <th>Numero_total_vacinados</th>\n",
              "      <th>Numero_total_65+</th>\n",
              "      <th>Porcentagem_total_65+</th>\n",
              "      <th>Vacinas_Dia</th>\n",
              "      <th>Vacinas_Dia_65+</th>\n",
              "    </tr>\n",
              "  </thead>\n",
              "  <tbody>\n",
              "    <tr>\n",
              "      <th>0</th>\n",
              "      <td>333</td>\n",
              "      <td>2021-08-10</td>\n",
              "      <td>Fairfield County</td>\n",
              "      <td>CT</td>\n",
              "      <td>669951</td>\n",
              "      <td>139370</td>\n",
              "      <td>90.5</td>\n",
              "      <td>669951.0</td>\n",
              "      <td>139370.0</td>\n",
              "    </tr>\n",
              "    <tr>\n",
              "      <th>1</th>\n",
              "      <td>325</td>\n",
              "      <td>2021-09-10</td>\n",
              "      <td>Fairfield County</td>\n",
              "      <td>CT</td>\n",
              "      <td>670549</td>\n",
              "      <td>139440</td>\n",
              "      <td>90.6</td>\n",
              "      <td>598.0</td>\n",
              "      <td>70.0</td>\n",
              "    </tr>\n",
              "    <tr>\n",
              "      <th>2</th>\n",
              "      <td>312</td>\n",
              "      <td>2021-10-10</td>\n",
              "      <td>Fairfield County</td>\n",
              "      <td>CT</td>\n",
              "      <td>671094</td>\n",
              "      <td>139495</td>\n",
              "      <td>90.6</td>\n",
              "      <td>545.0</td>\n",
              "      <td>55.0</td>\n",
              "    </tr>\n",
              "    <tr>\n",
              "      <th>3</th>\n",
              "      <td>311</td>\n",
              "      <td>2021-11-10</td>\n",
              "      <td>Fairfield County</td>\n",
              "      <td>CT</td>\n",
              "      <td>671797</td>\n",
              "      <td>139548</td>\n",
              "      <td>90.6</td>\n",
              "      <td>703.0</td>\n",
              "      <td>53.0</td>\n",
              "    </tr>\n",
              "    <tr>\n",
              "      <th>4</th>\n",
              "      <td>302</td>\n",
              "      <td>2021-12-10</td>\n",
              "      <td>Fairfield County</td>\n",
              "      <td>CT</td>\n",
              "      <td>672101</td>\n",
              "      <td>139576</td>\n",
              "      <td>90.7</td>\n",
              "      <td>304.0</td>\n",
              "      <td>28.0</td>\n",
              "    </tr>\n",
              "  </tbody>\n",
              "</table>\n",
              "</div>"
            ],
            "text/plain": [
              "   indice        Data  ... Vacinas_Dia Vacinas_Dia_65+\n",
              "0     333  2021-08-10  ...    669951.0        139370.0\n",
              "1     325  2021-09-10  ...       598.0            70.0\n",
              "2     312  2021-10-10  ...       545.0            55.0\n",
              "3     311  2021-11-10  ...       703.0            53.0\n",
              "4     302  2021-12-10  ...       304.0            28.0\n",
              "\n",
              "[5 rows x 9 columns]"
            ]
          },
          "metadata": {},
          "execution_count": 48
        }
      ]
    },
    {
      "cell_type": "markdown",
      "metadata": {
        "id": "EXTFk-ZMpwPV"
      },
      "source": [
        "Salvando arquivos e fazendo upload em nuvem"
      ]
    },
    {
      "cell_type": "code",
      "metadata": {
        "id": "oXPLh6MhoEpx"
      },
      "source": [
        "bucket = storage_client.get_bucket('projeto-finalsc01')\n",
        "bucket.blob('dados_tratados_condados/Fairfield_County_Vacinacao.csv').upload_from_string(df5.to_csv(index=False),'Fairfield_County_Vacinacao.csv')"
      ],
      "execution_count": null,
      "outputs": []
    },
    {
      "cell_type": "code",
      "metadata": {
        "id": "HJZrUDMjoQ6p"
      },
      "source": [
        "df5.to_csv('Fairfield_County_Vacinacao.csv', index=False)"
      ],
      "execution_count": null,
      "outputs": []
    },
    {
      "cell_type": "markdown",
      "metadata": {
        "id": "Vuk2NbExosrK"
      },
      "source": [
        "Tratamento DataFrame 6"
      ]
    },
    {
      "cell_type": "markdown",
      "metadata": {
        "id": "7yUeYOXpqAik"
      },
      "source": [
        "Criando DataFrame"
      ]
    },
    {
      "cell_type": "code",
      "metadata": {
        "colab": {
          "base_uri": "https://localhost:8080/",
          "height": 206
        },
        "id": "fWj0Jp4Iotno",
        "outputId": "87762975-2472-4679-b7da-1eb3e9566634"
      },
      "source": [
        "df6 = pd.read_csv(io.BytesIO(data6), encoding='utf-8', sep=',')\n",
        "\n",
        "df6.head()"
      ],
      "execution_count": null,
      "outputs": [
        {
          "output_type": "execute_result",
          "data": {
            "text/html": [
              "<div>\n",
              "<style scoped>\n",
              "    .dataframe tbody tr th:only-of-type {\n",
              "        vertical-align: middle;\n",
              "    }\n",
              "\n",
              "    .dataframe tbody tr th {\n",
              "        vertical-align: top;\n",
              "    }\n",
              "\n",
              "    .dataframe thead th {\n",
              "        text-align: right;\n",
              "    }\n",
              "</style>\n",
              "<table border=\"1\" class=\"dataframe\">\n",
              "  <thead>\n",
              "    <tr style=\"text-align: right;\">\n",
              "      <th></th>\n",
              "      <th>indice</th>\n",
              "      <th>Data</th>\n",
              "      <th>Condado</th>\n",
              "      <th>Estado</th>\n",
              "      <th>Numero_total_vacinados</th>\n",
              "      <th>Numero_total_65+</th>\n",
              "      <th>Porcentagem_total_65+</th>\n",
              "    </tr>\n",
              "  </thead>\n",
              "  <tbody>\n",
              "    <tr>\n",
              "      <th>0</th>\n",
              "      <td>340</td>\n",
              "      <td>2021-07-10</td>\n",
              "      <td>Hartford County</td>\n",
              "      <td>CT</td>\n",
              "      <td>592463</td>\n",
              "      <td>143645</td>\n",
              "      <td>92.4</td>\n",
              "    </tr>\n",
              "    <tr>\n",
              "      <th>1</th>\n",
              "      <td>331</td>\n",
              "      <td>2021-08-10</td>\n",
              "      <td>Hartford County</td>\n",
              "      <td>CT</td>\n",
              "      <td>593355</td>\n",
              "      <td>143713</td>\n",
              "      <td>92.4</td>\n",
              "    </tr>\n",
              "    <tr>\n",
              "      <th>2</th>\n",
              "      <td>327</td>\n",
              "      <td>2021-09-10</td>\n",
              "      <td>Hartford County</td>\n",
              "      <td>CT</td>\n",
              "      <td>594020</td>\n",
              "      <td>143781</td>\n",
              "      <td>92.5</td>\n",
              "    </tr>\n",
              "    <tr>\n",
              "      <th>3</th>\n",
              "      <td>319</td>\n",
              "      <td>2021-10-10</td>\n",
              "      <td>Hartford County</td>\n",
              "      <td>CT</td>\n",
              "      <td>594595</td>\n",
              "      <td>143818</td>\n",
              "      <td>92.5</td>\n",
              "    </tr>\n",
              "    <tr>\n",
              "      <th>4</th>\n",
              "      <td>305</td>\n",
              "      <td>2021-11-10</td>\n",
              "      <td>Hartford County</td>\n",
              "      <td>CT</td>\n",
              "      <td>595188</td>\n",
              "      <td>143867</td>\n",
              "      <td>92.5</td>\n",
              "    </tr>\n",
              "  </tbody>\n",
              "</table>\n",
              "</div>"
            ],
            "text/plain": [
              "   indice        Data  ... Numero_total_65+ Porcentagem_total_65+\n",
              "0     340  2021-07-10  ...           143645                  92.4\n",
              "1     331  2021-08-10  ...           143713                  92.4\n",
              "2     327  2021-09-10  ...           143781                  92.5\n",
              "3     319  2021-10-10  ...           143818                  92.5\n",
              "4     305  2021-11-10  ...           143867                  92.5\n",
              "\n",
              "[5 rows x 7 columns]"
            ]
          },
          "metadata": {},
          "execution_count": 51
        }
      ]
    },
    {
      "cell_type": "markdown",
      "metadata": {
        "id": "bLzBPsxbp9G0"
      },
      "source": [
        "Criando colunas com dados diários"
      ]
    },
    {
      "cell_type": "code",
      "metadata": {
        "colab": {
          "base_uri": "https://localhost:8080/"
        },
        "id": "rbA6a9hPo8ki",
        "outputId": "1084dbc4-fcaa-4fd3-9469-aec3dc65f8c7"
      },
      "source": [
        "df6['Vacinas_Dia'] = df6['Numero_total_vacinados'].sub(df6['Numero_total_vacinados'].shift())\n",
        "df6['Vacinas_Dia'].iloc[0] = df6['Numero_total_vacinados'].iloc[0]\n",
        "\n",
        "df6['Vacinas_Dia_65+'] = df6['Numero_total_65+'].sub(df6['Numero_total_65+'].shift())\n",
        "df6['Vacinas_Dia_65+'].iloc[0] = df6['Numero_total_65+'].iloc[0]"
      ],
      "execution_count": null,
      "outputs": [
        {
          "output_type": "stream",
          "name": "stderr",
          "text": [
            "/usr/local/lib/python3.7/dist-packages/pandas/core/indexing.py:670: SettingWithCopyWarning: \n",
            "A value is trying to be set on a copy of a slice from a DataFrame\n",
            "\n",
            "See the caveats in the documentation: https://pandas.pydata.org/pandas-docs/stable/user_guide/indexing.html#returning-a-view-versus-a-copy\n",
            "  iloc._setitem_with_indexer(indexer, value)\n"
          ]
        }
      ]
    },
    {
      "cell_type": "code",
      "metadata": {
        "colab": {
          "base_uri": "https://localhost:8080/",
          "height": 206
        },
        "id": "ec2C4cxPpW1v",
        "outputId": "d07b2833-03b7-47b9-ebfe-85b1049e1ef1"
      },
      "source": [
        "df6.head()"
      ],
      "execution_count": null,
      "outputs": [
        {
          "output_type": "execute_result",
          "data": {
            "text/html": [
              "<div>\n",
              "<style scoped>\n",
              "    .dataframe tbody tr th:only-of-type {\n",
              "        vertical-align: middle;\n",
              "    }\n",
              "\n",
              "    .dataframe tbody tr th {\n",
              "        vertical-align: top;\n",
              "    }\n",
              "\n",
              "    .dataframe thead th {\n",
              "        text-align: right;\n",
              "    }\n",
              "</style>\n",
              "<table border=\"1\" class=\"dataframe\">\n",
              "  <thead>\n",
              "    <tr style=\"text-align: right;\">\n",
              "      <th></th>\n",
              "      <th>indice</th>\n",
              "      <th>Data</th>\n",
              "      <th>Condado</th>\n",
              "      <th>Estado</th>\n",
              "      <th>Numero_total_vacinados</th>\n",
              "      <th>Numero_total_65+</th>\n",
              "      <th>Porcentagem_total_65+</th>\n",
              "      <th>Vacinas_Dia</th>\n",
              "      <th>Vacinas_Dia_65+</th>\n",
              "    </tr>\n",
              "  </thead>\n",
              "  <tbody>\n",
              "    <tr>\n",
              "      <th>0</th>\n",
              "      <td>340</td>\n",
              "      <td>2021-07-10</td>\n",
              "      <td>Hartford County</td>\n",
              "      <td>CT</td>\n",
              "      <td>592463</td>\n",
              "      <td>143645</td>\n",
              "      <td>92.4</td>\n",
              "      <td>592463.0</td>\n",
              "      <td>143645.0</td>\n",
              "    </tr>\n",
              "    <tr>\n",
              "      <th>1</th>\n",
              "      <td>331</td>\n",
              "      <td>2021-08-10</td>\n",
              "      <td>Hartford County</td>\n",
              "      <td>CT</td>\n",
              "      <td>593355</td>\n",
              "      <td>143713</td>\n",
              "      <td>92.4</td>\n",
              "      <td>892.0</td>\n",
              "      <td>68.0</td>\n",
              "    </tr>\n",
              "    <tr>\n",
              "      <th>2</th>\n",
              "      <td>327</td>\n",
              "      <td>2021-09-10</td>\n",
              "      <td>Hartford County</td>\n",
              "      <td>CT</td>\n",
              "      <td>594020</td>\n",
              "      <td>143781</td>\n",
              "      <td>92.5</td>\n",
              "      <td>665.0</td>\n",
              "      <td>68.0</td>\n",
              "    </tr>\n",
              "    <tr>\n",
              "      <th>3</th>\n",
              "      <td>319</td>\n",
              "      <td>2021-10-10</td>\n",
              "      <td>Hartford County</td>\n",
              "      <td>CT</td>\n",
              "      <td>594595</td>\n",
              "      <td>143818</td>\n",
              "      <td>92.5</td>\n",
              "      <td>575.0</td>\n",
              "      <td>37.0</td>\n",
              "    </tr>\n",
              "    <tr>\n",
              "      <th>4</th>\n",
              "      <td>305</td>\n",
              "      <td>2021-11-10</td>\n",
              "      <td>Hartford County</td>\n",
              "      <td>CT</td>\n",
              "      <td>595188</td>\n",
              "      <td>143867</td>\n",
              "      <td>92.5</td>\n",
              "      <td>593.0</td>\n",
              "      <td>49.0</td>\n",
              "    </tr>\n",
              "  </tbody>\n",
              "</table>\n",
              "</div>"
            ],
            "text/plain": [
              "   indice        Data  ... Vacinas_Dia Vacinas_Dia_65+\n",
              "0     340  2021-07-10  ...    592463.0        143645.0\n",
              "1     331  2021-08-10  ...       892.0            68.0\n",
              "2     327  2021-09-10  ...       665.0            68.0\n",
              "3     319  2021-10-10  ...       575.0            37.0\n",
              "4     305  2021-11-10  ...       593.0            49.0\n",
              "\n",
              "[5 rows x 9 columns]"
            ]
          },
          "metadata": {},
          "execution_count": 53
        }
      ]
    },
    {
      "cell_type": "markdown",
      "metadata": {
        "id": "Qae8RoD1qRRk"
      },
      "source": [
        "Salvando arquivos e fazendo upload em nuvem"
      ]
    },
    {
      "cell_type": "code",
      "metadata": {
        "id": "eAzl8hH8pihH"
      },
      "source": [
        "bucket = storage_client.get_bucket('projeto-finalsc01')\n",
        "bucket.blob('dados_tratados_condados/Hartford_County_Vacinacao.csv').upload_from_string(df6.to_csv(index=False),'Hartford_County_Vacinacao.csv')"
      ],
      "execution_count": null,
      "outputs": []
    },
    {
      "cell_type": "code",
      "metadata": {
        "id": "Ro-3ej5KptfB"
      },
      "source": [
        "df6.to_csv('Hartford_County_Vacinacao.csv', index=False)"
      ],
      "execution_count": null,
      "outputs": []
    },
    {
      "cell_type": "markdown",
      "metadata": {
        "id": "y3xh6N8epz73"
      },
      "source": [
        "#Unindo DataFrames de Vacinação com Append"
      ]
    },
    {
      "cell_type": "code",
      "metadata": {
        "id": "nl1RCuw-p9RH"
      },
      "source": [
        "dfb = df4.append([df5, df6], ignore_index=True)"
      ],
      "execution_count": null,
      "outputs": []
    },
    {
      "cell_type": "code",
      "metadata": {
        "colab": {
          "base_uri": "https://localhost:8080/",
          "height": 423
        },
        "id": "t-oLtE6LqM2H",
        "outputId": "aaf472ec-f078-45bc-b4ed-e66b431f7881"
      },
      "source": [
        "dfb"
      ],
      "execution_count": null,
      "outputs": [
        {
          "output_type": "execute_result",
          "data": {
            "text/html": [
              "<div>\n",
              "<style scoped>\n",
              "    .dataframe tbody tr th:only-of-type {\n",
              "        vertical-align: middle;\n",
              "    }\n",
              "\n",
              "    .dataframe tbody tr th {\n",
              "        vertical-align: top;\n",
              "    }\n",
              "\n",
              "    .dataframe thead th {\n",
              "        text-align: right;\n",
              "    }\n",
              "</style>\n",
              "<table border=\"1\" class=\"dataframe\">\n",
              "  <thead>\n",
              "    <tr style=\"text-align: right;\">\n",
              "      <th></th>\n",
              "      <th>indice</th>\n",
              "      <th>Data</th>\n",
              "      <th>Condado</th>\n",
              "      <th>Estado</th>\n",
              "      <th>Numero_total_vacinados</th>\n",
              "      <th>Numero_total_65+</th>\n",
              "      <th>Porcentagem_total_65+</th>\n",
              "      <th>Vacinas_Dia</th>\n",
              "      <th>Vacinas_Dia_65+</th>\n",
              "    </tr>\n",
              "  </thead>\n",
              "  <tbody>\n",
              "    <tr>\n",
              "      <th>0</th>\n",
              "      <td>332</td>\n",
              "      <td>2021-08-10</td>\n",
              "      <td>New Haven County</td>\n",
              "      <td>CT</td>\n",
              "      <td>581344</td>\n",
              "      <td>137567</td>\n",
              "      <td>90.1</td>\n",
              "      <td>581344.0</td>\n",
              "      <td>137567.0</td>\n",
              "    </tr>\n",
              "    <tr>\n",
              "      <th>1</th>\n",
              "      <td>324</td>\n",
              "      <td>2021-09-10</td>\n",
              "      <td>New Haven County</td>\n",
              "      <td>CT</td>\n",
              "      <td>581984</td>\n",
              "      <td>137635</td>\n",
              "      <td>90.2</td>\n",
              "      <td>640.0</td>\n",
              "      <td>68.0</td>\n",
              "    </tr>\n",
              "    <tr>\n",
              "      <th>2</th>\n",
              "      <td>313</td>\n",
              "      <td>2021-10-10</td>\n",
              "      <td>New Haven County</td>\n",
              "      <td>CT</td>\n",
              "      <td>582504</td>\n",
              "      <td>137680</td>\n",
              "      <td>90.2</td>\n",
              "      <td>520.0</td>\n",
              "      <td>45.0</td>\n",
              "    </tr>\n",
              "    <tr>\n",
              "      <th>3</th>\n",
              "      <td>309</td>\n",
              "      <td>2021-11-10</td>\n",
              "      <td>New Haven County</td>\n",
              "      <td>CT</td>\n",
              "      <td>583285</td>\n",
              "      <td>137737</td>\n",
              "      <td>90.2</td>\n",
              "      <td>781.0</td>\n",
              "      <td>57.0</td>\n",
              "    </tr>\n",
              "    <tr>\n",
              "      <th>4</th>\n",
              "      <td>301</td>\n",
              "      <td>2021-12-10</td>\n",
              "      <td>New Haven County</td>\n",
              "      <td>CT</td>\n",
              "      <td>583557</td>\n",
              "      <td>137754</td>\n",
              "      <td>90.3</td>\n",
              "      <td>272.0</td>\n",
              "      <td>17.0</td>\n",
              "    </tr>\n",
              "    <tr>\n",
              "      <th>...</th>\n",
              "      <td>...</td>\n",
              "      <td>...</td>\n",
              "      <td>...</td>\n",
              "      <td>...</td>\n",
              "      <td>...</td>\n",
              "      <td>...</td>\n",
              "      <td>...</td>\n",
              "      <td>...</td>\n",
              "      <td>...</td>\n",
              "    </tr>\n",
              "    <tr>\n",
              "      <th>122</th>\n",
              "      <td>35</td>\n",
              "      <td>2021-11-13</td>\n",
              "      <td>Hartford County</td>\n",
              "      <td>CT</td>\n",
              "      <td>610264</td>\n",
              "      <td>145400</td>\n",
              "      <td>93.5</td>\n",
              "      <td>0.0</td>\n",
              "      <td>0.0</td>\n",
              "    </tr>\n",
              "    <tr>\n",
              "      <th>123</th>\n",
              "      <td>24</td>\n",
              "      <td>2021-11-14</td>\n",
              "      <td>Hartford County</td>\n",
              "      <td>CT</td>\n",
              "      <td>610651</td>\n",
              "      <td>145437</td>\n",
              "      <td>93.5</td>\n",
              "      <td>387.0</td>\n",
              "      <td>37.0</td>\n",
              "    </tr>\n",
              "    <tr>\n",
              "      <th>124</th>\n",
              "      <td>17</td>\n",
              "      <td>2021-11-15</td>\n",
              "      <td>Hartford County</td>\n",
              "      <td>CT</td>\n",
              "      <td>610972</td>\n",
              "      <td>145461</td>\n",
              "      <td>93.5</td>\n",
              "      <td>321.0</td>\n",
              "      <td>24.0</td>\n",
              "    </tr>\n",
              "    <tr>\n",
              "      <th>125</th>\n",
              "      <td>12</td>\n",
              "      <td>2021-11-16</td>\n",
              "      <td>Hartford County</td>\n",
              "      <td>CT</td>\n",
              "      <td>611131</td>\n",
              "      <td>145475</td>\n",
              "      <td>93.6</td>\n",
              "      <td>159.0</td>\n",
              "      <td>14.0</td>\n",
              "    </tr>\n",
              "    <tr>\n",
              "      <th>126</th>\n",
              "      <td>3</td>\n",
              "      <td>2021-11-17</td>\n",
              "      <td>Hartford County</td>\n",
              "      <td>CT</td>\n",
              "      <td>611379</td>\n",
              "      <td>145498</td>\n",
              "      <td>93.6</td>\n",
              "      <td>248.0</td>\n",
              "      <td>23.0</td>\n",
              "    </tr>\n",
              "  </tbody>\n",
              "</table>\n",
              "<p>127 rows × 9 columns</p>\n",
              "</div>"
            ],
            "text/plain": [
              "     indice        Data  ... Vacinas_Dia Vacinas_Dia_65+\n",
              "0       332  2021-08-10  ...    581344.0        137567.0\n",
              "1       324  2021-09-10  ...       640.0            68.0\n",
              "2       313  2021-10-10  ...       520.0            45.0\n",
              "3       309  2021-11-10  ...       781.0            57.0\n",
              "4       301  2021-12-10  ...       272.0            17.0\n",
              "..      ...         ...  ...         ...             ...\n",
              "122      35  2021-11-13  ...         0.0             0.0\n",
              "123      24  2021-11-14  ...       387.0            37.0\n",
              "124      17  2021-11-15  ...       321.0            24.0\n",
              "125      12  2021-11-16  ...       159.0            14.0\n",
              "126       3  2021-11-17  ...       248.0            23.0\n",
              "\n",
              "[127 rows x 9 columns]"
            ]
          },
          "metadata": {},
          "execution_count": 57
        }
      ]
    },
    {
      "cell_type": "markdown",
      "metadata": {
        "id": "rDn9myFkqaz0"
      },
      "source": [
        "Salvando arquivos e fazendo upload em nuvem"
      ]
    },
    {
      "cell_type": "code",
      "metadata": {
        "id": "QXam0ugsrRIe"
      },
      "source": [
        "dfb.drop(['indice'], axis=1, inplace=True)"
      ],
      "execution_count": null,
      "outputs": []
    },
    {
      "cell_type": "code",
      "metadata": {
        "id": "95fAnWTGqje3"
      },
      "source": [
        "bucket = storage_client.get_bucket('projeto-finalsc01')\n",
        "bucket.blob('dados_tratados_condados/Condados_Vacinacao.csv').upload_from_string(dfb.to_csv(index=False),'Condados_Vacinacao.csv')"
      ],
      "execution_count": null,
      "outputs": []
    },
    {
      "cell_type": "code",
      "metadata": {
        "colab": {
          "base_uri": "https://localhost:8080/",
          "height": 206
        },
        "id": "7AS38mdfswju",
        "outputId": "1a9c8d4b-da75-4a2f-f29e-98ea94cbbd47"
      },
      "source": [
        "dfb.head()"
      ],
      "execution_count": null,
      "outputs": [
        {
          "output_type": "execute_result",
          "data": {
            "text/html": [
              "<div>\n",
              "<style scoped>\n",
              "    .dataframe tbody tr th:only-of-type {\n",
              "        vertical-align: middle;\n",
              "    }\n",
              "\n",
              "    .dataframe tbody tr th {\n",
              "        vertical-align: top;\n",
              "    }\n",
              "\n",
              "    .dataframe thead th {\n",
              "        text-align: right;\n",
              "    }\n",
              "</style>\n",
              "<table border=\"1\" class=\"dataframe\">\n",
              "  <thead>\n",
              "    <tr style=\"text-align: right;\">\n",
              "      <th></th>\n",
              "      <th>Data</th>\n",
              "      <th>Condado</th>\n",
              "      <th>Estado</th>\n",
              "      <th>Numero_total_vacinados</th>\n",
              "      <th>Numero_total_65+</th>\n",
              "      <th>Porcentagem_total_65+</th>\n",
              "      <th>Vacinas_Dia</th>\n",
              "      <th>Vacinas_Dia_65+</th>\n",
              "    </tr>\n",
              "  </thead>\n",
              "  <tbody>\n",
              "    <tr>\n",
              "      <th>0</th>\n",
              "      <td>2021-08-10</td>\n",
              "      <td>New Haven County</td>\n",
              "      <td>CT</td>\n",
              "      <td>581344</td>\n",
              "      <td>137567</td>\n",
              "      <td>90.1</td>\n",
              "      <td>581344.0</td>\n",
              "      <td>137567.0</td>\n",
              "    </tr>\n",
              "    <tr>\n",
              "      <th>1</th>\n",
              "      <td>2021-09-10</td>\n",
              "      <td>New Haven County</td>\n",
              "      <td>CT</td>\n",
              "      <td>581984</td>\n",
              "      <td>137635</td>\n",
              "      <td>90.2</td>\n",
              "      <td>640.0</td>\n",
              "      <td>68.0</td>\n",
              "    </tr>\n",
              "    <tr>\n",
              "      <th>2</th>\n",
              "      <td>2021-10-10</td>\n",
              "      <td>New Haven County</td>\n",
              "      <td>CT</td>\n",
              "      <td>582504</td>\n",
              "      <td>137680</td>\n",
              "      <td>90.2</td>\n",
              "      <td>520.0</td>\n",
              "      <td>45.0</td>\n",
              "    </tr>\n",
              "    <tr>\n",
              "      <th>3</th>\n",
              "      <td>2021-11-10</td>\n",
              "      <td>New Haven County</td>\n",
              "      <td>CT</td>\n",
              "      <td>583285</td>\n",
              "      <td>137737</td>\n",
              "      <td>90.2</td>\n",
              "      <td>781.0</td>\n",
              "      <td>57.0</td>\n",
              "    </tr>\n",
              "    <tr>\n",
              "      <th>4</th>\n",
              "      <td>2021-12-10</td>\n",
              "      <td>New Haven County</td>\n",
              "      <td>CT</td>\n",
              "      <td>583557</td>\n",
              "      <td>137754</td>\n",
              "      <td>90.3</td>\n",
              "      <td>272.0</td>\n",
              "      <td>17.0</td>\n",
              "    </tr>\n",
              "  </tbody>\n",
              "</table>\n",
              "</div>"
            ],
            "text/plain": [
              "         Data           Condado  ... Vacinas_Dia  Vacinas_Dia_65+\n",
              "0  2021-08-10  New Haven County  ...    581344.0         137567.0\n",
              "1  2021-09-10  New Haven County  ...       640.0             68.0\n",
              "2  2021-10-10  New Haven County  ...       520.0             45.0\n",
              "3  2021-11-10  New Haven County  ...       781.0             57.0\n",
              "4  2021-12-10  New Haven County  ...       272.0             17.0\n",
              "\n",
              "[5 rows x 8 columns]"
            ]
          },
          "metadata": {},
          "execution_count": 60
        }
      ]
    },
    {
      "cell_type": "code",
      "metadata": {
        "id": "tYb0fFmmqqw_"
      },
      "source": [
        "dfb.to_csv('Condados_Vacinacao.csv', index=False)"
      ],
      "execution_count": null,
      "outputs": []
    },
    {
      "cell_type": "markdown",
      "metadata": {
        "id": "NIMuc5zpsDom"
      },
      "source": [
        "# PySpark - Hospitalizados"
      ]
    },
    {
      "cell_type": "code",
      "metadata": {
        "colab": {
          "base_uri": "https://localhost:8080/"
        },
        "id": "Dhfh2NGesC2X",
        "outputId": "7156afa4-94ba-4426-d448-ea4dfb2a0dd3"
      },
      "source": [
        "pip install pyspark"
      ],
      "execution_count": null,
      "outputs": [
        {
          "output_type": "stream",
          "name": "stdout",
          "text": [
            "Collecting pyspark\n",
            "  Downloading pyspark-3.2.0.tar.gz (281.3 MB)\n",
            "\u001b[K     |████████████████████████████████| 281.3 MB 33 kB/s \n",
            "\u001b[?25hCollecting py4j==0.10.9.2\n",
            "  Downloading py4j-0.10.9.2-py2.py3-none-any.whl (198 kB)\n",
            "\u001b[K     |████████████████████████████████| 198 kB 42.3 MB/s \n",
            "\u001b[?25hBuilding wheels for collected packages: pyspark\n",
            "  Building wheel for pyspark (setup.py) ... \u001b[?25l\u001b[?25hdone\n",
            "  Created wheel for pyspark: filename=pyspark-3.2.0-py2.py3-none-any.whl size=281805912 sha256=e12611c94573c047b3a4d4d7d39d59ec6388d35eb96dbed28f497379103c870f\n",
            "  Stored in directory: /root/.cache/pip/wheels/0b/de/d2/9be5d59d7331c6c2a7c1b6d1a4f463ce107332b1ecd4e80718\n",
            "Successfully built pyspark\n",
            "Installing collected packages: py4j, pyspark\n",
            "Successfully installed py4j-0.10.9.2 pyspark-3.2.0\n"
          ]
        }
      ]
    },
    {
      "cell_type": "markdown",
      "metadata": {
        "id": "FE2tsK5vqob0"
      },
      "source": [
        "Importando bibliotecas"
      ]
    },
    {
      "cell_type": "code",
      "metadata": {
        "id": "L6LWnhnCsGl7"
      },
      "source": [
        "from pyspark.sql import SparkSession\n",
        "import pyspark.sql.functions as F\n",
        "from pyspark.sql.types import StructType, StructField, StringType, IntegerType, DoubleType, FloatType, DateType\n",
        "from pyspark.sql.window import Window\n",
        "from pyspark.sql.functions import sum\n",
        "from pyspark.sql.functions import avg\n",
        "from pyspark.sql.functions import max\n",
        "from pyspark.sql.functions import min"
      ],
      "execution_count": null,
      "outputs": []
    },
    {
      "cell_type": "markdown",
      "metadata": {
        "id": "ZxWzfMwIsdig"
      },
      "source": [
        "Iniciando sessão spark"
      ]
    },
    {
      "cell_type": "code",
      "metadata": {
        "id": "Aai8aTyTsVoX"
      },
      "source": [
        "spark = SparkSession.builder.master('local').appName('projetofinal').config('spark.ui.port', '4050').getOrCreate()"
      ],
      "execution_count": null,
      "outputs": []
    },
    {
      "cell_type": "markdown",
      "metadata": {
        "id": "mKHILUl4su6p"
      },
      "source": [
        "Criando DataFrame Hospitalizados"
      ]
    },
    {
      "cell_type": "code",
      "metadata": {
        "id": "Mrev4cy-ssb-"
      },
      "source": [
        "dfspark1 = spark.read.format('csv').option('header','true').option('inferschema', 'true').option('delimiter', ',').load('/content/Condados_Hospitalizados.csv')"
      ],
      "execution_count": null,
      "outputs": []
    },
    {
      "cell_type": "code",
      "metadata": {
        "colab": {
          "base_uri": "https://localhost:8080/"
        },
        "id": "PvohrGxds91n",
        "outputId": "34edbadd-5408-4398-a868-2a08c6713b76"
      },
      "source": [
        "dfspark1.printSchema()\n",
        "dfspark1.show()"
      ],
      "execution_count": null,
      "outputs": [
        {
          "output_type": "stream",
          "name": "stdout",
          "text": [
            "root\n",
            " |-- Data_Atualizacao: string (nullable = true)\n",
            " |-- Condado: string (nullable = true)\n",
            " |-- Total_Casos_Confirmados: integer (nullable = true)\n",
            " |-- Total_Casos_Hospitalizados: integer (nullable = true)\n",
            " |-- Total_Obitos_Confirmados: integer (nullable = true)\n",
            " |-- Casos_Novos: double (nullable = true)\n",
            " |-- Novos_Obitos_Confirmados: double (nullable = true)\n",
            "\n",
            "+-------------------+----------------+-----------------------+--------------------------+------------------------+-----------+------------------------+\n",
            "|   Data_Atualizacao|         Condado|Total_Casos_Confirmados|Total_Casos_Hospitalizados|Total_Obitos_Confirmados|Casos_Novos|Novos_Obitos_Confirmados|\n",
            "+-------------------+----------------+-----------------------+--------------------------+------------------------+-----------+------------------------+\n",
            "|2020-06-02 00:00:00|New Haven County|                  11161|                       150|                     843|    11161.0|                   843.0|\n",
            "|2020-06-03 00:00:00|New Haven County|                  11191|                       128|                     845|       30.0|                     2.0|\n",
            "|2020-06-04 00:00:00|New Haven County|                  11282|                       127|                     855|       91.0|                    10.0|\n",
            "|2020-06-05 00:00:00|New Haven County|                  11429|                       121|                     865|      147.0|                    10.0|\n",
            "|2020-06-06 00:00:00|New Haven County|                  11441|                       110|                     867|       12.0|                     2.0|\n",
            "|2020-06-07 00:00:00|New Haven County|                  11472|                       108|                     870|       31.0|                     3.0|\n",
            "|2020-06-08 00:00:00|New Haven County|                  11495|                        88|                     872|       23.0|                     2.0|\n",
            "|2020-06-09 00:00:00|New Haven County|                  11539|                        84|                     879|       44.0|                     7.0|\n",
            "|2020-06-10 00:00:00|New Haven County|                  11558|                        71|                     887|       19.0|                     8.0|\n",
            "|2020-07-14 00:00:00|New Haven County|                  12252|                        22|                     938|      694.0|                    51.0|\n",
            "|2020-08-03 00:00:00|New Haven County|                  12692|                        23|                     954|      440.0|                    16.0|\n",
            "|2020-08-13 00:00:00|New Haven County|                  12896|                        17|                     957|      204.0|                     3.0|\n",
            "|2020-08-16 00:00:00|New Haven County|                  12956|                        18|                     957|       60.0|                     0.0|\n",
            "|2020-08-17 00:00:00|New Haven County|                  12954|                        18|                     957|       -2.0|                     0.0|\n",
            "|2020-08-18 00:00:00|New Haven County|                  12965|                        21|                     959|       11.0|                     2.0|\n",
            "|2020-08-19 00:00:00|New Haven County|                  12999|                        20|                     959|       34.0|                     0.0|\n",
            "|2020-06-11 00:00:00|New Haven County|                  11606|                        74|                     889|    -1393.0|                   -70.0|\n",
            "|2020-06-12 00:00:00|New Haven County|                  11641|                        73|                     893|       35.0|                     4.0|\n",
            "|2020-06-13 00:00:00|New Haven County|                  11653|                        63|                     895|       12.0|                     2.0|\n",
            "|2020-06-14 00:00:00|New Haven County|                  11671|                        63|                     896|       18.0|                     1.0|\n",
            "+-------------------+----------------+-----------------------+--------------------------+------------------------+-----------+------------------------+\n",
            "only showing top 20 rows\n",
            "\n"
          ]
        }
      ]
    },
    {
      "cell_type": "markdown",
      "metadata": {
        "id": "nXLULyqP1JHx"
      },
      "source": [
        "Filtros"
      ]
    },
    {
      "cell_type": "code",
      "metadata": {
        "colab": {
          "base_uri": "https://localhost:8080/"
        },
        "id": "8_T_8GR1tT6d",
        "outputId": "27e3604f-eaa3-469d-be71-3731c35506cd"
      },
      "source": [
        "# 1 - Query para mostrar casos novos maior que 500\n",
        "dfspark1.select(F.col('Data_Atualizacao'), F.col('Condado'), F.col('Casos_Novos')).filter(F.col('Casos_Novos') > 500).show()"
      ],
      "execution_count": null,
      "outputs": [
        {
          "output_type": "stream",
          "name": "stdout",
          "text": [
            "+-------------------+----------------+-----------+\n",
            "|   Data_Atualizacao|         Condado|Casos_Novos|\n",
            "+-------------------+----------------+-----------+\n",
            "|2020-06-02 00:00:00|New Haven County|    11161.0|\n",
            "|2020-07-14 00:00:00|New Haven County|      694.0|\n",
            "|2020-07-15 00:00:00|New Haven County|      545.0|\n",
            "|2020-08-04 00:00:00|New Haven County|      806.0|\n",
            "|2020-05-31 00:00:00|New Haven County|    11088.0|\n",
            "|2020-07-09 00:00:00|New Haven County|     1003.0|\n",
            "|2020-08-20 00:00:00|New Haven County|      787.0|\n",
            "|2020-10-25 00:00:00|New Haven County|      520.0|\n",
            "|2020-11-01 00:00:00|New Haven County|      616.0|\n",
            "|2020-11-08 00:00:00|New Haven County|      834.0|\n",
            "|2020-11-12 00:00:00|New Haven County|      747.0|\n",
            "|2020-11-15 00:00:00|New Haven County|     1014.0|\n",
            "|2020-11-18 00:00:00|New Haven County|      504.0|\n",
            "|2020-11-22 00:00:00|New Haven County|     1110.0|\n",
            "|2020-11-26 00:00:00|New Haven County|      759.0|\n",
            "|2020-11-29 00:00:00|New Haven County|     1537.0|\n",
            "|2020-11-30 00:00:00|New Haven County|      752.0|\n",
            "|2020-12-01 00:00:00|New Haven County|      638.0|\n",
            "|2020-12-02 00:00:00|New Haven County|     1570.0|\n",
            "|2020-12-06 00:00:00|New Haven County|     1827.0|\n",
            "+-------------------+----------------+-----------+\n",
            "only showing top 20 rows\n",
            "\n"
          ]
        }
      ]
    },
    {
      "cell_type": "code",
      "metadata": {
        "colab": {
          "base_uri": "https://localhost:8080/"
        },
        "id": "uQALWi-y1wIp",
        "outputId": "b5873f8e-becb-41dd-8835-1413bab0ee76"
      },
      "source": [
        "#2 - Query para mostrar o número total de casos confirmados por Condado\n",
        "dfspark1.groupBy(\"Condado\").agg(sum(\"Casos_Novos\").alias(\"Casos_Novos\")).show()"
      ],
      "execution_count": null,
      "outputs": [
        {
          "output_type": "stream",
          "name": "stdout",
          "text": [
            "+----------------+-----------+\n",
            "|         Condado|Casos_Novos|\n",
            "+----------------+-----------+\n",
            "|New Haven County|    96177.0|\n",
            "|Fairfield County|   102527.0|\n",
            "| Hartford County|    93277.0|\n",
            "+----------------+-----------+\n",
            "\n"
          ]
        }
      ]
    },
    {
      "cell_type": "markdown",
      "metadata": {
        "id": "iNpsxJUuuN8c"
      },
      "source": [
        "Importando Matplotlib"
      ]
    },
    {
      "cell_type": "code",
      "metadata": {
        "id": "IgDhaUzStc9-"
      },
      "source": [
        "import matplotlib.pyplot as plt"
      ],
      "execution_count": null,
      "outputs": []
    },
    {
      "cell_type": "markdown",
      "metadata": {
        "id": "KLybhoOHvEhU"
      },
      "source": [
        "Plotagem"
      ]
    },
    {
      "cell_type": "code",
      "metadata": {
        "colab": {
          "base_uri": "https://localhost:8080/",
          "height": 390
        },
        "id": "iJqAAG67wx1C",
        "outputId": "4655c591-d108-4f11-953c-daab2124d852"
      },
      "source": [
        "dfplot = dfspark1.groupBy('Condado').sum('Casos_Novos')\n",
        "\n",
        "x = dfplot.toPandas()['Condado'].values.tolist()\n",
        "y = dfplot.toPandas()['sum(Casos_Novos)'].values.tolist()\n",
        "\n",
        "plt.figure(figsize=(10, 6))\n",
        "plt.title('Condados x Total Casos Confirmados')\n",
        "plt.bar(x,y, color='indianred', width=0.25)\n",
        "plt.show()"
      ],
      "execution_count": null,
      "outputs": [
        {
          "output_type": "display_data",
          "data": {
            "image/png": "[encoded data removed]",
            "text/plain": [
              "<Figure size 720x432 with 1 Axes>"
            ]
          },
          "metadata": {
            "needs_background": "light"
          }
        }
      ]
    },
    {
      "cell_type": "code",
      "metadata": {
        "colab": {
          "base_uri": "https://localhost:8080/"
        },
        "id": "kvicZ4qL85TI",
        "outputId": "f5d8670c-e1fd-4dc4-eb75-b2497cfccfa8"
      },
      "source": [
        "#3 - Query para verificar a Média de Casos Novos agrupado por Condado\n",
        "dfspark1.groupBy('Condado').agg(avg('Casos_Novos').alias('Media_Casos_Novos')).show()"
      ],
      "execution_count": null,
      "outputs": [
        {
          "output_type": "stream",
          "name": "stdout",
          "text": [
            "+----------------+------------------+\n",
            "|         Condado| Media_Casos_Novos|\n",
            "+----------------+------------------+\n",
            "|New Haven County|212.78097345132744|\n",
            "|Fairfield County| 226.8296460176991|\n",
            "| Hartford County| 206.3650442477876|\n",
            "+----------------+------------------+\n",
            "\n"
          ]
        }
      ]
    },
    {
      "cell_type": "code",
      "metadata": {
        "colab": {
          "base_uri": "https://localhost:8080/"
        },
        "id": "Qq-w_rFC_o9W",
        "outputId": "8b981e57-52bd-4a40-a2ac-1c7bcbebb115"
      },
      "source": [
        "#4 - Query para mostrar Novos Obitos Confirmados maior que 500 por dia\n",
        "dfspark1.select(F.col('Data_Atualizacao'), F.col('Condado'), F.col('Novos_Obitos_Confirmados')).filter(F.col('Novos_Obitos_Confirmados') > 500).show()"
      ],
      "execution_count": null,
      "outputs": [
        {
          "output_type": "stream",
          "name": "stdout",
          "text": [
            "+-------------------+----------------+------------------------+\n",
            "|   Data_Atualizacao|         Condado|Novos_Obitos_Confirmados|\n",
            "+-------------------+----------------+------------------------+\n",
            "|2020-06-02 00:00:00|New Haven County|                   843.0|\n",
            "|2020-05-31 00:00:00|New Haven County|                   822.0|\n",
            "|2020-06-02 00:00:00|Fairfield County|                   998.0|\n",
            "|2020-05-31 00:00:00|Fairfield County|                   990.0|\n",
            "|2020-06-02 00:00:00| Hartford County|                   958.0|\n",
            "|2020-05-31 00:00:00| Hartford County|                   944.0|\n",
            "+-------------------+----------------+------------------------+\n",
            "\n"
          ]
        }
      ]
    },
    {
      "cell_type": "code",
      "metadata": {
        "colab": {
          "base_uri": "https://localhost:8080/"
        },
        "id": "Yz-6BdlfADBm",
        "outputId": "4d27c916-27ee-41dc-ce73-a6958ffcf870"
      },
      "source": [
        "#5 - Query para verificar a Média de  Novos Obitos Confirmados agrupado por Condado\n",
        "dfspark1.groupBy('Condado').agg(avg('Novos_Obitos_Confirmados').alias('Media_Novos_Obitos_Confirmados')).show()"
      ],
      "execution_count": null,
      "outputs": [
        {
          "output_type": "stream",
          "name": "stdout",
          "text": [
            "+----------------+------------------------------+\n",
            "|         Condado|Media_Novos_Obitos_Confirmados|\n",
            "+----------------+------------------------------+\n",
            "|New Haven County|             4.307522123893805|\n",
            "|Fairfield County|             4.117256637168142|\n",
            "| Hartford County|             4.712389380530974|\n",
            "+----------------+------------------------------+\n",
            "\n"
          ]
        }
      ]
    },
    {
      "cell_type": "code",
      "metadata": {
        "colab": {
          "base_uri": "https://localhost:8080/"
        },
        "id": "LsimVQcVAsVN",
        "outputId": "d36d0fed-9f82-4bd1-b1c2-40c038909b40"
      },
      "source": [
        "#6 - Query para mostrar o número total de Obitos Confirmados por Condado\n",
        "dfspark1.groupBy(\"Condado\").agg(sum(\"Novos_Obitos_Confirmados\").alias(\"Soma_Novos_Obitos_Confirmados\")).show()"
      ],
      "execution_count": null,
      "outputs": [
        {
          "output_type": "stream",
          "name": "stdout",
          "text": [
            "+----------------+-----------------------------+\n",
            "|         Condado|Soma_Novos_Obitos_Confirmados|\n",
            "+----------------+-----------------------------+\n",
            "|New Haven County|                       1947.0|\n",
            "|Fairfield County|                       1861.0|\n",
            "| Hartford County|                       2130.0|\n",
            "+----------------+-----------------------------+\n",
            "\n"
          ]
        }
      ]
    },
    {
      "cell_type": "code",
      "metadata": {
        "colab": {
          "base_uri": "https://localhost:8080/",
          "height": 390
        },
        "id": "2Tw-4VqRBCRY",
        "outputId": "8aebd13f-ead0-4d82-a104-ded59166ead9"
      },
      "source": [
        "dfplot2 = dfspark1.groupBy('Condado').sum('Novos_Obitos_Confirmados')\n",
        "\n",
        "x2 = dfplot2.toPandas()['Condado'].values.tolist()\n",
        "y2 = dfplot2.toPandas()['sum(Novos_Obitos_Confirmados)'].values.tolist()\n",
        "\n",
        "plt.figure(figsize=(10, 6))\n",
        "plt.title('Condados x Total Obitos Confirmados')\n",
        "plt.bar(x2,y2, color='maroon', width=0.25)\n",
        "plt.show()"
      ],
      "execution_count": null,
      "outputs": [
        {
          "output_type": "display_data",
          "data": {
            "image/png": "[encoded data removed]",
            "text/plain": [
              "<Figure size 720x432 with 1 Axes>"
            ]
          },
          "metadata": {
            "needs_background": "light"
          }
        }
      ]
    },
    {
      "cell_type": "code",
      "metadata": {
        "colab": {
          "base_uri": "https://localhost:8080/"
        },
        "id": "x_ZPJXGRCIuy",
        "outputId": "cc0ba20e-7ad7-42d2-9432-6cd420293ce9"
      },
      "source": [
        "#7 - Query para verificar número Máximo de Casos Hospitalizados agrupado por Condado\n",
        "dfspark1.groupBy('Condado').agg(max('Total_Casos_Hospitalizados').alias('Maximo_Casos_Hospitalizados')).show()"
      ],
      "execution_count": null,
      "outputs": [
        {
          "output_type": "stream",
          "name": "stdout",
          "text": [
            "+----------------+---------------------------+\n",
            "|         Condado|Maximo_Casos_Hospitalizados|\n",
            "+----------------+---------------------------+\n",
            "|New Haven County|                        638|\n",
            "|Fairfield County|                        797|\n",
            "| Hartford County|                        495|\n",
            "+----------------+---------------------------+\n",
            "\n"
          ]
        }
      ]
    },
    {
      "cell_type": "markdown",
      "metadata": {
        "id": "DEWU4eP-DMPx"
      },
      "source": [
        "# Spark SQL - Hospitalizados"
      ]
    },
    {
      "cell_type": "markdown",
      "metadata": {
        "id": "jaaSaHasDQpa"
      },
      "source": [
        "Criando Tabela"
      ]
    },
    {
      "cell_type": "code",
      "metadata": {
        "id": "slkOeLCDDkwB"
      },
      "source": [
        "dfspark1.createOrReplaceTempView('hospitalizacao')"
      ],
      "execution_count": null,
      "outputs": []
    },
    {
      "cell_type": "markdown",
      "metadata": {
        "id": "_o59NVeCtHni"
      },
      "source": [
        "Queries usando SQL"
      ]
    },
    {
      "cell_type": "code",
      "metadata": {
        "id": "358p5helDopZ",
        "colab": {
          "base_uri": "https://localhost:8080/"
        },
        "outputId": "38ffe7e2-c0df-43e3-b708-8a25799e8d87"
      },
      "source": [
        "#1 - visão geral\n",
        "spark.sql('SELECT * FROM hospitalizacao').show()"
      ],
      "execution_count": null,
      "outputs": [
        {
          "output_type": "stream",
          "name": "stdout",
          "text": [
            "+-------------------+----------------+-----------------------+--------------------------+------------------------+-----------+------------------------+\n",
            "|   Data_Atualizacao|         Condado|Total_Casos_Confirmados|Total_Casos_Hospitalizados|Total_Obitos_Confirmados|Casos_Novos|Novos_Obitos_Confirmados|\n",
            "+-------------------+----------------+-----------------------+--------------------------+------------------------+-----------+------------------------+\n",
            "|2020-06-02 00:00:00|New Haven County|                  11161|                       150|                     843|    11161.0|                   843.0|\n",
            "|2020-06-03 00:00:00|New Haven County|                  11191|                       128|                     845|       30.0|                     2.0|\n",
            "|2020-06-04 00:00:00|New Haven County|                  11282|                       127|                     855|       91.0|                    10.0|\n",
            "|2020-06-05 00:00:00|New Haven County|                  11429|                       121|                     865|      147.0|                    10.0|\n",
            "|2020-06-06 00:00:00|New Haven County|                  11441|                       110|                     867|       12.0|                     2.0|\n",
            "|2020-06-07 00:00:00|New Haven County|                  11472|                       108|                     870|       31.0|                     3.0|\n",
            "|2020-06-08 00:00:00|New Haven County|                  11495|                        88|                     872|       23.0|                     2.0|\n",
            "|2020-06-09 00:00:00|New Haven County|                  11539|                        84|                     879|       44.0|                     7.0|\n",
            "|2020-06-10 00:00:00|New Haven County|                  11558|                        71|                     887|       19.0|                     8.0|\n",
            "|2020-07-14 00:00:00|New Haven County|                  12252|                        22|                     938|      694.0|                    51.0|\n",
            "|2020-08-03 00:00:00|New Haven County|                  12692|                        23|                     954|      440.0|                    16.0|\n",
            "|2020-08-13 00:00:00|New Haven County|                  12896|                        17|                     957|      204.0|                     3.0|\n",
            "|2020-08-16 00:00:00|New Haven County|                  12956|                        18|                     957|       60.0|                     0.0|\n",
            "|2020-08-17 00:00:00|New Haven County|                  12954|                        18|                     957|       -2.0|                     0.0|\n",
            "|2020-08-18 00:00:00|New Haven County|                  12965|                        21|                     959|       11.0|                     2.0|\n",
            "|2020-08-19 00:00:00|New Haven County|                  12999|                        20|                     959|       34.0|                     0.0|\n",
            "|2020-06-11 00:00:00|New Haven County|                  11606|                        74|                     889|    -1393.0|                   -70.0|\n",
            "|2020-06-12 00:00:00|New Haven County|                  11641|                        73|                     893|       35.0|                     4.0|\n",
            "|2020-06-13 00:00:00|New Haven County|                  11653|                        63|                     895|       12.0|                     2.0|\n",
            "|2020-06-14 00:00:00|New Haven County|                  11671|                        63|                     896|       18.0|                     1.0|\n",
            "+-------------------+----------------+-----------------------+--------------------------+------------------------+-----------+------------------------+\n",
            "only showing top 20 rows\n",
            "\n"
          ]
        }
      ]
    },
    {
      "cell_type": "code",
      "metadata": {
        "colab": {
          "base_uri": "https://localhost:8080/"
        },
        "id": "0_4G2qncFhAT",
        "outputId": "67f0ccb4-4704-4f07-cd62-57f06f6080e2"
      },
      "source": [
        "# 2 - Query utilizada para filtrar apenas Condados onde os Casos Novos ultrapassem 500 */\n",
        "\n",
        "spark.sql('SELECT Data_Atualizacao, Condado, Casos_Novos FROM hospitalizacao WHERE Casos_Novos > 500').show()"
      ],
      "execution_count": null,
      "outputs": [
        {
          "output_type": "stream",
          "name": "stdout",
          "text": [
            "+-------------------+----------------+-----------+\n",
            "|   Data_Atualizacao|         Condado|Casos_Novos|\n",
            "+-------------------+----------------+-----------+\n",
            "|2020-06-02 00:00:00|New Haven County|    11161.0|\n",
            "|2020-07-14 00:00:00|New Haven County|      694.0|\n",
            "|2020-07-15 00:00:00|New Haven County|      545.0|\n",
            "|2020-08-04 00:00:00|New Haven County|      806.0|\n",
            "|2020-05-31 00:00:00|New Haven County|    11088.0|\n",
            "|2020-07-09 00:00:00|New Haven County|     1003.0|\n",
            "|2020-08-20 00:00:00|New Haven County|      787.0|\n",
            "|2020-10-25 00:00:00|New Haven County|      520.0|\n",
            "|2020-11-01 00:00:00|New Haven County|      616.0|\n",
            "|2020-11-08 00:00:00|New Haven County|      834.0|\n",
            "|2020-11-12 00:00:00|New Haven County|      747.0|\n",
            "|2020-11-15 00:00:00|New Haven County|     1014.0|\n",
            "|2020-11-18 00:00:00|New Haven County|      504.0|\n",
            "|2020-11-22 00:00:00|New Haven County|     1110.0|\n",
            "|2020-11-26 00:00:00|New Haven County|      759.0|\n",
            "|2020-11-29 00:00:00|New Haven County|     1537.0|\n",
            "|2020-11-30 00:00:00|New Haven County|      752.0|\n",
            "|2020-12-01 00:00:00|New Haven County|      638.0|\n",
            "|2020-12-02 00:00:00|New Haven County|     1570.0|\n",
            "|2020-12-06 00:00:00|New Haven County|     1827.0|\n",
            "+-------------------+----------------+-----------+\n",
            "only showing top 20 rows\n",
            "\n"
          ]
        }
      ]
    },
    {
      "cell_type": "code",
      "metadata": {
        "colab": {
          "base_uri": "https://localhost:8080/"
        },
        "id": "jCLLkydjF6Ai",
        "outputId": "6d66cfcf-3b01-40b5-eefa-af7be560297e"
      },
      "source": [
        "#3 - Comando utilizado para Somar os Casos Confirmados*/\n",
        "\n",
        "spark.sql('SELECT Condado, SUM(Casos_Novos) AS Soma_Casos_Novos FROM hospitalizacao GROUP BY Condado ORDER BY Soma_Casos_Novos ASC').show()"
      ],
      "execution_count": null,
      "outputs": [
        {
          "output_type": "stream",
          "name": "stdout",
          "text": [
            "+----------------+----------------+\n",
            "|         Condado|Soma_Casos_Novos|\n",
            "+----------------+----------------+\n",
            "| Hartford County|         93277.0|\n",
            "|New Haven County|         96177.0|\n",
            "|Fairfield County|        102527.0|\n",
            "+----------------+----------------+\n",
            "\n"
          ]
        }
      ]
    },
    {
      "cell_type": "code",
      "metadata": {
        "colab": {
          "base_uri": "https://localhost:8080/"
        },
        "id": "3QWnfa7sQj_1",
        "outputId": "77f5135c-2c1a-4688-a852-b4fddb754aa3"
      },
      "source": [
        "#4 - Comando utilizado para fazer a média de Casos Hospitalizados por Condado*/\n",
        "\n",
        "spark.sql('SELECT Condado, ROUND(AVG(Casos_Novos), 2) AS Media_Casos_Novos FROM hospitalizacao GROUP BY Condado ORDER BY Media_Casos_Novos').show()"
      ],
      "execution_count": null,
      "outputs": [
        {
          "output_type": "stream",
          "name": "stdout",
          "text": [
            "+----------------+-----------------+\n",
            "|         Condado|Media_Casos_Novos|\n",
            "+----------------+-----------------+\n",
            "| Hartford County|           206.37|\n",
            "|New Haven County|           212.78|\n",
            "|Fairfield County|           226.83|\n",
            "+----------------+-----------------+\n",
            "\n"
          ]
        }
      ]
    },
    {
      "cell_type": "code",
      "metadata": {
        "colab": {
          "base_uri": "https://localhost:8080/"
        },
        "id": "Z0BHukTOQ6Uv",
        "outputId": "6922f9f8-f915-4ce1-c2b1-7f26ffe2b5f2"
      },
      "source": [
        "#5 - Query utilizada para filtrar apenas Condados onde os Novos Obitos ultrapassem 500 por dia\n",
        "\n",
        "spark.sql('SELECT Data_Atualizacao, Condado, Novos_Obitos_Confirmados FROM hospitalizacao WHERE Novos_Obitos_Confirmados > 500').show()"
      ],
      "execution_count": null,
      "outputs": [
        {
          "output_type": "stream",
          "name": "stdout",
          "text": [
            "+-------------------+----------------+------------------------+\n",
            "|   Data_Atualizacao|         Condado|Novos_Obitos_Confirmados|\n",
            "+-------------------+----------------+------------------------+\n",
            "|2020-06-02 00:00:00|New Haven County|                   843.0|\n",
            "|2020-05-31 00:00:00|New Haven County|                   822.0|\n",
            "|2020-06-02 00:00:00|Fairfield County|                   998.0|\n",
            "|2020-05-31 00:00:00|Fairfield County|                   990.0|\n",
            "|2020-06-02 00:00:00| Hartford County|                   958.0|\n",
            "|2020-05-31 00:00:00| Hartford County|                   944.0|\n",
            "+-------------------+----------------+------------------------+\n",
            "\n"
          ]
        }
      ]
    },
    {
      "cell_type": "code",
      "metadata": {
        "colab": {
          "base_uri": "https://localhost:8080/"
        },
        "id": "wbjX_UYXRJ7D",
        "outputId": "6e079cad-2c95-47c3-d673-e9465b4fb69b"
      },
      "source": [
        "#6 - Query utilizada para fazer a média de obitos confirmados por Condado*/\n",
        "\n",
        "spark.sql('SELECT Condado, ROUND(AVG(Novos_Obitos_Confirmados), 2) AS Media_Novos_Obitos_Confirmados FROM hospitalizacao GROUP BY Condado ORDER BY Media_Novos_Obitos_Confirmados').show()"
      ],
      "execution_count": null,
      "outputs": [
        {
          "output_type": "stream",
          "name": "stdout",
          "text": [
            "+----------------+------------------------------+\n",
            "|         Condado|Media_Novos_Obitos_Confirmados|\n",
            "+----------------+------------------------------+\n",
            "|Fairfield County|                          4.12|\n",
            "|New Haven County|                          4.31|\n",
            "| Hartford County|                          4.71|\n",
            "+----------------+------------------------------+\n",
            "\n"
          ]
        }
      ]
    },
    {
      "cell_type": "code",
      "metadata": {
        "colab": {
          "base_uri": "https://localhost:8080/"
        },
        "id": "iJ7xey2gSvmQ",
        "outputId": "c25d5cb7-dbb4-48f6-d313-c3bfdc674a69"
      },
      "source": [
        "#7 - Query utilizada para Somar os Obitos Confirmados*/\n",
        "\n",
        "spark.sql('SELECT Condado, SUM(Novos_Obitos_Confirmados) AS Soma_Novos_Obitos_Confirmados FROM hospitalizacao GROUP BY Condado ORDER BY Soma_Novos_Obitos_Confirmados ASC').show()"
      ],
      "execution_count": null,
      "outputs": [
        {
          "output_type": "stream",
          "name": "stdout",
          "text": [
            "+----------------+-----------------------------+\n",
            "|         Condado|Soma_Novos_Obitos_Confirmados|\n",
            "+----------------+-----------------------------+\n",
            "|Fairfield County|                       1861.0|\n",
            "|New Haven County|                       1947.0|\n",
            "| Hartford County|                       2130.0|\n",
            "+----------------+-----------------------------+\n",
            "\n"
          ]
        }
      ]
    },
    {
      "cell_type": "code",
      "metadata": {
        "colab": {
          "base_uri": "https://localhost:8080/"
        },
        "id": "8BQTl06fTB_Z",
        "outputId": "c06ea5b7-6e6c-44c1-cf99-6b553d9c8fcf"
      },
      "source": [
        "#8 - Cria uma tabela com o máximo Casos Confirmados, Hospitalizados e a média dos Casos Novos */\n",
        "\n",
        "spark.sql('SELECT Condado, MAX(Total_Casos_Confirmados) AS Max_Casos_Confirmados, MAX(Total_Casos_Hospitalizados) AS Max_Casos_Hospitalizados, ROUND(AVG(Casos_Novos), 2)\\\n",
        "AS Media_Casos_Novos FROM hospitalizacao GROUP BY Condado ORDER BY Media_Casos_Novos  DESC').show()"
      ],
      "execution_count": null,
      "outputs": [
        {
          "output_type": "stream",
          "name": "stdout",
          "text": [
            "+----------------+---------------------+------------------------+-----------------+\n",
            "|         Condado|Max_Casos_Confirmados|Max_Casos_Hospitalizados|Media_Casos_Novos|\n",
            "+----------------+---------------------+------------------------+-----------------+\n",
            "|Fairfield County|               102527|                     797|           226.83|\n",
            "|New Haven County|                96177|                     638|           212.78|\n",
            "| Hartford County|                93277|                     495|           206.37|\n",
            "+----------------+---------------------+------------------------+-----------------+\n",
            "\n"
          ]
        }
      ]
    },
    {
      "cell_type": "code",
      "metadata": {
        "colab": {
          "base_uri": "https://localhost:8080/"
        },
        "id": "9hkyrCpPdIfZ",
        "outputId": "24ac4d7d-8a48-48e3-cb84-1a7cb94a4a81"
      },
      "source": [
        "#9 - Cria uam Query com Soma de Casos Novos, Somas de Obitos Novos e suas Médias, agrupadas por Condado\n",
        "\n",
        "spark.sql('SELECT Condado, SUM(Casos_Novos) AS Soma_Casos_Novos, SUM(Novos_Obitos_Confirmados) AS Soma_Obitos_Confirmados, ROUND(AVG(Casos_Novos), 2) AS Media_Casos_Novos,\\\n",
        "ROUND(AVG(Novos_Obitos_Confirmados), 2) AS Media_Novos_Obitos_Confirmados FROM hospitalizacao GROUP BY Condado ORDER BY Media_Casos_Novos  DESC').show()"
      ],
      "execution_count": null,
      "outputs": [
        {
          "output_type": "stream",
          "name": "stdout",
          "text": [
            "+----------------+----------------+-----------------------+-----------------+------------------------------+\n",
            "|         Condado|Soma_Casos_Novos|Soma_Obitos_Confirmados|Media_Casos_Novos|Media_Novos_Obitos_Confirmados|\n",
            "+----------------+----------------+-----------------------+-----------------+------------------------------+\n",
            "|Fairfield County|        102527.0|                 1861.0|           226.83|                          4.12|\n",
            "|New Haven County|         96177.0|                 1947.0|           212.78|                          4.31|\n",
            "| Hartford County|         93277.0|                 2130.0|           206.37|                          4.71|\n",
            "+----------------+----------------+-----------------------+-----------------+------------------------------+\n",
            "\n"
          ]
        }
      ]
    },
    {
      "cell_type": "markdown",
      "metadata": {
        "id": "haCngeRKrmU2"
      },
      "source": [
        ""
      ]
    },
    {
      "cell_type": "markdown",
      "metadata": {
        "id": "EIf3amDRrqJG"
      },
      "source": [
        "#PySpark - Vacinação"
      ]
    },
    {
      "cell_type": "markdown",
      "metadata": {
        "id": "7OPar31MsWp1"
      },
      "source": [
        "Criando DataFrame de Vacinação"
      ]
    },
    {
      "cell_type": "markdown",
      "metadata": {
        "id": "dJu4hGI9tizp"
      },
      "source": [
        "Criando DataFrame"
      ]
    },
    {
      "cell_type": "code",
      "metadata": {
        "id": "bUXZpNeMrww-"
      },
      "source": [
        "dfspark2 = spark.read.format('csv').option('header','true').option('inferschema', 'true').option('delimiter', ',').load('/content/Condados_Vacinacao.csv')"
      ],
      "execution_count": null,
      "outputs": []
    },
    {
      "cell_type": "code",
      "metadata": {
        "colab": {
          "base_uri": "https://localhost:8080/"
        },
        "id": "TQVW4H3CsZKF",
        "outputId": "84e68d32-1ef9-467c-fe32-c5dd5f10cbdb"
      },
      "source": [
        "dfspark2.printSchema()\n",
        "dfspark2.show()"
      ],
      "execution_count": null,
      "outputs": [
        {
          "output_type": "stream",
          "name": "stdout",
          "text": [
            "root\n",
            " |-- Data: string (nullable = true)\n",
            " |-- Condado: string (nullable = true)\n",
            " |-- Estado: string (nullable = true)\n",
            " |-- Numero_total_vacinados: integer (nullable = true)\n",
            " |-- Numero_total_65+: integer (nullable = true)\n",
            " |-- Porcentagem_total_65+: double (nullable = true)\n",
            " |-- Vacinas_Dia: double (nullable = true)\n",
            " |-- Vacinas_Dia_65+: double (nullable = true)\n",
            "\n",
            "+----------+----------------+------+----------------------+----------------+---------------------+-----------+---------------+\n",
            "|      Data|         Condado|Estado|Numero_total_vacinados|Numero_total_65+|Porcentagem_total_65+|Vacinas_Dia|Vacinas_Dia_65+|\n",
            "+----------+----------------+------+----------------------+----------------+---------------------+-----------+---------------+\n",
            "|2021-08-10|New Haven County|    CT|                581344|          137567|                 90.1|   581344.0|       137567.0|\n",
            "|2021-09-10|New Haven County|    CT|                581984|          137635|                 90.2|      640.0|           68.0|\n",
            "|2021-10-10|New Haven County|    CT|                582504|          137680|                 90.2|      520.0|           45.0|\n",
            "|2021-11-10|New Haven County|    CT|                583285|          137737|                 90.2|      781.0|           57.0|\n",
            "|2021-12-10|New Haven County|    CT|                583557|          137754|                 90.3|      272.0|           17.0|\n",
            "|2021-10-13|New Haven County|    CT|                583954|          137792|                 90.3|      397.0|           38.0|\n",
            "|2021-10-14|New Haven County|    CT|                584577|          137858|                 90.3|      623.0|           66.0|\n",
            "|2021-10-15|New Haven County|    CT|                585280|          137922|                 90.4|      703.0|           64.0|\n",
            "|2021-10-16|New Haven County|    CT|                585799|          137972|                 90.4|      519.0|           50.0|\n",
            "|2021-10-17|New Haven County|    CT|                586465|          138017|                 90.4|      666.0|           45.0|\n",
            "|2021-10-18|New Haven County|    CT|                586557|          138022|                 90.4|       92.0|            5.0|\n",
            "|2021-10-19|New Haven County|    CT|                587406|          138064|                 90.5|      849.0|           42.0|\n",
            "|2021-10-20|New Haven County|    CT|                587907|          138101|                 90.5|      501.0|           37.0|\n",
            "|2021-10-21|New Haven County|    CT|                588485|          138147|                 90.5|      578.0|           46.0|\n",
            "|2021-10-22|New Haven County|    CT|                589312|          138223|                 90.6|      827.0|           76.0|\n",
            "|2021-10-23|New Haven County|    CT|                589824|          138263|                 90.6|      512.0|           40.0|\n",
            "|2021-10-24|New Haven County|    CT|                589886|          138266|                 90.6|       62.0|            3.0|\n",
            "|2021-10-25|New Haven County|    CT|                590781|          138351|                 90.6|      895.0|           85.0|\n",
            "|2021-10-26|New Haven County|    CT|                591051|          138368|                 90.7|      270.0|           17.0|\n",
            "|2021-10-27|New Haven County|    CT|                591454|          138416|                 90.7|      403.0|           48.0|\n",
            "+----------+----------------+------+----------------------+----------------+---------------------+-----------+---------------+\n",
            "only showing top 20 rows\n",
            "\n"
          ]
        }
      ]
    },
    {
      "cell_type": "markdown",
      "metadata": {
        "id": "czyQbbcWse4F"
      },
      "source": [
        "Filtros"
      ]
    },
    {
      "cell_type": "code",
      "metadata": {
        "colab": {
          "base_uri": "https://localhost:8080/"
        },
        "id": "SaXgZnNtsgVt",
        "outputId": "0517d5d4-73d8-434c-a58f-61c98a8c6efb"
      },
      "source": [
        "# 1 - Query para mostrar Vacinação por dia maior que 500\n",
        "dfspark2.select(F.col('Data'), F.col('Condado'), F.col('Vacinas_Dia')).filter(F.col('Vacinas_Dia') > 500).show()"
      ],
      "execution_count": null,
      "outputs": [
        {
          "output_type": "stream",
          "name": "stdout",
          "text": [
            "+----------+----------------+-----------+\n",
            "|      Data|         Condado|Vacinas_Dia|\n",
            "+----------+----------------+-----------+\n",
            "|2021-08-10|New Haven County|   581344.0|\n",
            "|2021-09-10|New Haven County|      640.0|\n",
            "|2021-10-10|New Haven County|      520.0|\n",
            "|2021-11-10|New Haven County|      781.0|\n",
            "|2021-10-14|New Haven County|      623.0|\n",
            "|2021-10-15|New Haven County|      703.0|\n",
            "|2021-10-16|New Haven County|      519.0|\n",
            "|2021-10-17|New Haven County|      666.0|\n",
            "|2021-10-19|New Haven County|      849.0|\n",
            "|2021-10-20|New Haven County|      501.0|\n",
            "|2021-10-21|New Haven County|      578.0|\n",
            "|2021-10-22|New Haven County|      827.0|\n",
            "|2021-10-23|New Haven County|      512.0|\n",
            "|2021-10-25|New Haven County|      895.0|\n",
            "|2021-10-28|New Haven County|      561.0|\n",
            "|2021-10-29|New Haven County|      529.0|\n",
            "|2021-01-11|New Haven County|     1110.0|\n",
            "|2021-04-11|New Haven County|      536.0|\n",
            "|2021-07-11|New Haven County|      503.0|\n",
            "|2021-08-11|New Haven County|      604.0|\n",
            "+----------+----------------+-----------+\n",
            "only showing top 20 rows\n",
            "\n"
          ]
        }
      ]
    },
    {
      "cell_type": "code",
      "metadata": {
        "colab": {
          "base_uri": "https://localhost:8080/"
        },
        "id": "-yIH6O_vtCNu",
        "outputId": "2fd71d2f-1011-43ec-ea02-04f83376ec83"
      },
      "source": [
        "#2 - Query para mostrar o número total de Vacinação por Condado\n",
        "dfspark2.groupBy(\"Condado\").agg(sum(\"Vacinas_Dia\").alias(\"Total_Vacinacao\")).show()"
      ],
      "execution_count": null,
      "outputs": [
        {
          "output_type": "stream",
          "name": "stdout",
          "text": [
            "+----------------+---------------+\n",
            "|         Condado|Total_Vacinacao|\n",
            "+----------------+---------------+\n",
            "|New Haven County|       600533.0|\n",
            "|Fairfield County|       690446.0|\n",
            "| Hartford County|       611379.0|\n",
            "+----------------+---------------+\n",
            "\n"
          ]
        }
      ]
    },
    {
      "cell_type": "markdown",
      "metadata": {
        "id": "5WY2tqbqtW3O"
      },
      "source": [
        "Matplotlib"
      ]
    },
    {
      "cell_type": "code",
      "metadata": {
        "colab": {
          "base_uri": "https://localhost:8080/",
          "height": 390
        },
        "id": "kPti7FX4tYEF",
        "outputId": "2644dff6-64f1-45ca-f553-ac14d7627a1e"
      },
      "source": [
        "dfplot3 = dfspark2.groupBy('Condado').sum('Vacinas_Dia')\n",
        "\n",
        "x3 = dfplot3.toPandas()['Condado'].values.tolist()\n",
        "y3 = dfplot3.toPandas()['sum(Vacinas_Dia)'].values.tolist()\n",
        "\n",
        "plt.figure(figsize=(10, 6))\n",
        "plt.title('Condados x Total Vacinação')\n",
        "plt.bar(x3,y3, color='cornflowerblue', width=0.25)\n",
        "plt.show()"
      ],
      "execution_count": null,
      "outputs": [
        {
          "output_type": "display_data",
          "data": {
            "image/png": "[encoded data removed]",
            "text/plain": [
              "<Figure size 720x432 with 1 Axes>"
            ]
          },
          "metadata": {
            "needs_background": "light"
          }
        }
      ]
    },
    {
      "cell_type": "code",
      "metadata": {
        "colab": {
          "base_uri": "https://localhost:8080/"
        },
        "id": "X119yFH5vRPE",
        "outputId": "0af2482a-4627-4541-bce7-54082a89bc27"
      },
      "source": [
        "# 3 - Query para mostrar Vacinação 65 por dia 200\n",
        "dfspark2.select(F.col('Data'), F.col('Condado'), F.col('Vacinas_Dia_65+')).filter(F.col('Vacinas_Dia_65+') < 200).show(124)"
      ],
      "execution_count": null,
      "outputs": [
        {
          "output_type": "stream",
          "name": "stdout",
          "text": [
            "+----------+----------------+---------------+\n",
            "|      Data|         Condado|Vacinas_Dia_65+|\n",
            "+----------+----------------+---------------+\n",
            "|2021-09-10|New Haven County|           68.0|\n",
            "|2021-10-10|New Haven County|           45.0|\n",
            "|2021-11-10|New Haven County|           57.0|\n",
            "|2021-12-10|New Haven County|           17.0|\n",
            "|2021-10-13|New Haven County|           38.0|\n",
            "|2021-10-14|New Haven County|           66.0|\n",
            "|2021-10-15|New Haven County|           64.0|\n",
            "|2021-10-16|New Haven County|           50.0|\n",
            "|2021-10-17|New Haven County|           45.0|\n",
            "|2021-10-18|New Haven County|            5.0|\n",
            "|2021-10-19|New Haven County|           42.0|\n",
            "|2021-10-20|New Haven County|           37.0|\n",
            "|2021-10-21|New Haven County|           46.0|\n",
            "|2021-10-22|New Haven County|           76.0|\n",
            "|2021-10-23|New Haven County|           40.0|\n",
            "|2021-10-24|New Haven County|            3.0|\n",
            "|2021-10-25|New Haven County|           85.0|\n",
            "|2021-10-26|New Haven County|           17.0|\n",
            "|2021-10-27|New Haven County|           48.0|\n",
            "|2021-10-28|New Haven County|           72.0|\n",
            "|2021-10-29|New Haven County|           68.0|\n",
            "|2021-10-30|New Haven County|           49.0|\n",
            "|2021-10-31|New Haven County|            5.0|\n",
            "|2021-01-11|New Haven County|          186.0|\n",
            "|2021-02-11|New Haven County|           17.0|\n",
            "|2021-03-11|New Haven County|           49.0|\n",
            "|2021-04-11|New Haven County|           63.0|\n",
            "|2021-05-11|New Haven County|           45.0|\n",
            "|2021-06-11|New Haven County|           45.0|\n",
            "|2021-07-11|New Haven County|           55.0|\n",
            "|2021-08-11|New Haven County|           49.0|\n",
            "|2021-09-11|New Haven County|           19.0|\n",
            "|2021-10-11|New Haven County|           42.0|\n",
            "|2021-11-11|New Haven County|           53.0|\n",
            "|2021-12-11|New Haven County|           59.0|\n",
            "|2021-11-13|New Haven County|           27.0|\n",
            "|2021-11-13|New Haven County|            0.0|\n",
            "|2021-11-14|New Haven County|           49.0|\n",
            "|2021-11-15|New Haven County|           15.0|\n",
            "|2021-11-16|New Haven County|           13.0|\n",
            "|2021-11-17|New Haven County|           35.0|\n",
            "|2021-09-10|Fairfield County|           70.0|\n",
            "|2021-10-10|Fairfield County|           55.0|\n",
            "|2021-11-10|Fairfield County|           53.0|\n",
            "|2021-12-10|Fairfield County|           28.0|\n",
            "|2021-10-13|Fairfield County|           51.0|\n",
            "|2021-10-14|Fairfield County|           69.0|\n",
            "|2021-10-15|Fairfield County|           88.0|\n",
            "|2021-10-16|Fairfield County|           62.0|\n",
            "|2021-10-17|Fairfield County|           50.0|\n",
            "|2021-10-18|Fairfield County|            4.0|\n",
            "|2021-10-19|Fairfield County|           63.0|\n",
            "|2021-10-20|Fairfield County|           59.0|\n",
            "|2021-10-21|Fairfield County|           64.0|\n",
            "|2021-10-22|Fairfield County|          118.0|\n",
            "|2021-10-23|Fairfield County|           53.0|\n",
            "|2021-10-24|Fairfield County|            6.0|\n",
            "|2021-10-25|Fairfield County|           99.0|\n",
            "|2021-10-26|Fairfield County|           27.0|\n",
            "|2021-10-27|Fairfield County|           73.0|\n",
            "|2021-10-28|Fairfield County|           96.0|\n",
            "|2021-10-29|Fairfield County|           71.0|\n",
            "|2021-10-30|Fairfield County|          101.0|\n",
            "|2021-10-31|Fairfield County|            8.0|\n",
            "|2021-01-11|Fairfield County|          136.0|\n",
            "|2021-02-11|Fairfield County|           29.0|\n",
            "|2021-03-11|Fairfield County|           73.0|\n",
            "|2021-04-11|Fairfield County|           86.0|\n",
            "|2021-05-11|Fairfield County|           61.0|\n",
            "|2021-06-11|Fairfield County|           66.0|\n",
            "|2021-07-11|Fairfield County|           77.0|\n",
            "|2021-08-11|Fairfield County|           48.0|\n",
            "|2021-09-11|Fairfield County|           21.0|\n",
            "|2021-10-11|Fairfield County|           54.0|\n",
            "|2021-11-11|Fairfield County|           88.0|\n",
            "|2021-12-11|Fairfield County|           58.0|\n",
            "|2021-11-13|Fairfield County|           45.0|\n",
            "|2021-11-13|Fairfield County|            0.0|\n",
            "|2021-11-14|Fairfield County|           35.0|\n",
            "|2021-11-15|Fairfield County|           28.0|\n",
            "|2021-11-16|Fairfield County|           19.0|\n",
            "|2021-11-17|Fairfield County|           47.0|\n",
            "|2021-08-10| Hartford County|           68.0|\n",
            "|2021-09-10| Hartford County|           68.0|\n",
            "|2021-10-10| Hartford County|           37.0|\n",
            "|2021-11-10| Hartford County|           49.0|\n",
            "|2021-12-10| Hartford County|           14.0|\n",
            "|2021-10-13| Hartford County|           43.0|\n",
            "|2021-10-14| Hartford County|           59.0|\n",
            "|2021-10-15| Hartford County|           42.0|\n",
            "|2021-10-16| Hartford County|           64.0|\n",
            "|2021-10-17| Hartford County|           58.0|\n",
            "|2021-10-18| Hartford County|            1.0|\n",
            "|2021-10-19| Hartford County|           52.0|\n",
            "|2021-10-20| Hartford County|           51.0|\n",
            "|2021-10-21| Hartford County|           75.0|\n",
            "|2021-10-22| Hartford County|           82.0|\n",
            "|2021-10-23| Hartford County|           65.0|\n",
            "|2021-10-24| Hartford County|            0.0|\n",
            "|2021-10-25| Hartford County|           86.0|\n",
            "|2021-10-26| Hartford County|           22.0|\n",
            "|2021-10-27| Hartford County|           43.0|\n",
            "|2021-10-28| Hartford County|           94.0|\n",
            "|2021-10-29| Hartford County|           53.0|\n",
            "|2021-10-30| Hartford County|           75.0|\n",
            "|2021-10-31| Hartford County|            1.0|\n",
            "|2021-01-11| Hartford County|           92.0|\n",
            "|2021-02-11| Hartford County|            9.0|\n",
            "|2021-03-11| Hartford County|           35.0|\n",
            "|2021-04-11| Hartford County|           56.0|\n",
            "|2021-05-11| Hartford County|           43.0|\n",
            "|2021-06-11| Hartford County|           48.0|\n",
            "|2021-07-11| Hartford County|           56.0|\n",
            "|2021-08-11| Hartford County|           42.0|\n",
            "|2021-09-11| Hartford County|            5.0|\n",
            "|2021-10-11| Hartford County|           23.0|\n",
            "|2021-11-11| Hartford County|           58.0|\n",
            "|2021-12-11| Hartford County|           46.0|\n",
            "|2021-11-13| Hartford County|           40.0|\n",
            "|2021-11-13| Hartford County|            0.0|\n",
            "|2021-11-14| Hartford County|           37.0|\n",
            "|2021-11-15| Hartford County|           24.0|\n",
            "|2021-11-16| Hartford County|           14.0|\n",
            "|2021-11-17| Hartford County|           23.0|\n",
            "+----------+----------------+---------------+\n",
            "\n"
          ]
        }
      ]
    },
    {
      "cell_type": "code",
      "metadata": {
        "colab": {
          "base_uri": "https://localhost:8080/"
        },
        "id": "FFO5fTlXxypr",
        "outputId": "f4e2ac02-65ac-454e-dbd1-ef1049553f28"
      },
      "source": [
        "#4 - Query para mostrar o número total de Vacinação 65+ por Condado\n",
        "dfspark2.groupBy(\"Condado\").agg(sum('Vacinas_Dia_65+').alias('Total_Vacinas_65+')).show()"
      ],
      "execution_count": null,
      "outputs": [
        {
          "output_type": "stream",
          "name": "stdout",
          "text": [
            "+----------------+-----------------+\n",
            "|         Condado|Total_Vacinas_65+|\n",
            "+----------------+-----------------+\n",
            "|New Haven County|         139431.0|\n",
            "|Fairfield County|         141709.0|\n",
            "| Hartford County|         145498.0|\n",
            "+----------------+-----------------+\n",
            "\n"
          ]
        }
      ]
    },
    {
      "cell_type": "code",
      "metadata": {
        "colab": {
          "base_uri": "https://localhost:8080/",
          "height": 390
        },
        "id": "burijf6gyS0h",
        "outputId": "8cb0f02c-8f6d-4980-fa2c-d6ee7226a68d"
      },
      "source": [
        "dfplot4 = dfspark2.groupBy('Condado').sum('Vacinas_Dia_65+')\n",
        "\n",
        "x4 = dfplot4.toPandas()['Condado'].values.tolist()\n",
        "y4 = dfplot4.toPandas()['sum(Vacinas_Dia_65+)'].values.tolist()\n",
        "\n",
        "plt.figure(figsize=(10, 6))\n",
        "plt.title('Condados x Total Vacinação 65+')\n",
        "plt.bar(x4,y4, color='cornflowerblue', width=0.25)\n",
        "plt.show()"
      ],
      "execution_count": null,
      "outputs": [
        {
          "output_type": "display_data",
          "data": {
            "image/png": "[encoded data removed]",
            "text/plain": [
              "<Figure size 720x432 with 1 Axes>"
            ]
          },
          "metadata": {
            "needs_background": "light"
          }
        }
      ]
    },
    {
      "cell_type": "code",
      "metadata": {
        "colab": {
          "base_uri": "https://localhost:8080/"
        },
        "id": "_2Czu8aKz1VA",
        "outputId": "218d2e4b-8b88-457c-9efe-45b5f8463571"
      },
      "source": [
        "#5 - Query para verificar Porcentagem Máxima de Vacinação 65+ agrupado por Condado\n",
        "dfspark2.groupBy('Condado').agg(max('Porcentagem_total_65+').alias('Maximo_Porcentagem_total_65+')).show()"
      ],
      "execution_count": null,
      "outputs": [
        {
          "output_type": "stream",
          "name": "stdout",
          "text": [
            "+----------------+----------------------------+\n",
            "|         Condado|Maximo_Porcentagem_total_65+|\n",
            "+----------------+----------------------------+\n",
            "|New Haven County|                        91.4|\n",
            "|Fairfield County|                        92.0|\n",
            "| Hartford County|                        93.6|\n",
            "+----------------+----------------------------+\n",
            "\n"
          ]
        }
      ]
    },
    {
      "cell_type": "markdown",
      "metadata": {
        "id": "BhX1I5fv0O2A"
      },
      "source": [
        "#Spark SQL - Vacinação"
      ]
    },
    {
      "cell_type": "code",
      "metadata": {
        "id": "63r5CGTStjet"
      },
      "source": [
        "dfspark2 = dfspark2.withColumnRenamed('Numero_total_65+', 'Numero_total_65')\n",
        "dfspark2 = dfspark2.withColumnRenamed('Porcentagem_total_65+', 'Porcentagem_total_65')\n",
        "dfspark2 = dfspark2.withColumnRenamed('Vacinas_Dia_65+', 'Vacinas_Dia_65')"
      ],
      "execution_count": null,
      "outputs": []
    },
    {
      "cell_type": "code",
      "metadata": {
        "id": "jYJ9SWNk0OIn"
      },
      "source": [
        "dfspark2.createOrReplaceTempView('vacinacao')"
      ],
      "execution_count": null,
      "outputs": []
    },
    {
      "cell_type": "markdown",
      "metadata": {
        "id": "SnAFJ6HMu10o"
      },
      "source": [
        "Utilizando SQL"
      ]
    },
    {
      "cell_type": "code",
      "metadata": {
        "colab": {
          "base_uri": "https://localhost:8080/"
        },
        "id": "V_D-yNsAnqy5",
        "outputId": "f13592cf-187a-41a1-913b-bbe71c2ad62f"
      },
      "source": [
        "#1 - visão geral\n",
        "spark.sql('SELECT * FROM vacinacao').show()"
      ],
      "execution_count": null,
      "outputs": [
        {
          "output_type": "stream",
          "name": "stdout",
          "text": [
            "+----------+----------------+------+----------------------+---------------+--------------------+-----------+--------------+\n",
            "|      Data|         Condado|Estado|Numero_total_vacinados|Numero_total_65|Porcentagem_total_65|Vacinas_Dia|Vacinas_Dia_65|\n",
            "+----------+----------------+------+----------------------+---------------+--------------------+-----------+--------------+\n",
            "|2021-08-10|New Haven County|    CT|                581344|         137567|                90.1|   581344.0|      137567.0|\n",
            "|2021-09-10|New Haven County|    CT|                581984|         137635|                90.2|      640.0|          68.0|\n",
            "|2021-10-10|New Haven County|    CT|                582504|         137680|                90.2|      520.0|          45.0|\n",
            "|2021-11-10|New Haven County|    CT|                583285|         137737|                90.2|      781.0|          57.0|\n",
            "|2021-12-10|New Haven County|    CT|                583557|         137754|                90.3|      272.0|          17.0|\n",
            "|2021-10-13|New Haven County|    CT|                583954|         137792|                90.3|      397.0|          38.0|\n",
            "|2021-10-14|New Haven County|    CT|                584577|         137858|                90.3|      623.0|          66.0|\n",
            "|2021-10-15|New Haven County|    CT|                585280|         137922|                90.4|      703.0|          64.0|\n",
            "|2021-10-16|New Haven County|    CT|                585799|         137972|                90.4|      519.0|          50.0|\n",
            "|2021-10-17|New Haven County|    CT|                586465|         138017|                90.4|      666.0|          45.0|\n",
            "|2021-10-18|New Haven County|    CT|                586557|         138022|                90.4|       92.0|           5.0|\n",
            "|2021-10-19|New Haven County|    CT|                587406|         138064|                90.5|      849.0|          42.0|\n",
            "|2021-10-20|New Haven County|    CT|                587907|         138101|                90.5|      501.0|          37.0|\n",
            "|2021-10-21|New Haven County|    CT|                588485|         138147|                90.5|      578.0|          46.0|\n",
            "|2021-10-22|New Haven County|    CT|                589312|         138223|                90.6|      827.0|          76.0|\n",
            "|2021-10-23|New Haven County|    CT|                589824|         138263|                90.6|      512.0|          40.0|\n",
            "|2021-10-24|New Haven County|    CT|                589886|         138266|                90.6|       62.0|           3.0|\n",
            "|2021-10-25|New Haven County|    CT|                590781|         138351|                90.6|      895.0|          85.0|\n",
            "|2021-10-26|New Haven County|    CT|                591051|         138368|                90.7|      270.0|          17.0|\n",
            "|2021-10-27|New Haven County|    CT|                591454|         138416|                90.7|      403.0|          48.0|\n",
            "+----------+----------------+------+----------------------+---------------+--------------------+-----------+--------------+\n",
            "only showing top 20 rows\n",
            "\n"
          ]
        }
      ]
    },
    {
      "cell_type": "code",
      "metadata": {
        "colab": {
          "base_uri": "https://localhost:8080/"
        },
        "id": "mrmI-PpHq-ov",
        "outputId": "0645ad32-e351-4477-98a5-895edfd33895"
      },
      "source": [
        "#2 - Query utilizada para visualizar o número de vacinações por dia maiores de 500 */\n",
        "\n",
        "spark.sql('SELECT Data, Condado, Vacinas_Dia FROM vacinacao WHERE Vacinas_Dia > 500').show()"
      ],
      "execution_count": null,
      "outputs": [
        {
          "output_type": "stream",
          "name": "stdout",
          "text": [
            "+----------+----------------+-----------+\n",
            "|      Data|         Condado|Vacinas_Dia|\n",
            "+----------+----------------+-----------+\n",
            "|2021-08-10|New Haven County|   581344.0|\n",
            "|2021-09-10|New Haven County|      640.0|\n",
            "|2021-10-10|New Haven County|      520.0|\n",
            "|2021-11-10|New Haven County|      781.0|\n",
            "|2021-10-14|New Haven County|      623.0|\n",
            "|2021-10-15|New Haven County|      703.0|\n",
            "|2021-10-16|New Haven County|      519.0|\n",
            "|2021-10-17|New Haven County|      666.0|\n",
            "|2021-10-19|New Haven County|      849.0|\n",
            "|2021-10-20|New Haven County|      501.0|\n",
            "|2021-10-21|New Haven County|      578.0|\n",
            "|2021-10-22|New Haven County|      827.0|\n",
            "|2021-10-23|New Haven County|      512.0|\n",
            "|2021-10-25|New Haven County|      895.0|\n",
            "|2021-10-28|New Haven County|      561.0|\n",
            "|2021-10-29|New Haven County|      529.0|\n",
            "|2021-01-11|New Haven County|     1110.0|\n",
            "|2021-04-11|New Haven County|      536.0|\n",
            "|2021-07-11|New Haven County|      503.0|\n",
            "|2021-08-11|New Haven County|      604.0|\n",
            "+----------+----------------+-----------+\n",
            "only showing top 20 rows\n",
            "\n"
          ]
        }
      ]
    },
    {
      "cell_type": "code",
      "metadata": {
        "colab": {
          "base_uri": "https://localhost:8080/"
        },
        "id": "n4eWmUsurn5B",
        "outputId": "9e5fea60-8733-4740-85fa-584442ea8f81"
      },
      "source": [
        "#3 - Query utilizada para mostrar a soma de vacinação por condados */\n",
        "\n",
        "spark.sql('SELECT Condado, SUM(Vacinas_Dia) AS Soma_Vacinas_Dia FROM vacinacao GROUP BY Condado ORDER BY Soma_Vacinas_Dia ASC').show()"
      ],
      "execution_count": null,
      "outputs": [
        {
          "output_type": "stream",
          "name": "stdout",
          "text": [
            "+----------------+----------------+\n",
            "|         Condado|Soma_Vacinas_Dia|\n",
            "+----------------+----------------+\n",
            "|New Haven County|        600533.0|\n",
            "| Hartford County|        611379.0|\n",
            "|Fairfield County|        690446.0|\n",
            "+----------------+----------------+\n",
            "\n"
          ]
        }
      ]
    },
    {
      "cell_type": "code",
      "metadata": {
        "colab": {
          "base_uri": "https://localhost:8080/"
        },
        "id": "PbeMriyNsLy4",
        "outputId": "0be912e8-46aa-4e7e-a55e-0a1ed57918bd"
      },
      "source": [
        "#4 - Query utilizada para visualizar o número de idosos vacinados menores que 200 */\n",
        "\n",
        "spark.sql('SELECT Data, Condado, Vacinas_Dia_65 FROM vacinacao WHERE Vacinas_Dia_65 < 200').show()"
      ],
      "execution_count": null,
      "outputs": [
        {
          "output_type": "stream",
          "name": "stdout",
          "text": [
            "+----------+----------------+--------------+\n",
            "|      Data|         Condado|Vacinas_Dia_65|\n",
            "+----------+----------------+--------------+\n",
            "|2021-09-10|New Haven County|          68.0|\n",
            "|2021-10-10|New Haven County|          45.0|\n",
            "|2021-11-10|New Haven County|          57.0|\n",
            "|2021-12-10|New Haven County|          17.0|\n",
            "|2021-10-13|New Haven County|          38.0|\n",
            "|2021-10-14|New Haven County|          66.0|\n",
            "|2021-10-15|New Haven County|          64.0|\n",
            "|2021-10-16|New Haven County|          50.0|\n",
            "|2021-10-17|New Haven County|          45.0|\n",
            "|2021-10-18|New Haven County|           5.0|\n",
            "|2021-10-19|New Haven County|          42.0|\n",
            "|2021-10-20|New Haven County|          37.0|\n",
            "|2021-10-21|New Haven County|          46.0|\n",
            "|2021-10-22|New Haven County|          76.0|\n",
            "|2021-10-23|New Haven County|          40.0|\n",
            "|2021-10-24|New Haven County|           3.0|\n",
            "|2021-10-25|New Haven County|          85.0|\n",
            "|2021-10-26|New Haven County|          17.0|\n",
            "|2021-10-27|New Haven County|          48.0|\n",
            "|2021-10-28|New Haven County|          72.0|\n",
            "+----------+----------------+--------------+\n",
            "only showing top 20 rows\n",
            "\n"
          ]
        }
      ]
    },
    {
      "cell_type": "code",
      "metadata": {
        "colab": {
          "base_uri": "https://localhost:8080/"
        },
        "id": "iokFxexCs-VW",
        "outputId": "c9e958d7-e8b7-4b4d-9e50-2d05117c529b"
      },
      "source": [
        "#5 - Query para verificar Porcentagem Máxima de Vacinação 65+ agrupado por Condado */\n",
        "\n",
        "spark.sql('SELECT Condado, MAX(Porcentagem_total_65) AS Porcentagem_Total_65_Maxima FROM vacinacao GROUP BY Condado ORDER BY Porcentagem_Total_65_Maxima ASC').show()"
      ],
      "execution_count": null,
      "outputs": [
        {
          "output_type": "stream",
          "name": "stdout",
          "text": [
            "+----------------+---------------------------+\n",
            "|         Condado|Porcentagem_Total_65_Maxima|\n",
            "+----------------+---------------------------+\n",
            "|New Haven County|                       91.4|\n",
            "|Fairfield County|                       92.0|\n",
            "| Hartford County|                       93.6|\n",
            "+----------------+---------------------------+\n",
            "\n"
          ]
        }
      ]
    },
    {
      "cell_type": "code",
      "metadata": {
        "id": "rob_nvJuwU-e"
      },
      "source": [
        ""
      ],
      "execution_count": null,
      "outputs": []
    }
  ]
}