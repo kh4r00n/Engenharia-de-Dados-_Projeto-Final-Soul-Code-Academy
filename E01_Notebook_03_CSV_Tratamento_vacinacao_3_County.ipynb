{
  "nbformat": 4,
  "nbformat_minor": 0,
  "metadata": {
    "colab": {
      "name": "Tratamento_vacinacao_3_County",
      "provenance": [],
      "collapsed_sections": []
    },
    "kernelspec": {
      "name": "python3",
      "display_name": "Python 3"
    },
    "language_info": {
      "name": "python"
    }
  },
  "cells": [
    {
      "cell_type": "markdown",
      "metadata": {
        "id": "6soZRLR-tg6j"
      },
      "source": [
        "# Importando Bibliotecas para a utlização do pandas e para acessar o bucket do GCP"
      ]
    },
    {
      "cell_type": "code",
      "metadata": {
        "id": "wybG6hz57lBO"
      },
      "source": [
        "from google.cloud import storage\n",
        "import pandas as pd\n",
        "import io\n",
        "from io import BytesIO"
      ],
      "execution_count": null,
      "outputs": []
    },
    {
      "cell_type": "code",
      "metadata": {
        "id": "YPeEdwL27njd"
      },
      "source": [
        "# Criando o client object\n",
        "\n",
        "storage_client = storage.Client.from_service_account_json(\"/content/projeto-finalsc01-b94741ddd471.json\")"
      ],
      "execution_count": null,
      "outputs": []
    },
    {
      "cell_type": "markdown",
      "metadata": {
        "id": "OiE68OBttpzJ"
      },
      "source": [
        "# Acessando o Bucket do Projeto"
      ]
    },
    {
      "cell_type": "code",
      "metadata": {
        "id": "-Z1aVkOI7qN0"
      },
      "source": [
        "BUCKET_NAME = 'projeto-finalsc01'\n",
        "\n",
        "bucket = storage_client.get_bucket(BUCKET_NAME)"
      ],
      "execution_count": null,
      "outputs": []
    },
    {
      "cell_type": "markdown",
      "metadata": {
        "id": "6uyKVUv1tsZ5"
      },
      "source": [
        "# Listando os arquivos contidos no Bucket"
      ]
    },
    {
      "cell_type": "code",
      "metadata": {
        "colab": {
          "base_uri": "https://localhost:8080/"
        },
        "id": "BBT_Rydr7r2E",
        "outputId": "7d9a385a-1bec-4bd9-d246-9e5693e29d82"
      },
      "source": [
        "filename  = list(bucket.list_blobs(prefix=''))\n",
        "for name in filename:\n",
        "  print(name.name)"
      ],
      "execution_count": null,
      "outputs": [
        {
          "output_type": "stream",
          "name": "stdout",
          "text": [
            "chave/\n",
            "chave/projeto-finalsc01-b94741ddd471.json\n",
            "dados-brutos/\n",
            "dados-brutos/COVID-19_Vaccinations_in_the_United_States_County.csv\n",
            "dados-brutos/COVID_US_HOSPITALIZATION.json\n",
            "dados-tratados/\n",
            "dados-tratados/Casos_Hospitalizacoes_Obitos_Cidade.csv\n",
            "dados-tratados/Fairfield_County_Hospitalizacoes.csv\n",
            "dados-tratados/Fairfield_County_vacinacao.csv\n",
            "dados-tratados/Hartford_County_Hospitalizacoes.csv\n",
            "dados-tratados/Hartford_County_vacinacao.csv\n",
            "dados-tratados/Litchfield_County_Hospitalizacoes.csv\n",
            "dados-tratados/Middlesex_County_Hospitalizacoes.csv\n",
            "dados-tratados/New_Haven_County_Hospitalizacoes.csv\n",
            "dados-tratados/New_London_County_Hospitalizacoes.csv\n",
            "dados-tratados/New_London_County_vacinacao.csv\n",
            "dados-tratados/Tolland_County_Hospitalizacoes.csv\n",
            "dados-tratados/Vacinacoes_nos_EUA.csv\n",
            "dados-tratados/Windham_County_Hospitalizacoes.csv\n",
            "dados-tratados/vacina_8_condados_us.csv\n",
            "dados_tratados_condados/\n",
            "dados_tratados_condados/Condados_Hospitalizados.csv\n",
            "dados_tratados_condados/Fairfield_County_Hospitalizados.csv\n",
            "dados_tratados_condados/Hartford_County_Hospitalizados.csv\n",
            "dados_tratados_condados/New_Haven_County_Hospitalizados.csv\n"
          ]
        }
      ]
    },
    {
      "cell_type": "markdown",
      "metadata": {
        "id": "exUk_X4qtxSo"
      },
      "source": [
        "# Carregando o dataset .csv"
      ]
    },
    {
      "cell_type": "code",
      "metadata": {
        "id": "mW3Ingmy7sQs"
      },
      "source": [
        "blop = bucket.blob(\"dados-tratados/vacina_8_condados_us.csv\")\n",
        "data = blop.download_as_string()"
      ],
      "execution_count": null,
      "outputs": []
    },
    {
      "cell_type": "markdown",
      "metadata": {
        "id": "ddrkHiHpt0Sx"
      },
      "source": [
        "# Criando um DataFrame utilizando pandas"
      ]
    },
    {
      "cell_type": "code",
      "metadata": {
        "colab": {
          "base_uri": "https://localhost:8080/",
          "height": 669
        },
        "id": "JiTP_LjC7uvN",
        "outputId": "57f3b905-54dc-427a-8f0e-02bc1160f240"
      },
      "source": [
        "df = pd.read_csv(io.BytesIO(data), encoding='utf-8', sep=',') #, parse_dates = [\"Date\"], dayfirst = True\n",
        "\n",
        "df"
      ],
      "execution_count": null,
      "outputs": [
        {
          "output_type": "execute_result",
          "data": {
            "text/html": [
              "<div>\n",
              "<style scoped>\n",
              "    .dataframe tbody tr th:only-of-type {\n",
              "        vertical-align: middle;\n",
              "    }\n",
              "\n",
              "    .dataframe tbody tr th {\n",
              "        vertical-align: top;\n",
              "    }\n",
              "\n",
              "    .dataframe thead th {\n",
              "        text-align: right;\n",
              "    }\n",
              "</style>\n",
              "<table border=\"1\" class=\"dataframe\">\n",
              "  <thead>\n",
              "    <tr style=\"text-align: right;\">\n",
              "      <th></th>\n",
              "      <th>Data</th>\n",
              "      <th>Condado</th>\n",
              "      <th>Estado</th>\n",
              "      <th>Numero_total_vacinados</th>\n",
              "      <th>Numero_total_12+</th>\n",
              "      <th>Porcentagem_total_12+</th>\n",
              "      <th>Numero_total_18+</th>\n",
              "      <th>Porcentagem_total_18+</th>\n",
              "      <th>Numero_total_65+</th>\n",
              "      <th>Porcentagem_total_65+</th>\n",
              "      <th>Porcentagem_total_pessoas_vacinadas</th>\n",
              "      <th>Primeira_dose</th>\n",
              "      <th>Porcentagem_primeira_dose</th>\n",
              "      <th>Primeira_dose_12+</th>\n",
              "      <th>Porcentagem_primeira_dose_12+</th>\n",
              "      <th>Primeira_dose_18+</th>\n",
              "      <th>Porcentagem_primeira_dose_18+</th>\n",
              "      <th>Primeira_dose_65+</th>\n",
              "      <th>Porcentagem_primeira_dose_65+</th>\n",
              "      <th>IVS_Categoria</th>\n",
              "      <th>Porcentagem_total_pop_vacinada</th>\n",
              "      <th>Porcentagem_total_12+_IVS</th>\n",
              "      <th>Porcentagem_total_18+_IVS</th>\n",
              "      <th>Porcentagem_total_65+_IVS</th>\n",
              "      <th>Status_metropolitano</th>\n",
              "      <th>Porcentagem_total_metropolitana/NaoMetropolitana</th>\n",
              "      <th>Porcentagem_total_12+_metropolitana/NaoMetropolitana</th>\n",
              "      <th>Porcentagem_total_18+_metropolitana/NaoMetropolitana</th>\n",
              "      <th>Porcentagem_total_65+_metropolitana/NaoMetropolitana</th>\n",
              "    </tr>\n",
              "  </thead>\n",
              "  <tbody>\n",
              "    <tr>\n",
              "      <th>0</th>\n",
              "      <td>2021-11-17</td>\n",
              "      <td>New London County</td>\n",
              "      <td>CT</td>\n",
              "      <td>191509</td>\n",
              "      <td>191476</td>\n",
              "      <td>82.3</td>\n",
              "      <td>179302</td>\n",
              "      <td>83.7</td>\n",
              "      <td>47852</td>\n",
              "      <td>96.0</td>\n",
              "      <td>98.3</td>\n",
              "      <td>213690</td>\n",
              "      <td>80.6</td>\n",
              "      <td>211699</td>\n",
              "      <td>90.9</td>\n",
              "      <td>198125</td>\n",
              "      <td>92.5</td>\n",
              "      <td>54555</td>\n",
              "      <td>99.9</td>\n",
              "      <td>B</td>\n",
              "      <td>8.0</td>\n",
              "      <td>8.0</td>\n",
              "      <td>8.0</td>\n",
              "      <td>8.0</td>\n",
              "      <td>Metropolitano</td>\n",
              "      <td>4.0</td>\n",
              "      <td>4.0</td>\n",
              "      <td>4.0</td>\n",
              "      <td>4.0</td>\n",
              "    </tr>\n",
              "    <tr>\n",
              "      <th>1</th>\n",
              "      <td>2021-11-17</td>\n",
              "      <td>Windham County</td>\n",
              "      <td>CT</td>\n",
              "      <td>68311</td>\n",
              "      <td>68301</td>\n",
              "      <td>66.9</td>\n",
              "      <td>63976</td>\n",
              "      <td>68.2</td>\n",
              "      <td>17907</td>\n",
              "      <td>89.4</td>\n",
              "      <td>98.3</td>\n",
              "      <td>75730</td>\n",
              "      <td>64.8</td>\n",
              "      <td>75334</td>\n",
              "      <td>73.7</td>\n",
              "      <td>70353</td>\n",
              "      <td>75.0</td>\n",
              "      <td>19771</td>\n",
              "      <td>98.7</td>\n",
              "      <td>B</td>\n",
              "      <td>8.0</td>\n",
              "      <td>8.0</td>\n",
              "      <td>8.0</td>\n",
              "      <td>8.0</td>\n",
              "      <td>Metropolitano</td>\n",
              "      <td>4.0</td>\n",
              "      <td>4.0</td>\n",
              "      <td>4.0</td>\n",
              "      <td>4.0</td>\n",
              "    </tr>\n",
              "    <tr>\n",
              "      <th>2</th>\n",
              "      <td>2021-11-17</td>\n",
              "      <td>Tolland County</td>\n",
              "      <td>CT</td>\n",
              "      <td>92771</td>\n",
              "      <td>92759</td>\n",
              "      <td>68.8</td>\n",
              "      <td>86639</td>\n",
              "      <td>69.4</td>\n",
              "      <td>23122</td>\n",
              "      <td>94.1</td>\n",
              "      <td>98.3</td>\n",
              "      <td>102413</td>\n",
              "      <td>67.9</td>\n",
              "      <td>101078</td>\n",
              "      <td>75.0</td>\n",
              "      <td>94408</td>\n",
              "      <td>75.6</td>\n",
              "      <td>25687</td>\n",
              "      <td>99.9</td>\n",
              "      <td>A</td>\n",
              "      <td>4.0</td>\n",
              "      <td>4.0</td>\n",
              "      <td>4.0</td>\n",
              "      <td>4.0</td>\n",
              "      <td>Metropolitano</td>\n",
              "      <td>4.0</td>\n",
              "      <td>4.0</td>\n",
              "      <td>4.0</td>\n",
              "      <td>4.0</td>\n",
              "    </tr>\n",
              "    <tr>\n",
              "      <th>3</th>\n",
              "      <td>2021-11-17</td>\n",
              "      <td>Hartford County</td>\n",
              "      <td>CT</td>\n",
              "      <td>611379</td>\n",
              "      <td>611278</td>\n",
              "      <td>79.1</td>\n",
              "      <td>567935</td>\n",
              "      <td>80.5</td>\n",
              "      <td>145498</td>\n",
              "      <td>93.6</td>\n",
              "      <td>98.3</td>\n",
              "      <td>687451</td>\n",
              "      <td>77.1</td>\n",
              "      <td>678812</td>\n",
              "      <td>87.9</td>\n",
              "      <td>629820</td>\n",
              "      <td>89.3</td>\n",
              "      <td>163867</td>\n",
              "      <td>99.9</td>\n",
              "      <td>C</td>\n",
              "      <td>12.0</td>\n",
              "      <td>12.0</td>\n",
              "      <td>12.0</td>\n",
              "      <td>12.0</td>\n",
              "      <td>Metropolitano</td>\n",
              "      <td>4.0</td>\n",
              "      <td>4.0</td>\n",
              "      <td>4.0</td>\n",
              "      <td>4.0</td>\n",
              "    </tr>\n",
              "    <tr>\n",
              "      <th>4</th>\n",
              "      <td>2021-11-17</td>\n",
              "      <td>Litchfield County</td>\n",
              "      <td>CT</td>\n",
              "      <td>126263</td>\n",
              "      <td>126237</td>\n",
              "      <td>78.6</td>\n",
              "      <td>118253</td>\n",
              "      <td>79.9</td>\n",
              "      <td>36103</td>\n",
              "      <td>91.0</td>\n",
              "      <td>98.3</td>\n",
              "      <td>140935</td>\n",
              "      <td>78.2</td>\n",
              "      <td>139495</td>\n",
              "      <td>86.8</td>\n",
              "      <td>130379</td>\n",
              "      <td>88.1</td>\n",
              "      <td>40343</td>\n",
              "      <td>99.9</td>\n",
              "      <td>A</td>\n",
              "      <td>4.0</td>\n",
              "      <td>4.0</td>\n",
              "      <td>4.0</td>\n",
              "      <td>4.0</td>\n",
              "      <td>Não Metropolitano</td>\n",
              "      <td>8.0</td>\n",
              "      <td>8.0</td>\n",
              "      <td>8.0</td>\n",
              "      <td>8.0</td>\n",
              "    </tr>\n",
              "    <tr>\n",
              "      <th>...</th>\n",
              "      <td>...</td>\n",
              "      <td>...</td>\n",
              "      <td>...</td>\n",
              "      <td>...</td>\n",
              "      <td>...</td>\n",
              "      <td>...</td>\n",
              "      <td>...</td>\n",
              "      <td>...</td>\n",
              "      <td>...</td>\n",
              "      <td>...</td>\n",
              "      <td>...</td>\n",
              "      <td>...</td>\n",
              "      <td>...</td>\n",
              "      <td>...</td>\n",
              "      <td>...</td>\n",
              "      <td>...</td>\n",
              "      <td>...</td>\n",
              "      <td>...</td>\n",
              "      <td>...</td>\n",
              "      <td>...</td>\n",
              "      <td>...</td>\n",
              "      <td>...</td>\n",
              "      <td>...</td>\n",
              "      <td>...</td>\n",
              "      <td>...</td>\n",
              "      <td>...</td>\n",
              "      <td>...</td>\n",
              "      <td>...</td>\n",
              "      <td>...</td>\n",
              "    </tr>\n",
              "    <tr>\n",
              "      <th>2723</th>\n",
              "      <td>2020-12-13</td>\n",
              "      <td>Middlesex County</td>\n",
              "      <td>CT</td>\n",
              "      <td>0</td>\n",
              "      <td>0</td>\n",
              "      <td>0.0</td>\n",
              "      <td>0</td>\n",
              "      <td>0.0</td>\n",
              "      <td>0</td>\n",
              "      <td>0.0</td>\n",
              "      <td>0.0</td>\n",
              "      <td>0</td>\n",
              "      <td>0.0</td>\n",
              "      <td>0</td>\n",
              "      <td>0.0</td>\n",
              "      <td>0</td>\n",
              "      <td>0.0</td>\n",
              "      <td>0</td>\n",
              "      <td>0.0</td>\n",
              "      <td>A</td>\n",
              "      <td>0.0</td>\n",
              "      <td>0.0</td>\n",
              "      <td>0.0</td>\n",
              "      <td>0.0</td>\n",
              "      <td>Metropolitano</td>\n",
              "      <td>0.0</td>\n",
              "      <td>0.0</td>\n",
              "      <td>0.0</td>\n",
              "      <td>0.0</td>\n",
              "    </tr>\n",
              "    <tr>\n",
              "      <th>2724</th>\n",
              "      <td>2020-12-13</td>\n",
              "      <td>Tolland County</td>\n",
              "      <td>CT</td>\n",
              "      <td>0</td>\n",
              "      <td>0</td>\n",
              "      <td>0.0</td>\n",
              "      <td>0</td>\n",
              "      <td>0.0</td>\n",
              "      <td>0</td>\n",
              "      <td>0.0</td>\n",
              "      <td>0.0</td>\n",
              "      <td>0</td>\n",
              "      <td>0.0</td>\n",
              "      <td>0</td>\n",
              "      <td>0.0</td>\n",
              "      <td>0</td>\n",
              "      <td>0.0</td>\n",
              "      <td>0</td>\n",
              "      <td>0.0</td>\n",
              "      <td>A</td>\n",
              "      <td>0.0</td>\n",
              "      <td>0.0</td>\n",
              "      <td>0.0</td>\n",
              "      <td>0.0</td>\n",
              "      <td>Metropolitano</td>\n",
              "      <td>0.0</td>\n",
              "      <td>0.0</td>\n",
              "      <td>0.0</td>\n",
              "      <td>0.0</td>\n",
              "    </tr>\n",
              "    <tr>\n",
              "      <th>2725</th>\n",
              "      <td>2020-12-13</td>\n",
              "      <td>Litchfield County</td>\n",
              "      <td>CT</td>\n",
              "      <td>0</td>\n",
              "      <td>0</td>\n",
              "      <td>0.0</td>\n",
              "      <td>0</td>\n",
              "      <td>0.0</td>\n",
              "      <td>0</td>\n",
              "      <td>0.0</td>\n",
              "      <td>0.0</td>\n",
              "      <td>0</td>\n",
              "      <td>0.0</td>\n",
              "      <td>0</td>\n",
              "      <td>0.0</td>\n",
              "      <td>0</td>\n",
              "      <td>0.0</td>\n",
              "      <td>0</td>\n",
              "      <td>0.0</td>\n",
              "      <td>A</td>\n",
              "      <td>0.0</td>\n",
              "      <td>0.0</td>\n",
              "      <td>0.0</td>\n",
              "      <td>0.0</td>\n",
              "      <td>Não Metropolitano</td>\n",
              "      <td>0.0</td>\n",
              "      <td>0.0</td>\n",
              "      <td>0.0</td>\n",
              "      <td>0.0</td>\n",
              "    </tr>\n",
              "    <tr>\n",
              "      <th>2726</th>\n",
              "      <td>2020-12-13</td>\n",
              "      <td>New Haven County</td>\n",
              "      <td>CT</td>\n",
              "      <td>0</td>\n",
              "      <td>0</td>\n",
              "      <td>0.0</td>\n",
              "      <td>0</td>\n",
              "      <td>0.0</td>\n",
              "      <td>0</td>\n",
              "      <td>0.0</td>\n",
              "      <td>0.0</td>\n",
              "      <td>0</td>\n",
              "      <td>0.0</td>\n",
              "      <td>0</td>\n",
              "      <td>0.0</td>\n",
              "      <td>0</td>\n",
              "      <td>0.0</td>\n",
              "      <td>0</td>\n",
              "      <td>0.0</td>\n",
              "      <td>C</td>\n",
              "      <td>0.0</td>\n",
              "      <td>0.0</td>\n",
              "      <td>0.0</td>\n",
              "      <td>0.0</td>\n",
              "      <td>Metropolitano</td>\n",
              "      <td>0.0</td>\n",
              "      <td>0.0</td>\n",
              "      <td>0.0</td>\n",
              "      <td>0.0</td>\n",
              "    </tr>\n",
              "    <tr>\n",
              "      <th>2727</th>\n",
              "      <td>2020-12-13</td>\n",
              "      <td>New London County</td>\n",
              "      <td>CT</td>\n",
              "      <td>0</td>\n",
              "      <td>0</td>\n",
              "      <td>0.0</td>\n",
              "      <td>0</td>\n",
              "      <td>0.0</td>\n",
              "      <td>0</td>\n",
              "      <td>0.0</td>\n",
              "      <td>0.0</td>\n",
              "      <td>0</td>\n",
              "      <td>0.0</td>\n",
              "      <td>0</td>\n",
              "      <td>0.0</td>\n",
              "      <td>0</td>\n",
              "      <td>0.0</td>\n",
              "      <td>0</td>\n",
              "      <td>0.0</td>\n",
              "      <td>B</td>\n",
              "      <td>0.0</td>\n",
              "      <td>0.0</td>\n",
              "      <td>0.0</td>\n",
              "      <td>0.0</td>\n",
              "      <td>Metropolitano</td>\n",
              "      <td>0.0</td>\n",
              "      <td>0.0</td>\n",
              "      <td>0.0</td>\n",
              "      <td>0.0</td>\n",
              "    </tr>\n",
              "  </tbody>\n",
              "</table>\n",
              "<p>2728 rows × 29 columns</p>\n",
              "</div>"
            ],
            "text/plain": [
              "            Data  ... Porcentagem_total_65+_metropolitana/NaoMetropolitana\n",
              "0     2021-11-17  ...                                                4.0  \n",
              "1     2021-11-17  ...                                                4.0  \n",
              "2     2021-11-17  ...                                                4.0  \n",
              "3     2021-11-17  ...                                                4.0  \n",
              "4     2021-11-17  ...                                                8.0  \n",
              "...          ...  ...                                                ...  \n",
              "2723  2020-12-13  ...                                                0.0  \n",
              "2724  2020-12-13  ...                                                0.0  \n",
              "2725  2020-12-13  ...                                                0.0  \n",
              "2726  2020-12-13  ...                                                0.0  \n",
              "2727  2020-12-13  ...                                                0.0  \n",
              "\n",
              "[2728 rows x 29 columns]"
            ]
          },
          "metadata": {},
          "execution_count": 9
        }
      ]
    },
    {
      "cell_type": "markdown",
      "metadata": {
        "id": "-qlc9szzt7eR"
      },
      "source": [
        "# Deletando colunas que não serão utilizadas na análise de dados"
      ]
    },
    {
      "cell_type": "code",
      "metadata": {
        "colab": {
          "base_uri": "https://localhost:8080/",
          "height": 207
        },
        "id": "8H_RW6Q8M_4f",
        "outputId": "b50fd8e9-e606-4866-d1f9-18c249b535a9"
      },
      "source": [
        "df.drop(['Numero_total_12+', 'Porcentagem_total_12+', 'Numero_total_18+', 'Porcentagem_total_18+', 'Porcentagem_total_pessoas_vacinadas', 'Primeira_dose', 'Porcentagem_primeira_dose', 'Primeira_dose_12+', 'Porcentagem_primeira_dose_12+', 'Primeira_dose_18+', 'Porcentagem_primeira_dose_18+', 'Primeira_dose_65+', 'Porcentagem_primeira_dose_65+', 'IVS_Categoria', 'Porcentagem_total_pop_vacinada', 'Porcentagem_total_12+_IVS', 'Porcentagem_total_18+_IVS', 'Porcentagem_total_65+_IVS', 'Status_metropolitano', 'Porcentagem_total_metropolitana/NaoMetropolitana', 'Porcentagem_total_12+_metropolitana/NaoMetropolitana', 'Porcentagem_total_18+_metropolitana/NaoMetropolitana', 'Porcentagem_total_65+_metropolitana/NaoMetropolitana'], axis = 1, inplace = True)\n",
        "\n",
        "df.head()"
      ],
      "execution_count": null,
      "outputs": [
        {
          "output_type": "execute_result",
          "data": {
            "text/html": [
              "<div>\n",
              "<style scoped>\n",
              "    .dataframe tbody tr th:only-of-type {\n",
              "        vertical-align: middle;\n",
              "    }\n",
              "\n",
              "    .dataframe tbody tr th {\n",
              "        vertical-align: top;\n",
              "    }\n",
              "\n",
              "    .dataframe thead th {\n",
              "        text-align: right;\n",
              "    }\n",
              "</style>\n",
              "<table border=\"1\" class=\"dataframe\">\n",
              "  <thead>\n",
              "    <tr style=\"text-align: right;\">\n",
              "      <th></th>\n",
              "      <th>Data</th>\n",
              "      <th>Condado</th>\n",
              "      <th>Estado</th>\n",
              "      <th>Numero_total_vacinados</th>\n",
              "      <th>Numero_total_65+</th>\n",
              "      <th>Porcentagem_total_65+</th>\n",
              "    </tr>\n",
              "  </thead>\n",
              "  <tbody>\n",
              "    <tr>\n",
              "      <th>0</th>\n",
              "      <td>2021-11-17</td>\n",
              "      <td>New London County</td>\n",
              "      <td>CT</td>\n",
              "      <td>191509</td>\n",
              "      <td>47852</td>\n",
              "      <td>96.0</td>\n",
              "    </tr>\n",
              "    <tr>\n",
              "      <th>1</th>\n",
              "      <td>2021-11-17</td>\n",
              "      <td>Windham County</td>\n",
              "      <td>CT</td>\n",
              "      <td>68311</td>\n",
              "      <td>17907</td>\n",
              "      <td>89.4</td>\n",
              "    </tr>\n",
              "    <tr>\n",
              "      <th>2</th>\n",
              "      <td>2021-11-17</td>\n",
              "      <td>Tolland County</td>\n",
              "      <td>CT</td>\n",
              "      <td>92771</td>\n",
              "      <td>23122</td>\n",
              "      <td>94.1</td>\n",
              "    </tr>\n",
              "    <tr>\n",
              "      <th>3</th>\n",
              "      <td>2021-11-17</td>\n",
              "      <td>Hartford County</td>\n",
              "      <td>CT</td>\n",
              "      <td>611379</td>\n",
              "      <td>145498</td>\n",
              "      <td>93.6</td>\n",
              "    </tr>\n",
              "    <tr>\n",
              "      <th>4</th>\n",
              "      <td>2021-11-17</td>\n",
              "      <td>Litchfield County</td>\n",
              "      <td>CT</td>\n",
              "      <td>126263</td>\n",
              "      <td>36103</td>\n",
              "      <td>91.0</td>\n",
              "    </tr>\n",
              "  </tbody>\n",
              "</table>\n",
              "</div>"
            ],
            "text/plain": [
              "         Data            Condado  ... Numero_total_65+  Porcentagem_total_65+\n",
              "0  2021-11-17  New London County  ...            47852                   96.0\n",
              "1  2021-11-17     Windham County  ...            17907                   89.4\n",
              "2  2021-11-17     Tolland County  ...            23122                   94.1\n",
              "3  2021-11-17    Hartford County  ...           145498                   93.6\n",
              "4  2021-11-17  Litchfield County  ...            36103                   91.0\n",
              "\n",
              "[5 rows x 6 columns]"
            ]
          },
          "metadata": {},
          "execution_count": 10
        }
      ]
    },
    {
      "cell_type": "markdown",
      "metadata": {
        "id": "ad53jeIQuJNZ"
      },
      "source": [
        "# Criando e renomeando o index"
      ]
    },
    {
      "cell_type": "code",
      "metadata": {
        "id": "hUwxKyk0WKTw"
      },
      "source": [
        "df.reset_index(inplace=True)\n",
        "df = df.rename(columns = {'index':'indice'})"
      ],
      "execution_count": null,
      "outputs": []
    },
    {
      "cell_type": "markdown",
      "metadata": {
        "id": "RP-Ae5N3usCQ"
      },
      "source": [
        "# Criando dataset's com os 3 condados com mais casos"
      ]
    },
    {
      "cell_type": "code",
      "metadata": {
        "id": "onj7nqZuXiiV"
      },
      "source": [
        "New_Haven_County = df.loc[df.Condado == 'New Haven County']\n",
        "New_Haven_County = New_Haven_County.loc[341:0:-1]\n",
        "\n",
        "bucket = storage_client.get_bucket('projeto-finalsc01')\n",
        "bucket.blob('dados-tratados/New_Haven_County_vacinacao.csv').upload_from_string(New_Haven_County.to_csv(index=False),'New_Haven_County_vacinacao.csv' )"
      ],
      "execution_count": null,
      "outputs": []
    },
    {
      "cell_type": "code",
      "metadata": {
        "id": "PA3N2BhMZlFV"
      },
      "source": [
        "New_Haven_County"
      ],
      "execution_count": null,
      "outputs": []
    },
    {
      "cell_type": "code",
      "metadata": {
        "id": "-TjoUd1tZDqP"
      },
      "source": [
        "Fairfield_County = df.loc[df.Condado == 'Fairfield County']\n",
        "Fairfield_County = Fairfield_County.loc[341:0:-1]\n",
        "\n",
        "bucket = storage_client.get_bucket('projeto-finalsc01')\n",
        "bucket.blob('dados-tratados/Fairfield_County_vacinacao.csv').upload_from_string(Fairfield_County.to_csv(index=False),'Fairfield_County_vacinacao.csv' )"
      ],
      "execution_count": null,
      "outputs": []
    },
    {
      "cell_type": "code",
      "metadata": {
        "id": "5uQHUBpDXifV"
      },
      "source": [
        "Fairfield_County"
      ],
      "execution_count": null,
      "outputs": []
    },
    {
      "cell_type": "code",
      "metadata": {
        "id": "6TfbQF1sa0l0"
      },
      "source": [
        "Hartford_County = df.loc[df.Condado == 'Hartford County']\n",
        "Hartford_County = Hartford_County.loc[341:0:-1]\n",
        "\n",
        "bucket = storage_client.get_bucket('projeto-finalsc01')\n",
        "bucket.blob('dados-tratados/Hartford_County_vacinacao.csv').upload_from_string(Hartford_County.to_csv(index=False),'Hartford_County_vacinacao.csv' )"
      ],
      "execution_count": null,
      "outputs": []
    },
    {
      "cell_type": "code",
      "metadata": {
        "id": "ejbNWzQJa2I8"
      },
      "source": [
        "Hartford_County"
      ],
      "execution_count": null,
      "outputs": []
    }
  ]
}